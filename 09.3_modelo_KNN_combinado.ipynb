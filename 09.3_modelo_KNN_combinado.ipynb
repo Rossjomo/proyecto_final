{
 "cells": [
  {
   "cell_type": "markdown",
   "id": "93a7147e-4ac5-4908-9d85-286038bf2087",
   "metadata": {},
   "source": [
    "# Importar Librarias y datos"
   ]
  },
  {
   "cell_type": "code",
   "execution_count": 1,
   "id": "81a02f99-060f-42d8-9841-af3d0a937314",
   "metadata": {},
   "outputs": [],
   "source": [
    "import pandas as pd\n",
    "import seaborn as sns\n",
    "import matplotlib.pyplot as plt\n",
    "import numpy as np   \n",
    "\n",
    "from sklearn import neighbors\n",
    "from sklearn.model_selection import train_test_split\n",
    "from sklearn.neighbors import KNeighborsClassifier\n",
    "from sklearn.metrics import classification_report, accuracy_score, confusion_matrix"
   ]
  },
  {
   "cell_type": "code",
   "execution_count": 3,
   "id": "f477213d-8d4b-4a20-829b-4072707fbcad",
   "metadata": {},
   "outputs": [],
   "source": [
    "df = pd.read_parquet(\"output_08.parquet\")"
   ]
  },
  {
   "cell_type": "code",
   "execution_count": 5,
   "id": "6e796276-84ce-4957-963b-9524e8fae5b3",
   "metadata": {},
   "outputs": [
    {
     "data": {
      "text/html": [
       "<div>\n",
       "<style scoped>\n",
       "    .dataframe tbody tr th:only-of-type {\n",
       "        vertical-align: middle;\n",
       "    }\n",
       "\n",
       "    .dataframe tbody tr th {\n",
       "        vertical-align: top;\n",
       "    }\n",
       "\n",
       "    .dataframe thead th {\n",
       "        text-align: right;\n",
       "    }\n",
       "</style>\n",
       "<table border=\"1\" class=\"dataframe\">\n",
       "  <thead>\n",
       "    <tr style=\"text-align: right;\">\n",
       "      <th></th>\n",
       "      <th>age</th>\n",
       "      <th>gender</th>\n",
       "      <th>employment_stat</th>\n",
       "      <th>wage_per_hour</th>\n",
       "      <th>working_week_per_year</th>\n",
       "      <th>occupation_code</th>\n",
       "      <th>total_employed</th>\n",
       "      <th>gains</th>\n",
       "      <th>losses</th>\n",
       "      <th>stocks_status</th>\n",
       "      <th>...</th>\n",
       "      <th>tax_status_Otro</th>\n",
       "      <th>tax_status_Single</th>\n",
       "      <th>citizenship_Native</th>\n",
       "      <th>citizenship_Otro</th>\n",
       "      <th>country_of_birth_own_US</th>\n",
       "      <th>migration_code_change_in_msa_MSA to MSA</th>\n",
       "      <th>migration_code_change_in_msa_Otro</th>\n",
       "      <th>migration_code_change_in_msa_unchanged</th>\n",
       "      <th>migration_code_change_in_reg_Otro</th>\n",
       "      <th>migration_code_change_in_reg_unchanged</th>\n",
       "    </tr>\n",
       "  </thead>\n",
       "  <tbody>\n",
       "    <tr>\n",
       "      <th>0</th>\n",
       "      <td>0.853333</td>\n",
       "      <td>1.0</td>\n",
       "      <td>0.0</td>\n",
       "      <td>0.000000</td>\n",
       "      <td>1.000000</td>\n",
       "      <td>0.000000</td>\n",
       "      <td>0.333333</td>\n",
       "      <td>0.0</td>\n",
       "      <td>0.0</td>\n",
       "      <td>0.002916</td>\n",
       "      <td>...</td>\n",
       "      <td>True</td>\n",
       "      <td>False</td>\n",
       "      <td>True</td>\n",
       "      <td>False</td>\n",
       "      <td>True</td>\n",
       "      <td>False</td>\n",
       "      <td>False</td>\n",
       "      <td>False</td>\n",
       "      <td>False</td>\n",
       "      <td>False</td>\n",
       "    </tr>\n",
       "    <tr>\n",
       "      <th>1</th>\n",
       "      <td>0.666667</td>\n",
       "      <td>1.0</td>\n",
       "      <td>0.0</td>\n",
       "      <td>0.000000</td>\n",
       "      <td>0.000000</td>\n",
       "      <td>0.000000</td>\n",
       "      <td>0.000000</td>\n",
       "      <td>0.0</td>\n",
       "      <td>0.0</td>\n",
       "      <td>0.000000</td>\n",
       "      <td>...</td>\n",
       "      <td>False</td>\n",
       "      <td>True</td>\n",
       "      <td>True</td>\n",
       "      <td>False</td>\n",
       "      <td>True</td>\n",
       "      <td>False</td>\n",
       "      <td>False</td>\n",
       "      <td>True</td>\n",
       "      <td>False</td>\n",
       "      <td>True</td>\n",
       "    </tr>\n",
       "    <tr>\n",
       "      <th>2</th>\n",
       "      <td>0.080000</td>\n",
       "      <td>0.0</td>\n",
       "      <td>0.0</td>\n",
       "      <td>0.050005</td>\n",
       "      <td>0.288462</td>\n",
       "      <td>0.565217</td>\n",
       "      <td>0.666667</td>\n",
       "      <td>0.0</td>\n",
       "      <td>0.0</td>\n",
       "      <td>0.000000</td>\n",
       "      <td>...</td>\n",
       "      <td>False</td>\n",
       "      <td>True</td>\n",
       "      <td>True</td>\n",
       "      <td>False</td>\n",
       "      <td>True</td>\n",
       "      <td>False</td>\n",
       "      <td>False</td>\n",
       "      <td>True</td>\n",
       "      <td>False</td>\n",
       "      <td>True</td>\n",
       "    </tr>\n",
       "    <tr>\n",
       "      <th>4</th>\n",
       "      <td>0.733333</td>\n",
       "      <td>0.0</td>\n",
       "      <td>0.0</td>\n",
       "      <td>0.000000</td>\n",
       "      <td>0.000000</td>\n",
       "      <td>0.000000</td>\n",
       "      <td>0.000000</td>\n",
       "      <td>0.0</td>\n",
       "      <td>0.0</td>\n",
       "      <td>0.000000</td>\n",
       "      <td>...</td>\n",
       "      <td>False</td>\n",
       "      <td>False</td>\n",
       "      <td>True</td>\n",
       "      <td>False</td>\n",
       "      <td>True</td>\n",
       "      <td>False</td>\n",
       "      <td>False</td>\n",
       "      <td>False</td>\n",
       "      <td>False</td>\n",
       "      <td>False</td>\n",
       "    </tr>\n",
       "    <tr>\n",
       "      <th>5</th>\n",
       "      <td>0.400000</td>\n",
       "      <td>0.0</td>\n",
       "      <td>0.0</td>\n",
       "      <td>0.082508</td>\n",
       "      <td>1.000000</td>\n",
       "      <td>0.673913</td>\n",
       "      <td>1.000000</td>\n",
       "      <td>0.0</td>\n",
       "      <td>0.0</td>\n",
       "      <td>0.000000</td>\n",
       "      <td>...</td>\n",
       "      <td>False</td>\n",
       "      <td>False</td>\n",
       "      <td>False</td>\n",
       "      <td>False</td>\n",
       "      <td>False</td>\n",
       "      <td>False</td>\n",
       "      <td>False</td>\n",
       "      <td>True</td>\n",
       "      <td>False</td>\n",
       "      <td>True</td>\n",
       "    </tr>\n",
       "  </tbody>\n",
       "</table>\n",
       "<p>5 rows × 46 columns</p>\n",
       "</div>"
      ],
      "text/plain": [
       "        age  gender  employment_stat  wage_per_hour  working_week_per_year  \\\n",
       "0  0.853333     1.0              0.0       0.000000               1.000000   \n",
       "1  0.666667     1.0              0.0       0.000000               0.000000   \n",
       "2  0.080000     0.0              0.0       0.050005               0.288462   \n",
       "4  0.733333     0.0              0.0       0.000000               0.000000   \n",
       "5  0.400000     0.0              0.0       0.082508               1.000000   \n",
       "\n",
       "   occupation_code  total_employed  gains  losses  stocks_status  ...  \\\n",
       "0         0.000000        0.333333    0.0     0.0       0.002916  ...   \n",
       "1         0.000000        0.000000    0.0     0.0       0.000000  ...   \n",
       "2         0.565217        0.666667    0.0     0.0       0.000000  ...   \n",
       "4         0.000000        0.000000    0.0     0.0       0.000000  ...   \n",
       "5         0.673913        1.000000    0.0     0.0       0.000000  ...   \n",
       "\n",
       "   tax_status_Otro  tax_status_Single  citizenship_Native  citizenship_Otro  \\\n",
       "0             True              False                True             False   \n",
       "1            False               True                True             False   \n",
       "2            False               True                True             False   \n",
       "4            False              False                True             False   \n",
       "5            False              False               False             False   \n",
       "\n",
       "   country_of_birth_own_US  migration_code_change_in_msa_MSA to MSA  \\\n",
       "0                     True                                    False   \n",
       "1                     True                                    False   \n",
       "2                     True                                    False   \n",
       "4                     True                                    False   \n",
       "5                    False                                    False   \n",
       "\n",
       "   migration_code_change_in_msa_Otro  migration_code_change_in_msa_unchanged  \\\n",
       "0                              False                                   False   \n",
       "1                              False                                    True   \n",
       "2                              False                                    True   \n",
       "4                              False                                   False   \n",
       "5                              False                                    True   \n",
       "\n",
       "   migration_code_change_in_reg_Otro  migration_code_change_in_reg_unchanged  \n",
       "0                              False                                   False  \n",
       "1                              False                                    True  \n",
       "2                              False                                    True  \n",
       "4                              False                                   False  \n",
       "5                              False                                    True  \n",
       "\n",
       "[5 rows x 46 columns]"
      ]
     },
     "execution_count": 5,
     "metadata": {},
     "output_type": "execute_result"
    }
   ],
   "source": [
    "df.head()"
   ]
  },
  {
   "cell_type": "code",
   "execution_count": 7,
   "id": "3e819cfb-7d10-4fe9-8d7f-89ba4714d323",
   "metadata": {},
   "outputs": [
    {
     "data": {
      "text/plain": [
       "Index(['age', 'gender', 'employment_stat', 'wage_per_hour',\n",
       "       'working_week_per_year', 'occupation_code', 'total_employed', 'gains',\n",
       "       'losses', 'stocks_status', 'income_above_limit',\n",
       "       'education_secondary_complete', 'education_secondary_incomplete',\n",
       "       'education_technical_education/university_incomplete',\n",
       "       'education_university_graduate_or_higher',\n",
       "       'marital_status_Married-civilian spouse present',\n",
       "       'marital_status_Never married', 'marital_status_Otro',\n",
       "       'marital_status_Widowed', 'race_Otro', 'race_White', 'is_hispanic_Otro',\n",
       "       'employment_commitment_Full-time schedules',\n",
       "       'employment_commitment_Not in labor force',\n",
       "       'employment_commitment_Otro',\n",
       "       'industry_code_main_Manufacturing-durable goods',\n",
       "       'industry_code_main_Not in universe or children',\n",
       "       'industry_code_main_Otro', 'industry_code_main_Retail trade',\n",
       "       'household_stat_Householder', 'household_stat_Nonfamily Householder',\n",
       "       'household_stat_Other', 'household_stat_Otro', 'household_stat_Spouse',\n",
       "       'tax_status_Joint both under 65', 'tax_status_Nonfiler',\n",
       "       'tax_status_Otro', 'tax_status_Single', 'citizenship_Native',\n",
       "       'citizenship_Otro', 'country_of_birth_own_US',\n",
       "       'migration_code_change_in_msa_MSA to MSA',\n",
       "       'migration_code_change_in_msa_Otro',\n",
       "       'migration_code_change_in_msa_unchanged',\n",
       "       'migration_code_change_in_reg_Otro',\n",
       "       'migration_code_change_in_reg_unchanged'],\n",
       "      dtype='object')"
      ]
     },
     "execution_count": 7,
     "metadata": {},
     "output_type": "execute_result"
    }
   ],
   "source": [
    "df.columns"
   ]
  },
  {
   "cell_type": "markdown",
   "id": "3c2de81f-4352-4d8c-8c66-e9fe86c625f5",
   "metadata": {},
   "source": [
    "# Combinado"
   ]
  },
  {
   "cell_type": "code",
   "execution_count": 10,
   "id": "8b775342-206a-4b21-a59a-89b9c9583ae7",
   "metadata": {},
   "outputs": [],
   "source": [
    "from imblearn.over_sampling import SMOTE\n",
    "from sklearn.ensemble import RandomForestClassifier\n",
    "from sklearn.feature_selection import RFE\n",
    "from sklearn.linear_model import LogisticRegression\n",
    "from sklearn.model_selection import train_test_split\n",
    "from sklearn.metrics import classification_report\n",
    "from imblearn.combine import SMOTETomek"
   ]
  },
  {
   "cell_type": "code",
   "execution_count": null,
   "id": "5237f43f-0b0f-4d25-ac8b-bc3f90df1c8d",
   "metadata": {},
   "outputs": [],
   "source": [
    "X = df.drop(\"income_above_limit\", axis=1)\n",
    "y = df[\"income_above_limit\"]\n",
    "\n",
    "X_resampled, y_resampled = SMOTETomek().fit_resample(X, y)\n",
    "\n",
    "model = RandomForestClassifier()\n",
    "model.fit(X_resampled, y_resampled)\n",
    "\n",
    "importances = model.feature_importances_\n",
    "feature_names = X.columns\n",
    "\n",
    "sorted_features = sorted(zip(feature_names, importances), key=lambda x: x[1], reverse=True)\n",
    "print(sorted_features)\n"
   ]
  },
  {
   "cell_type": "code",
   "execution_count": null,
   "id": "4a374224-ff56-473e-a9a5-62227e0f7d5b",
   "metadata": {},
   "outputs": [],
   "source": [
    "from sklearn.preprocessing import StandardScaler\n",
    "\n",
    "scaler = StandardScaler()\n",
    "X_resampled_scaled = scaler.fit_transform(X_resampled)  # Apply scaling\n"
   ]
  },
  {
   "cell_type": "markdown",
   "id": "6c7de04c-64dc-4b7c-84fc-23b66083874c",
   "metadata": {},
   "source": [
    "# Elegir las columnas"
   ]
  },
  {
   "cell_type": "code",
   "execution_count": null,
   "id": "88e63d1e-90ce-4b7d-b1cc-abb0cc08deeb",
   "metadata": {},
   "outputs": [],
   "source": [
    "rfe = RFE(estimator=LogisticRegression(max_iter=500), n_features_to_select=7)\n",
    "rfe.fit(X_resampled, y_resampled)\n",
    "\n",
    "selected_features = X.columns[rfe.support_]\n",
    "print(selected_features)"
   ]
  },
  {
   "cell_type": "markdown",
   "id": "85b30ea0-d573-4591-86ec-eb808bfaee8b",
   "metadata": {},
   "source": [
    "household stat es un categorica y por eso voy a añadir los de mas y pais de nacimiento"
   ]
  },
  {
   "cell_type": "code",
   "execution_count": null,
   "id": "2cad5506-44c6-4a68-820c-7a7c211cb5b7",
   "metadata": {},
   "outputs": [],
   "source": [
    "selected = ['age', 'working_week_per_year', 'occupation_code', 'gains', 'losses', \n",
    "            'stocks_status', 'household_stat_Householder', 'household_stat_Other', 'country_of_birth_own_US']"
   ]
  },
  {
   "cell_type": "markdown",
   "id": "49f4bb02-04b6-4a4e-8b24-61bfd762d623",
   "metadata": {},
   "source": [
    "# Separar por el modelo"
   ]
  },
  {
   "cell_type": "code",
   "execution_count": null,
   "id": "c6f8b052-a843-4e36-ab72-61c8f40b5eec",
   "metadata": {},
   "outputs": [],
   "source": [
    "X_train, X_test, y_train, y_test = train_test_split(X_resampled[selected], y_resampled, test_size=0.2, random_state=42)"
   ]
  },
  {
   "cell_type": "markdown",
   "id": "b8860e0e-95f2-4462-86bf-04da2374dc53",
   "metadata": {},
   "source": [
    "# Probar con varios numeros de Clusters"
   ]
  },
  {
   "cell_type": "code",
   "execution_count": null,
   "id": "60c52297-626c-4021-9705-d35909756361",
   "metadata": {},
   "outputs": [],
   "source": [
    "# La precisión sigue aumentando. Aumente el alcance y la visualización.\n",
    "\n",
    "accuracies = []\n",
    "\n",
    "for K in range(2, 10):\n",
    "    knn = KNeighborsClassifier(n_neighbors=K)\n",
    "    knn.fit(X_train, y_train)\n",
    "    \n",
    "    y_pred = knn.predict(X_test)\n",
    "    acc = accuracy_score(y_test, y_pred)\n",
    "    accuracies.append(acc)\n",
    "    #print(f\"K value: {K}\\nAccuracy: {accuracy_score(y_test, y_pred):.4f}\\n\")\n",
    "\n",
    "print(accuracies)"
   ]
  },
  {
   "cell_type": "code",
   "execution_count": null,
   "id": "42b83cf0-9309-46f0-af6f-8939ac1ab655",
   "metadata": {},
   "outputs": [],
   "source": [
    "plt.figure(figsize=(10, 5))\n",
    "plt.plot(range(2, 10), accuracies, marker='o', linestyle='-')\n",
    "plt.xlabel('K Neighbors')\n",
    "plt.ylabel('Accuracy')\n",
    "plt.title('KNN Accuracy for Different K Values')\n",
    "#plt.xticks(k_values)\n",
    "plt.grid(True)\n",
    "plt.show()"
   ]
  },
  {
   "cell_type": "markdown",
   "id": "9ffcf795-cce0-4962-9b6f-04c79173cdee",
   "metadata": {},
   "source": [
    "# Elegir numero optimo de Clusters\n",
    "\n",
    "### Mirando ese grafico **3** es que sale con lo mejor presicion"
   ]
  },
  {
   "cell_type": "code",
   "execution_count": null,
   "id": "bdbed59d-e70e-41bf-8210-5a45d25d145e",
   "metadata": {},
   "outputs": [],
   "source": [
    "k = 3\n",
    "knn = KNeighborsClassifier(n_neighbors=k)\n",
    "knn.fit(X_train, y_train)\n",
    "\n",
    "y_pred = knn.predict(X_test)\n",
    "print(f\"K value: {k}  Accuracy: {accuracy_score(y_test, y_pred):.4f}\\n\")\n",
    "print(\"\\nClassification Report:\\n\", classification_report(y_test, y_pred))"
   ]
  },
  {
   "cell_type": "code",
   "execution_count": null,
   "id": "56185040-bb39-46b5-a83b-b5c6212c5ca9",
   "metadata": {},
   "outputs": [],
   "source": [
    "from sklearn.metrics import confusion_matrix\n",
    "\n",
    "# Compute confusion matrix\n",
    "cm = confusion_matrix(y_test, y_pred)\n",
    "\n",
    "\n",
    "# Plot the confusion matrix\n",
    "plt.figure(figsize=(6, 5))\n",
    "sns.heatmap(cm, annot=True,  fmt='.2f', cmap='Blues', xticklabels=['0', '1'], yticklabels=['0', '1'])\n",
    "plt.title('Confusion Matrix (KNN)')\n",
    "plt.xlabel('Predicted Label')\n",
    "plt.ylabel('True Label')\n",
    "plt.show()"
   ]
  },
  {
   "cell_type": "code",
   "execution_count": null,
   "id": "cdce00b8-f6f9-4970-8839-60c1d8d7e19c",
   "metadata": {},
   "outputs": [],
   "source": [
    "from evaluate_model import evaluate_model\n",
    "from sklearn.metrics import roc_auc_score\n",
    "\n",
    "y_probs = knn.predict_proba(X_test)[:, 1]  \n",
    "roc_score = roc_auc_score(y_test, y_probs)\n",
    "\n",
    "knn_metrics = evaluate_model(\"KNN combined\", y_test, y_pred, roc_score)\n",
    "\n",
    "# Convert to DataFrame\n",
    "knn_df = pd.DataFrame([knn_metrics])\n",
    "\n",
    "knn_df.to_csv(\"knn_combined.csv\", index=False)"
   ]
  },
  {
   "cell_type": "markdown",
   "id": "c4dd13da-0f9f-4dd8-9991-3adc9cfd4008",
   "metadata": {},
   "source": [
    "# Elegir columanas con solver=Saga"
   ]
  },
  {
   "cell_type": "code",
   "execution_count": null,
   "id": "1b1d3c4e-8dd4-4dae-b189-94d016ad4c6c",
   "metadata": {},
   "outputs": [],
   "source": [
    "rfe = RFE(estimator=LogisticRegression(solver='saga', max_iter=500), n_features_to_select=7)\n",
    "rfe.fit(X_resampled, y_resampled)\n",
    "\n",
    "selected_features = X.columns[rfe.support_]\n",
    "print(selected_features)"
   ]
  },
  {
   "cell_type": "markdown",
   "id": "18d665cd-3a71-4640-9053-c1673d5b3699",
   "metadata": {},
   "source": [
    "household stat es un categorica y por eso voy a añadir los de mas y pais de nacimiento"
   ]
  },
  {
   "cell_type": "code",
   "execution_count": null,
   "id": "e42dd447-2363-4b99-ac6c-5f7a6dbf91b8",
   "metadata": {},
   "outputs": [],
   "source": [
    "selected = ['age', 'working_week_per_year', 'occupation_code', 'gains', 'losses',\n",
    "       'stocks_status', 'employment_commitment_Full-time schedules', 'employment_commitment_Not in labor force',\n",
    "       'employment_commitment_Otro','country_of_birth_own_US']\n",
    "       "
   ]
  },
  {
   "cell_type": "markdown",
   "id": "f3657201-70e7-426f-9f28-cfb3156232dd",
   "metadata": {},
   "source": [
    "# Separar por el modelo"
   ]
  },
  {
   "cell_type": "code",
   "execution_count": null,
   "id": "9cf1b7e1-2ea4-4b02-99bf-ea7d170f9cb0",
   "metadata": {},
   "outputs": [],
   "source": [
    "X_train, X_test, y_train, y_test = train_test_split(X_resampled[selected], y_resampled, test_size=0.2, random_state=42)"
   ]
  },
  {
   "cell_type": "markdown",
   "id": "cb185bf8-f97e-4741-8ca5-d59849e948dd",
   "metadata": {},
   "source": [
    "# Probar con varios numeros de Clusters"
   ]
  },
  {
   "cell_type": "code",
   "execution_count": null,
   "id": "efb4dd54-36cf-4785-a7e5-f3d6f29ab06a",
   "metadata": {},
   "outputs": [],
   "source": [
    "# La precisión sigue aumentando. Aumente el alcance y la visualización.\n",
    "\n",
    "accuracies = []\n",
    "\n",
    "for K in range(2, 10):\n",
    "    knn = KNeighborsClassifier(n_neighbors=K)\n",
    "    knn.fit(X_train, y_train)\n",
    "    \n",
    "    y_pred = knn.predict(X_test)\n",
    "    acc = accuracy_score(y_test, y_pred)\n",
    "    accuracies.append(acc)\n",
    "    #print(f\"K value: {K}\\nAccuracy: {accuracy_score(y_test, y_pred):.4f}\\n\")\n",
    "\n",
    "print(accuracies)"
   ]
  },
  {
   "cell_type": "code",
   "execution_count": null,
   "id": "c9eb263f-a432-4250-b9e4-91073bdac956",
   "metadata": {},
   "outputs": [],
   "source": [
    "plt.figure(figsize=(10, 5))\n",
    "plt.plot(range(2, 10), accuracies, marker='o', linestyle='-')\n",
    "plt.xlabel('K Neighbors')\n",
    "plt.ylabel('Accuracy')\n",
    "plt.title('KNN Accuracy for Different K Values')\n",
    "#plt.xticks(k_values)\n",
    "plt.grid(True)\n",
    "plt.show()"
   ]
  },
  {
   "cell_type": "markdown",
   "id": "d1c9bd4d-f43b-44e4-b3e1-dd5c6afaaa40",
   "metadata": {},
   "source": [
    "# Elegir numero optimo de Clusters\n",
    "\n",
    "### Mirando ese grafico **3** es que sale con lo mejor presicion"
   ]
  },
  {
   "cell_type": "code",
   "execution_count": null,
   "id": "9b9132ba-f286-490c-b61c-9e5be95625a6",
   "metadata": {},
   "outputs": [],
   "source": [
    "k = 3\n",
    "knn = KNeighborsClassifier(n_neighbors=k)\n",
    "knn.fit(X_train, y_train)\n",
    "\n",
    "y_pred = knn.predict(X_test)\n",
    "print(f\"K value: {k}  Accuracy: {accuracy_score(y_test, y_pred):.4f}\\n\")\n",
    "print(\"\\nClassification Report:\\n\", classification_report(y_test, y_pred))"
   ]
  },
  {
   "cell_type": "code",
   "execution_count": null,
   "id": "21bed517-2bfb-4425-b684-c05d2d53fca3",
   "metadata": {},
   "outputs": [],
   "source": [
    "from sklearn.metrics import confusion_matrix\n",
    "\n",
    "# Compute confusion matrix\n",
    "cm = confusion_matrix(y_test, y_pred)\n",
    "\n",
    "\n",
    "# Plot the confusion matrix\n",
    "plt.figure(figsize=(6, 5))\n",
    "sns.heatmap(cm, annot=True,  fmt='.2f', cmap='Blues', xticklabels=['0', '1'], yticklabels=['0', '1'])\n",
    "plt.title('Confusion Matrix (KNN)')\n",
    "plt.xlabel('Predicted Label')\n",
    "plt.ylabel('True Label')\n",
    "plt.show()"
   ]
  },
  {
   "cell_type": "code",
   "execution_count": null,
   "id": "f485f553-49d0-43af-a6b7-6840cee94ffa",
   "metadata": {},
   "outputs": [],
   "source": [
    "from evaluate_model import evaluate_model\n",
    "from sklearn.metrics import roc_auc_score\n",
    "\n",
    "y_probs = knn.predict_proba(X_test)[:, 1]  \n",
    "roc_score = roc_auc_score(y_test, y_probs)\n",
    "\n",
    "knn_metrics = evaluate_model(\"KNN combined saga\", y_test, y_pred, roc_score)\n",
    "\n",
    "# Convert to DataFrame\n",
    "knn_df = pd.DataFrame([knn_metrics])\n",
    "\n",
    "knn_df.to_csv(\"knn_combined_saga.csv\", index=False)"
   ]
  }
 ],
 "metadata": {
  "kernelspec": {
   "display_name": "Python 3 (ipykernel)",
   "language": "python",
   "name": "python3"
  },
  "language_info": {
   "codemirror_mode": {
    "name": "ipython",
    "version": 3
   },
   "file_extension": ".py",
   "mimetype": "text/x-python",
   "name": "python",
   "nbconvert_exporter": "python",
   "pygments_lexer": "ipython3",
   "version": "3.12.3"
  }
 },
 "nbformat": 4,
 "nbformat_minor": 5
}
