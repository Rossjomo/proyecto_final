{
 "cells": [
  {
   "cell_type": "markdown",
   "id": "eb62543b-fbb0-462a-bf95-c46e70530ee3",
   "metadata": {},
   "source": [
    "# Importar Librarias y datos"
   ]
  },
  {
   "cell_type": "code",
   "execution_count": 3,
   "id": "aac06e8b-781d-45d0-85c2-115ec1632720",
   "metadata": {},
   "outputs": [],
   "source": [
    "import pandas as pd\n",
    "import seaborn as sns\n",
    "import matplotlib.pyplot as plt\n",
    "import numpy as np   \n",
    "\n",
    "from sklearn import neighbors\n",
    "from sklearn.model_selection import train_test_split\n",
    "from sklearn.neighbors import KNeighborsClassifier\n",
    "from sklearn.metrics import classification_report, accuracy_score, confusion_matrix"
   ]
  },
  {
   "cell_type": "code",
   "execution_count": 4,
   "id": "5c5fabd1-370b-4d83-98f0-1ad0b94be610",
   "metadata": {},
   "outputs": [],
   "source": [
    "df = pd.read_parquet(\"output_08.parquet\")"
   ]
  },
  {
   "cell_type": "code",
   "execution_count": 5,
   "id": "f500946e-8f40-4de9-852b-9616cc56dd5f",
   "metadata": {},
   "outputs": [
    {
     "data": {
      "text/html": [
       "<div>\n",
       "<style scoped>\n",
       "    .dataframe tbody tr th:only-of-type {\n",
       "        vertical-align: middle;\n",
       "    }\n",
       "\n",
       "    .dataframe tbody tr th {\n",
       "        vertical-align: top;\n",
       "    }\n",
       "\n",
       "    .dataframe thead th {\n",
       "        text-align: right;\n",
       "    }\n",
       "</style>\n",
       "<table border=\"1\" class=\"dataframe\">\n",
       "  <thead>\n",
       "    <tr style=\"text-align: right;\">\n",
       "      <th></th>\n",
       "      <th>age</th>\n",
       "      <th>gender</th>\n",
       "      <th>employment_stat</th>\n",
       "      <th>wage_per_hour</th>\n",
       "      <th>working_week_per_year</th>\n",
       "      <th>occupation_code</th>\n",
       "      <th>total_employed</th>\n",
       "      <th>gains</th>\n",
       "      <th>losses</th>\n",
       "      <th>stocks_status</th>\n",
       "      <th>...</th>\n",
       "      <th>tax_status_Otro</th>\n",
       "      <th>tax_status_Single</th>\n",
       "      <th>citizenship_Native</th>\n",
       "      <th>citizenship_Otro</th>\n",
       "      <th>country_of_birth_own_US</th>\n",
       "      <th>migration_code_change_in_msa_MSA to MSA</th>\n",
       "      <th>migration_code_change_in_msa_Otro</th>\n",
       "      <th>migration_code_change_in_msa_unchanged</th>\n",
       "      <th>migration_code_change_in_reg_Otro</th>\n",
       "      <th>migration_code_change_in_reg_unchanged</th>\n",
       "    </tr>\n",
       "  </thead>\n",
       "  <tbody>\n",
       "    <tr>\n",
       "      <th>0</th>\n",
       "      <td>0.853333</td>\n",
       "      <td>1.0</td>\n",
       "      <td>0.0</td>\n",
       "      <td>0.000000</td>\n",
       "      <td>1.000000</td>\n",
       "      <td>0.000000</td>\n",
       "      <td>0.333333</td>\n",
       "      <td>0.0</td>\n",
       "      <td>0.0</td>\n",
       "      <td>0.002916</td>\n",
       "      <td>...</td>\n",
       "      <td>True</td>\n",
       "      <td>False</td>\n",
       "      <td>True</td>\n",
       "      <td>False</td>\n",
       "      <td>True</td>\n",
       "      <td>False</td>\n",
       "      <td>False</td>\n",
       "      <td>False</td>\n",
       "      <td>False</td>\n",
       "      <td>False</td>\n",
       "    </tr>\n",
       "    <tr>\n",
       "      <th>1</th>\n",
       "      <td>0.666667</td>\n",
       "      <td>1.0</td>\n",
       "      <td>0.0</td>\n",
       "      <td>0.000000</td>\n",
       "      <td>0.000000</td>\n",
       "      <td>0.000000</td>\n",
       "      <td>0.000000</td>\n",
       "      <td>0.0</td>\n",
       "      <td>0.0</td>\n",
       "      <td>0.000000</td>\n",
       "      <td>...</td>\n",
       "      <td>False</td>\n",
       "      <td>True</td>\n",
       "      <td>True</td>\n",
       "      <td>False</td>\n",
       "      <td>True</td>\n",
       "      <td>False</td>\n",
       "      <td>False</td>\n",
       "      <td>True</td>\n",
       "      <td>False</td>\n",
       "      <td>True</td>\n",
       "    </tr>\n",
       "    <tr>\n",
       "      <th>2</th>\n",
       "      <td>0.080000</td>\n",
       "      <td>0.0</td>\n",
       "      <td>0.0</td>\n",
       "      <td>0.050005</td>\n",
       "      <td>0.288462</td>\n",
       "      <td>0.565217</td>\n",
       "      <td>0.666667</td>\n",
       "      <td>0.0</td>\n",
       "      <td>0.0</td>\n",
       "      <td>0.000000</td>\n",
       "      <td>...</td>\n",
       "      <td>False</td>\n",
       "      <td>True</td>\n",
       "      <td>True</td>\n",
       "      <td>False</td>\n",
       "      <td>True</td>\n",
       "      <td>False</td>\n",
       "      <td>False</td>\n",
       "      <td>True</td>\n",
       "      <td>False</td>\n",
       "      <td>True</td>\n",
       "    </tr>\n",
       "    <tr>\n",
       "      <th>4</th>\n",
       "      <td>0.733333</td>\n",
       "      <td>0.0</td>\n",
       "      <td>0.0</td>\n",
       "      <td>0.000000</td>\n",
       "      <td>0.000000</td>\n",
       "      <td>0.000000</td>\n",
       "      <td>0.000000</td>\n",
       "      <td>0.0</td>\n",
       "      <td>0.0</td>\n",
       "      <td>0.000000</td>\n",
       "      <td>...</td>\n",
       "      <td>False</td>\n",
       "      <td>False</td>\n",
       "      <td>True</td>\n",
       "      <td>False</td>\n",
       "      <td>True</td>\n",
       "      <td>False</td>\n",
       "      <td>False</td>\n",
       "      <td>False</td>\n",
       "      <td>False</td>\n",
       "      <td>False</td>\n",
       "    </tr>\n",
       "    <tr>\n",
       "      <th>5</th>\n",
       "      <td>0.400000</td>\n",
       "      <td>0.0</td>\n",
       "      <td>0.0</td>\n",
       "      <td>0.082508</td>\n",
       "      <td>1.000000</td>\n",
       "      <td>0.673913</td>\n",
       "      <td>1.000000</td>\n",
       "      <td>0.0</td>\n",
       "      <td>0.0</td>\n",
       "      <td>0.000000</td>\n",
       "      <td>...</td>\n",
       "      <td>False</td>\n",
       "      <td>False</td>\n",
       "      <td>False</td>\n",
       "      <td>False</td>\n",
       "      <td>False</td>\n",
       "      <td>False</td>\n",
       "      <td>False</td>\n",
       "      <td>True</td>\n",
       "      <td>False</td>\n",
       "      <td>True</td>\n",
       "    </tr>\n",
       "  </tbody>\n",
       "</table>\n",
       "<p>5 rows × 46 columns</p>\n",
       "</div>"
      ],
      "text/plain": [
       "        age  gender  employment_stat  wage_per_hour  working_week_per_year  \\\n",
       "0  0.853333     1.0              0.0       0.000000               1.000000   \n",
       "1  0.666667     1.0              0.0       0.000000               0.000000   \n",
       "2  0.080000     0.0              0.0       0.050005               0.288462   \n",
       "4  0.733333     0.0              0.0       0.000000               0.000000   \n",
       "5  0.400000     0.0              0.0       0.082508               1.000000   \n",
       "\n",
       "   occupation_code  total_employed  gains  losses  stocks_status  ...  \\\n",
       "0         0.000000        0.333333    0.0     0.0       0.002916  ...   \n",
       "1         0.000000        0.000000    0.0     0.0       0.000000  ...   \n",
       "2         0.565217        0.666667    0.0     0.0       0.000000  ...   \n",
       "4         0.000000        0.000000    0.0     0.0       0.000000  ...   \n",
       "5         0.673913        1.000000    0.0     0.0       0.000000  ...   \n",
       "\n",
       "   tax_status_Otro  tax_status_Single  citizenship_Native  citizenship_Otro  \\\n",
       "0             True              False                True             False   \n",
       "1            False               True                True             False   \n",
       "2            False               True                True             False   \n",
       "4            False              False                True             False   \n",
       "5            False              False               False             False   \n",
       "\n",
       "   country_of_birth_own_US  migration_code_change_in_msa_MSA to MSA  \\\n",
       "0                     True                                    False   \n",
       "1                     True                                    False   \n",
       "2                     True                                    False   \n",
       "4                     True                                    False   \n",
       "5                    False                                    False   \n",
       "\n",
       "   migration_code_change_in_msa_Otro  migration_code_change_in_msa_unchanged  \\\n",
       "0                              False                                   False   \n",
       "1                              False                                    True   \n",
       "2                              False                                    True   \n",
       "4                              False                                   False   \n",
       "5                              False                                    True   \n",
       "\n",
       "   migration_code_change_in_reg_Otro  migration_code_change_in_reg_unchanged  \n",
       "0                              False                                   False  \n",
       "1                              False                                    True  \n",
       "2                              False                                    True  \n",
       "4                              False                                   False  \n",
       "5                              False                                    True  \n",
       "\n",
       "[5 rows x 46 columns]"
      ]
     },
     "execution_count": 5,
     "metadata": {},
     "output_type": "execute_result"
    }
   ],
   "source": [
    "df.head()"
   ]
  },
  {
   "cell_type": "markdown",
   "id": "0ea70b56-0633-4e66-b06c-89d3dc20d7fb",
   "metadata": {},
   "source": [
    "# Modelo"
   ]
  },
  {
   "cell_type": "code",
   "execution_count": 7,
   "id": "308f554f-7a69-4731-aa00-27b07d881f5f",
   "metadata": {},
   "outputs": [
    {
     "data": {
      "text/plain": [
       "Index(['age', 'gender', 'employment_stat', 'wage_per_hour',\n",
       "       'working_week_per_year', 'occupation_code', 'total_employed', 'gains',\n",
       "       'losses', 'stocks_status', 'income_above_limit',\n",
       "       'education_secondary_complete', 'education_secondary_incomplete',\n",
       "       'education_technical_education/university_incomplete',\n",
       "       'education_university_graduate_or_higher',\n",
       "       'marital_status_Married-civilian spouse present',\n",
       "       'marital_status_Never married', 'marital_status_Otro',\n",
       "       'marital_status_Widowed', 'race_Otro', 'race_White', 'is_hispanic_Otro',\n",
       "       'employment_commitment_Full-time schedules',\n",
       "       'employment_commitment_Not in labor force',\n",
       "       'employment_commitment_Otro',\n",
       "       'industry_code_main_Manufacturing-durable goods',\n",
       "       'industry_code_main_Not in universe or children',\n",
       "       'industry_code_main_Otro', 'industry_code_main_Retail trade',\n",
       "       'household_stat_Householder', 'household_stat_Nonfamily Householder',\n",
       "       'household_stat_Other', 'household_stat_Otro', 'household_stat_Spouse',\n",
       "       'tax_status_Joint both under 65', 'tax_status_Nonfiler',\n",
       "       'tax_status_Otro', 'tax_status_Single', 'citizenship_Native',\n",
       "       'citizenship_Otro', 'country_of_birth_own_US',\n",
       "       'migration_code_change_in_msa_MSA to MSA',\n",
       "       'migration_code_change_in_msa_Otro',\n",
       "       'migration_code_change_in_msa_unchanged',\n",
       "       'migration_code_change_in_reg_Otro',\n",
       "       'migration_code_change_in_reg_unchanged'],\n",
       "      dtype='object')"
      ]
     },
     "execution_count": 7,
     "metadata": {},
     "output_type": "execute_result"
    }
   ],
   "source": [
    "df.columns"
   ]
  },
  {
   "cell_type": "markdown",
   "id": "a5d8046d-7d5f-4708-b018-ec69e4d1bea8",
   "metadata": {},
   "source": [
    "# Dividir para entrenar"
   ]
  },
  {
   "cell_type": "code",
   "execution_count": 9,
   "id": "8b516f4b-bcc9-456c-bc25-73ed3536b6c8",
   "metadata": {},
   "outputs": [],
   "source": [
    "from sklearn.model_selection import train_test_split\n",
    "\n",
    "X = df.drop(columns=['income_above_limit'])  # Features\n",
    "y = df['income_above_limit']\n",
    "\n",
    "X_train, X_test, y_train, y_test = train_test_split(X, y, test_size=0.2, random_state=42)\n"
   ]
  },
  {
   "cell_type": "markdown",
   "id": "7db5d65b-502f-4c76-be4c-741c791e00d8",
   "metadata": {},
   "source": [
    "# Train modelo"
   ]
  },
  {
   "cell_type": "code",
   "execution_count": 11,
   "id": "5b92f8e3-74c9-4ca9-9e76-82e54b1ebc2a",
   "metadata": {},
   "outputs": [
    {
     "name": "stdout",
     "output_type": "stream",
     "text": [
      "K value: 5\n",
      "Accuracy: 0.9241\n",
      "\n"
     ]
    }
   ],
   "source": [
    "# Primero comenzamos con un número aleatorio para comprobar que el modelo funciona.\n",
    "\n",
    "K = 5\n",
    "knn = KNeighborsClassifier(n_neighbors=K)  # Experiment with different values of K\n",
    "knn.fit(X_train, y_train)\n",
    "\n",
    "y_pred = knn.predict(X_test)\n",
    "print(f\"K value: {K}\\nAccuracy: {accuracy_score(y_test, y_pred):.4f}\\n\")"
   ]
  },
  {
   "cell_type": "code",
   "execution_count": 12,
   "id": "ada1742a-bc50-4a51-9924-cc777b077b48",
   "metadata": {},
   "outputs": [
    {
     "name": "stdout",
     "output_type": "stream",
     "text": [
      "[0.9250383255639333, 0.9208459781622501, 0.9265400619466257, 0.9241310264993899, 0.9281356568532365, 0.9260707693270344, 0.9273847886618903, 0.9266964928198229]\n"
     ]
    }
   ],
   "source": [
    "# La precisión sigue aumentando. Aumente el alcance y la visualización.\n",
    "\n",
    "accuracies = []\n",
    "\n",
    "for K in range(2, 10):\n",
    "    knn = KNeighborsClassifier(n_neighbors=K)\n",
    "    knn.fit(X_train, y_train)\n",
    "    \n",
    "    y_pred = knn.predict(X_test)\n",
    "    acc = accuracy_score(y_test, y_pred)\n",
    "    accuracies.append(acc)\n",
    "    #print(f\"K value: {K}\\nAccuracy: {accuracy_score(y_test, y_pred):.4f}\\n\")\n",
    "\n",
    "print(accuracies)"
   ]
  },
  {
   "cell_type": "code",
   "execution_count": 13,
   "id": "fcf37995-5278-4ccb-ab47-774a349d6680",
   "metadata": {},
   "outputs": [
    {
     "data": {
      "image/png": "[encoded data removed]",
      "text/plain": [
       "<Figure size 1000x500 with 1 Axes>"
      ]
     },
     "metadata": {},
     "output_type": "display_data"
    }
   ],
   "source": [
    "plt.figure(figsize=(10, 5))\n",
    "plt.plot(range(2, 10), accuracies, marker='o', linestyle='-')\n",
    "plt.xlabel('K Neighbors')\n",
    "plt.ylabel('Accuracy')\n",
    "plt.title('KNN Accuracy for Different K Values')\n",
    "#plt.xticks(k_values)\n",
    "plt.grid(True)\n",
    "plt.show()"
   ]
  },
  {
   "cell_type": "markdown",
   "id": "a23c4cf5-3469-4a67-bb97-ef638a25d3d0",
   "metadata": {},
   "source": [
    "## Mirando ese grafico **6** es que sale con lo mejor presicion antes de la linea se aplane."
   ]
  },
  {
   "cell_type": "markdown",
   "id": "b97e5e00-606d-42ef-b86a-2835d158b35a",
   "metadata": {},
   "source": [
    "# Resultados"
   ]
  },
  {
   "cell_type": "code",
   "execution_count": 16,
   "id": "9da29a39-e34c-49e5-a809-191cc22ebb50",
   "metadata": {},
   "outputs": [
    {
     "name": "stdout",
     "output_type": "stream",
     "text": [
      "K value: 6  Accuracy: 0.9281\n",
      "\n",
      "\n",
      "Classification Report:\n",
      "               precision    recall  f1-score   support\n",
      "\n",
      "         0.0       0.94      0.99      0.96     29405\n",
      "         1.0       0.63      0.25      0.36      2558\n",
      "\n",
      "    accuracy                           0.93     31963\n",
      "   macro avg       0.78      0.62      0.66     31963\n",
      "weighted avg       0.91      0.93      0.91     31963\n",
      "\n"
     ]
    }
   ],
   "source": [
    "k = 6\n",
    "knn = KNeighborsClassifier(n_neighbors=k)\n",
    "knn.fit(X_train, y_train)\n",
    "\n",
    "y_pred = knn.predict(X_test)\n",
    "print(f\"K value: {k}  Accuracy: {accuracy_score(y_test, y_pred):.4f}\\n\")\n",
    "print(\"\\nClassification Report:\\n\", classification_report(y_test, y_pred))"
   ]
  },
  {
   "cell_type": "code",
   "execution_count": 17,
   "id": "079292f6-ae63-4ecb-aaf0-360211ee6669",
   "metadata": {},
   "outputs": [
    {
     "data": {
      "image/png": "[encoded data removed]",
      "text/plain": [
       "<Figure size 600x500 with 2 Axes>"
      ]
     },
     "metadata": {},
     "output_type": "display_data"
    }
   ],
   "source": [
    "from sklearn.metrics import confusion_matrix\n",
    "\n",
    "# Compute confusion matrix\n",
    "cm = confusion_matrix(y_test, y_pred)\n",
    "cm_percentage = cm.astype('float') / cm.sum() * 100\n",
    "\n",
    "# Plot the confusion matrix\n",
    "plt.figure(figsize=(6, 5))\n",
    "sns.heatmap(cm_percentage, annot=True,  fmt='.2f', cmap='Blues', xticklabels=['0', '1'], yticklabels=['0', '1'])\n",
    "plt.title('Confusion Matrix (KNN)')\n",
    "plt.xlabel('Predicted Label')\n",
    "plt.ylabel('True Label')\n",
    "plt.show()"
   ]
  },
  {
   "cell_type": "markdown",
   "id": "0e180d4f-3304-44da-8ce5-33ac769228f7",
   "metadata": {},
   "source": [
    "### 1. Buen desempeño del modelo \n",
    "- Se ha utilizado un modelo **K-Nearest Neighbors (KNN)** con **K = 6**, logrando una **precisión del 92.81%** en la clasificación.  \n",
    "- La **matriz de confusión** muestra que el modelo identifica correctamente la mayoría de los casos:  \n",
    "  - **90.82%** de verdaderos positivos.  \n",
    "  - **1.18%** de verdaderos negativos.  \n",
    "  - **6.01%** de falsos positivos.  \n",
    "  - **1.99%** de falsos negativos.  \n",
    "- Aunque el modelo tiene un buen desempeño general, su capacidad para detectar la clase minoritaria (ingresos altos) es limitada.  \n",
    "\n",
    "### 2. Desbalance de clases y su impacto \n",
    "- Se observa que la **precisión para la clase mayoritaria (ingresos bajos) es muy alta (94%)**, mientras que para la clase minoritaria (ingresos altos) es **más baja (64%)**.  \n",
    "- La **recall para ingresos altos es solo del 25%**, lo que indica que el modelo tiene dificultades para identificar estos casos.  \n",
    "- Este desbalance puede afectar la utilidad del modelo en escenarios donde detectar ingresos altos es clave.  \n",
    "\n",
    "### 3. Posibles mejoras \n",
    "- Considerar técnicas de **balanceo de clases**, como sobremuestreo de la clase minoritaria o submuestreo de la clase mayoritaria.  \n",
    "- Explorar métodos de **ponderación de vecinos** para dar más importancia a ciertas observaciones en la clasificación.  \n"
   ]
  },
  {
   "cell_type": "code",
   "execution_count": 19,
   "id": "e7f9c582-ecf1-4352-bac4-6fc9585f3246",
   "metadata": {},
   "outputs": [
    {
     "data": {
      "text/plain": [
       "y_pred  y_real\n",
       "0.0     0.0       29029\n",
       "        1.0        1921\n",
       "1.0     0.0         376\n",
       "        1.0         637\n",
       "dtype: int64"
      ]
     },
     "execution_count": 19,
     "metadata": {},
     "output_type": "execute_result"
    }
   ],
   "source": [
    "pd.DataFrame({\"y_real\" : y_test, \"y_pred\": y_pred}).groupby([\"y_pred\", \"y_real\"]).size()"
   ]
  },
  {
   "cell_type": "code",
   "execution_count": 20,
   "id": "300ddaab-f4ef-4f8a-b282-32dc7209c148",
   "metadata": {},
   "outputs": [
    {
     "name": "stdout",
     "output_type": "stream",
     "text": [
      "Accuracy: 0.9281356568532365\n",
      "Sensibilidad: 0.2490226739640344\n",
      "Especificidad: 0.9872130590035708\n",
      "Negative Predictive Value (NPV): 0.9379321486268174\n"
     ]
    }
   ],
   "source": [
    "TN = cm[0][0]\n",
    "TP = cm[1][1]\n",
    "FN = cm[1][0]\n",
    "FP = cm[0][1]\n",
    "\n",
    "accuracy = (TN + TP) / (TN + TP + FN + FP)\n",
    "sensibilidad = TP / (TP + FN)\n",
    "especificidad = TN / (TN + FP)\n",
    "npv_value = TN / (TN + FN) if (TN + FN) != 0 else 0\n",
    "\n",
    "print(f\"Accuracy: {accuracy}\")\n",
    "print(f\"Sensibilidad: {sensibilidad}\")\n",
    "print(f\"Especificidad: {especificidad}\")\n",
    "print(f\"Negative Predictive Value (NPV): {npv_value}\")"
   ]
  },
  {
   "cell_type": "markdown",
   "id": "ecfde606-e827-4efe-ad34-f7723e32c621",
   "metadata": {},
   "source": [
    "## Curva ROC"
   ]
  },
  {
   "cell_type": "code",
   "execution_count": 22,
   "id": "e19e9591-736d-4e19-b625-d24849e68cd7",
   "metadata": {},
   "outputs": [],
   "source": [
    "from sklearn.metrics import roc_curve, roc_auc_score"
   ]
  },
  {
   "cell_type": "code",
   "execution_count": 23,
   "id": "5bddb0cd-fb3f-43bc-905b-5370c94eaf62",
   "metadata": {},
   "outputs": [],
   "source": [
    "# con la función roc_curve automaticamente calcula los valores de\n",
    "# sensibilidad y 1-especificidad para distintos thresholds\n",
    "y_probs = knn.predict_proba(X_test)[:, 1]\n",
    "especificidad_inv, sensibilidad, threshold = roc_curve(y_test, y_probs)"
   ]
  },
  {
   "cell_type": "code",
   "execution_count": 24,
   "id": "09ba1e90-1927-4f5d-be07-5c7aeb8df937",
   "metadata": {},
   "outputs": [
    {
     "data": {
      "text/plain": [
       "array([       inf, 1.        , 0.83333333, 0.66666667, 0.5       ,\n",
       "       0.33333333, 0.16666667, 0.        ])"
      ]
     },
     "execution_count": 24,
     "metadata": {},
     "output_type": "execute_result"
    }
   ],
   "source": [
    "threshold"
   ]
  },
  {
   "cell_type": "code",
   "execution_count": 25,
   "id": "04ad94e9-7dfd-4e77-a55a-1bd0352a46c6",
   "metadata": {},
   "outputs": [
    {
     "name": "stdout",
     "output_type": "stream",
     "text": [
      "Threshold = 0.5\n",
      "Sensibilidad = 0.38193901485535575\n",
      "Especificidad = 0.012786940996429186\n"
     ]
    }
   ],
   "source": [
    "# Find the index of the threshold closest to 0.5\n",
    "threshold_index = np.argmin(np.abs(threshold - 0.5))\n",
    "\n",
    "# Now print the values for that threshold\n",
    "print(f\"Threshold = {threshold[threshold_index]}\")\n",
    "print(f\"Sensibilidad = {sensibilidad[threshold_index]}\")  # Sensitivity (True Positive Rate)\n",
    "print(f\"Especificidad = {1 - especificidad}\")  # Specificity = 1 - False Positive Rate\n"
   ]
  },
  {
   "cell_type": "code",
   "execution_count": 26,
   "id": "2f2c2649-4dc5-4350-aee8-2f0fcc8e47cb",
   "metadata": {},
   "outputs": [
    {
     "data": {
      "text/plain": [
       "<Axes: >"
      ]
     },
     "execution_count": 26,
     "metadata": {},
     "output_type": "execute_result"
    },
    {
     "data": {
      "image/png": "[encoded data removed]",
      "text/plain": [
       "<Figure size 640x480 with 1 Axes>"
      ]
     },
     "metadata": {},
     "output_type": "display_data"
    }
   ],
   "source": [
    "recta_x = [i * 0.01 for i in range(101)]\n",
    "recta_y = recta_x\n",
    "sns.lineplot(x = especificidad_inv, y = sensibilidad)\n",
    "sns.lineplot(x = recta_x, y = recta_y, ls = \"--\", c = \"r\")"
   ]
  },
  {
   "cell_type": "markdown",
   "id": "3a0fbd98-1eed-4c42-acae-d6e7c156cfbf",
   "metadata": {},
   "source": [
    "### Calcular área abajo de la curva"
   ]
  },
  {
   "cell_type": "code",
   "execution_count": 28,
   "id": "b791cb76-93cf-4c5d-b56e-292f6855156d",
   "metadata": {},
   "outputs": [
    {
     "data": {
      "text/plain": [
       "0.8080806400171022"
      ]
     },
     "execution_count": 28,
     "metadata": {},
     "output_type": "execute_result"
    }
   ],
   "source": [
    "roc_auc_score(y_test, y_probs)"
   ]
  },
  {
   "cell_type": "markdown",
   "id": "cd091cc5-5759-4471-b96f-eed064c0df45",
   "metadata": {},
   "source": [
    "# Exportar metricas"
   ]
  },
  {
   "cell_type": "code",
   "execution_count": 40,
   "id": "3722e99b-a4bb-4898-ad23-44fb0096d80a",
   "metadata": {},
   "outputs": [
    {
     "name": "stdout",
     "output_type": "stream",
     "text": [
      "Accuracy: 0.9281\n",
      "Precision (Class 0): 0.9379 | Precision (Class 1): 0.6288\n",
      "Recall (Class 0): 0.9872 | Recall (Class 1): 0.2490\n",
      "F1 Score (Class 0): 0.9619 | F1 Score (Class 1): 0.3568\n",
      "Specificity: 0.9872\n",
      "Negative Predictive Value (NPV): 0.9379\n",
      "ROC score: 0.8081\n",
      "--------------------------------------------------\n"
     ]
    }
   ],
   "source": [
    "from evaluate_model import evaluate_model\n",
    "\n",
    "y_probs = knn.predict_proba(X_test)[:, 1]  \n",
    "roc_score = roc_auc_score(y_test, y_probs)\n",
    "\n",
    "knn_metrics = evaluate_model(\"KNN\", y_test, y_pred, roc_score)\n",
    "\n",
    "# Convert to DataFrame\n",
    "knn_df = pd.DataFrame([knn_metrics])\n",
    "\n",
    "knn_df.to_csv(\"knn.csv\", index=False)"
   ]
  },
  {
   "cell_type": "code",
   "execution_count": null,
   "id": "17d9c80e-02d5-48b9-971e-1d3388c275ba",
   "metadata": {},
   "outputs": [],
   "source": []
  }
 ],
 "metadata": {
  "kernelspec": {
   "display_name": "Python 3 (ipykernel)",
   "language": "python",
   "name": "python3"
  },
  "language_info": {
   "codemirror_mode": {
    "name": "ipython",
    "version": 3
   },
   "file_extension": ".py",
   "mimetype": "text/x-python",
   "name": "python",
   "nbconvert_exporter": "python",
   "pygments_lexer": "ipython3",
   "version": "3.12.3"
  }
 },
 "nbformat": 4,
 "nbformat_minor": 5
}
