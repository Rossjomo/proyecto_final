{
 "cells": [
  {
   "cell_type": "markdown",
   "id": "60864154-2990-4806-ac4a-0f2975065a41",
   "metadata": {},
   "source": [
    "# Importar Librarias y datos"
   ]
  },
  {
   "cell_type": "code",
   "execution_count": 175,
   "id": "6740445f-db1a-45d7-958e-bfe824552dcf",
   "metadata": {},
   "outputs": [],
   "source": [
    "import pandas as pd\n",
    "import seaborn as sns\n",
    "import matplotlib.pyplot as plt\n",
    "import numpy as np   \n",
    "import itertools\n",
    "\n",
    "from scipy.stats import chi2_contingency, ttest_ind\n",
    "from statsmodels.stats.outliers_influence import variance_inflation_factor\n",
    "import statsmodels.formula.api as smf "
   ]
  },
  {
   "cell_type": "code",
   "execution_count": 176,
   "id": "c03a36d5-5572-42dd-ab96-cd92c2fb4c34",
   "metadata": {},
   "outputs": [],
   "source": [
    "df = pd.read_parquet(\"output_02.parquet\") # no es 03 porque visualisar no ha afectado"
   ]
  },
  {
   "cell_type": "code",
   "execution_count": 177,
   "id": "c2e56a0b-2f3d-4573-8f9e-326c86f0a07d",
   "metadata": {},
   "outputs": [
    {
     "data": {
      "text/html": [
       "<div>\n",
       "<style scoped>\n",
       "    .dataframe tbody tr th:only-of-type {\n",
       "        vertical-align: middle;\n",
       "    }\n",
       "\n",
       "    .dataframe tbody tr th {\n",
       "        vertical-align: top;\n",
       "    }\n",
       "\n",
       "    .dataframe thead th {\n",
       "        text-align: right;\n",
       "    }\n",
       "</style>\n",
       "<table border=\"1\" class=\"dataframe\">\n",
       "  <thead>\n",
       "    <tr style=\"text-align: right;\">\n",
       "      <th></th>\n",
       "      <th>age</th>\n",
       "      <th>gender</th>\n",
       "      <th>education</th>\n",
       "      <th>marital_status</th>\n",
       "      <th>race</th>\n",
       "      <th>is_hispanic</th>\n",
       "      <th>employment_commitment</th>\n",
       "      <th>employment_stat</th>\n",
       "      <th>wage_per_hour</th>\n",
       "      <th>working_week_per_year</th>\n",
       "      <th>...</th>\n",
       "      <th>tax_status</th>\n",
       "      <th>gains</th>\n",
       "      <th>losses</th>\n",
       "      <th>stocks_status</th>\n",
       "      <th>citizenship</th>\n",
       "      <th>migration_year</th>\n",
       "      <th>country_of_birth_own</th>\n",
       "      <th>migration_code_change_in_msa</th>\n",
       "      <th>migration_code_change_in_reg</th>\n",
       "      <th>income_above_limit</th>\n",
       "    </tr>\n",
       "  </thead>\n",
       "  <tbody>\n",
       "    <tr>\n",
       "      <th>0</th>\n",
       "      <td>79</td>\n",
       "      <td>Female</td>\n",
       "      <td>High school graduate</td>\n",
       "      <td>Widowed</td>\n",
       "      <td>White</td>\n",
       "      <td>All other</td>\n",
       "      <td>Not in labor force</td>\n",
       "      <td>0</td>\n",
       "      <td>0</td>\n",
       "      <td>52</td>\n",
       "      <td>...</td>\n",
       "      <td>Head of household</td>\n",
       "      <td>0</td>\n",
       "      <td>0</td>\n",
       "      <td>292</td>\n",
       "      <td>Native</td>\n",
       "      <td>95</td>\n",
       "      <td>US</td>\n",
       "      <td>?</td>\n",
       "      <td>?</td>\n",
       "      <td>Below limit</td>\n",
       "    </tr>\n",
       "    <tr>\n",
       "      <th>1</th>\n",
       "      <td>65</td>\n",
       "      <td>Female</td>\n",
       "      <td>High school graduate</td>\n",
       "      <td>Widowed</td>\n",
       "      <td>White</td>\n",
       "      <td>All other</td>\n",
       "      <td>Children or Armed Forces</td>\n",
       "      <td>0</td>\n",
       "      <td>0</td>\n",
       "      <td>0</td>\n",
       "      <td>...</td>\n",
       "      <td>Single</td>\n",
       "      <td>0</td>\n",
       "      <td>0</td>\n",
       "      <td>0</td>\n",
       "      <td>Native</td>\n",
       "      <td>94</td>\n",
       "      <td>US</td>\n",
       "      <td>unchanged</td>\n",
       "      <td>unchanged</td>\n",
       "      <td>Below limit</td>\n",
       "    </tr>\n",
       "    <tr>\n",
       "      <th>2</th>\n",
       "      <td>21</td>\n",
       "      <td>Male</td>\n",
       "      <td>12th grade no diploma</td>\n",
       "      <td>Never married</td>\n",
       "      <td>Black</td>\n",
       "      <td>All other</td>\n",
       "      <td>Children or Armed Forces</td>\n",
       "      <td>0</td>\n",
       "      <td>500</td>\n",
       "      <td>15</td>\n",
       "      <td>...</td>\n",
       "      <td>Single</td>\n",
       "      <td>0</td>\n",
       "      <td>0</td>\n",
       "      <td>0</td>\n",
       "      <td>Native</td>\n",
       "      <td>94</td>\n",
       "      <td>US</td>\n",
       "      <td>unchanged</td>\n",
       "      <td>unchanged</td>\n",
       "      <td>Below limit</td>\n",
       "    </tr>\n",
       "    <tr>\n",
       "      <th>3</th>\n",
       "      <td>2</td>\n",
       "      <td>Female</td>\n",
       "      <td>Children</td>\n",
       "      <td>Never married</td>\n",
       "      <td>Asian or Pacific Islander</td>\n",
       "      <td>All other</td>\n",
       "      <td>Children or Armed Forces</td>\n",
       "      <td>0</td>\n",
       "      <td>0</td>\n",
       "      <td>0</td>\n",
       "      <td>...</td>\n",
       "      <td>Nonfiler</td>\n",
       "      <td>0</td>\n",
       "      <td>0</td>\n",
       "      <td>0</td>\n",
       "      <td>Native</td>\n",
       "      <td>94</td>\n",
       "      <td>US</td>\n",
       "      <td>unchanged</td>\n",
       "      <td>unchanged</td>\n",
       "      <td>Below limit</td>\n",
       "    </tr>\n",
       "    <tr>\n",
       "      <th>4</th>\n",
       "      <td>70</td>\n",
       "      <td>Male</td>\n",
       "      <td>High school graduate</td>\n",
       "      <td>Married-civilian spouse present</td>\n",
       "      <td>White</td>\n",
       "      <td>All other</td>\n",
       "      <td>Not in labor force</td>\n",
       "      <td>0</td>\n",
       "      <td>0</td>\n",
       "      <td>0</td>\n",
       "      <td>...</td>\n",
       "      <td>Joint both 65+</td>\n",
       "      <td>0</td>\n",
       "      <td>0</td>\n",
       "      <td>0</td>\n",
       "      <td>Native</td>\n",
       "      <td>95</td>\n",
       "      <td>US</td>\n",
       "      <td>?</td>\n",
       "      <td>?</td>\n",
       "      <td>Below limit</td>\n",
       "    </tr>\n",
       "  </tbody>\n",
       "</table>\n",
       "<p>5 rows × 24 columns</p>\n",
       "</div>"
      ],
      "text/plain": [
       "   age  gender              education                   marital_status  \\\n",
       "0   79  Female   High school graduate                          Widowed   \n",
       "1   65  Female   High school graduate                          Widowed   \n",
       "2   21    Male  12th grade no diploma                    Never married   \n",
       "3    2  Female               Children                    Never married   \n",
       "4   70    Male   High school graduate  Married-civilian spouse present   \n",
       "\n",
       "                        race is_hispanic     employment_commitment  \\\n",
       "0                      White   All other        Not in labor force   \n",
       "1                      White   All other  Children or Armed Forces   \n",
       "2                      Black   All other  Children or Armed Forces   \n",
       "3  Asian or Pacific Islander   All other  Children or Armed Forces   \n",
       "4                      White   All other        Not in labor force   \n",
       "\n",
       "   employment_stat  wage_per_hour  working_week_per_year  ...  \\\n",
       "0                0              0                     52  ...   \n",
       "1                0              0                      0  ...   \n",
       "2                0            500                     15  ...   \n",
       "3                0              0                      0  ...   \n",
       "4                0              0                      0  ...   \n",
       "\n",
       "          tax_status  gains  losses stocks_status citizenship  migration_year  \\\n",
       "0  Head of household      0       0           292      Native              95   \n",
       "1             Single      0       0             0      Native              94   \n",
       "2             Single      0       0             0      Native              94   \n",
       "3           Nonfiler      0       0             0      Native              94   \n",
       "4     Joint both 65+      0       0             0      Native              95   \n",
       "\n",
       "   country_of_birth_own  migration_code_change_in_msa  \\\n",
       "0                    US                             ?   \n",
       "1                    US                     unchanged   \n",
       "2                    US                     unchanged   \n",
       "3                    US                     unchanged   \n",
       "4                    US                             ?   \n",
       "\n",
       "  migration_code_change_in_reg  income_above_limit  \n",
       "0                            ?         Below limit  \n",
       "1                    unchanged         Below limit  \n",
       "2                    unchanged         Below limit  \n",
       "3                    unchanged         Below limit  \n",
       "4                            ?         Below limit  \n",
       "\n",
       "[5 rows x 24 columns]"
      ]
     },
     "execution_count": 177,
     "metadata": {},
     "output_type": "execute_result"
    }
   ],
   "source": [
    "df.head()"
   ]
  },
  {
   "cell_type": "markdown",
   "id": "ba40bf33-13ab-4d14-bfb7-5f7c97f4546e",
   "metadata": {},
   "source": [
    "# Modificar datos a binario"
   ]
  },
  {
   "cell_type": "code",
   "execution_count": 179,
   "id": "10d7cfa6-1302-4b09-853b-959321efa9db",
   "metadata": {},
   "outputs": [
    {
     "name": "stdout",
     "output_type": "stream",
     "text": [
      "<class 'pandas.core.frame.DataFrame'>\n",
      "RangeIndex: 209499 entries, 0 to 209498\n",
      "Data columns (total 24 columns):\n",
      " #   Column                        Non-Null Count   Dtype \n",
      "---  ------                        --------------   ----- \n",
      " 0   age                           209499 non-null  int64 \n",
      " 1   gender                        209499 non-null  object\n",
      " 2   education                     209499 non-null  object\n",
      " 3   marital_status                209499 non-null  object\n",
      " 4   race                          209499 non-null  object\n",
      " 5   is_hispanic                   209499 non-null  object\n",
      " 6   employment_commitment         209499 non-null  object\n",
      " 7   employment_stat               209499 non-null  int64 \n",
      " 8   wage_per_hour                 209499 non-null  int64 \n",
      " 9   working_week_per_year         209499 non-null  int64 \n",
      " 10  industry_code_main            209499 non-null  object\n",
      " 11  occupation_code               209499 non-null  int64 \n",
      " 12  total_employed                209499 non-null  int64 \n",
      " 13  household_stat                209499 non-null  object\n",
      " 14  tax_status                    209499 non-null  object\n",
      " 15  gains                         209499 non-null  int64 \n",
      " 16  losses                        209499 non-null  int64 \n",
      " 17  stocks_status                 209499 non-null  int64 \n",
      " 18  citizenship                   209499 non-null  object\n",
      " 19  migration_year                209499 non-null  int64 \n",
      " 20  country_of_birth_own          209499 non-null  object\n",
      " 21  migration_code_change_in_msa  209499 non-null  object\n",
      " 22  migration_code_change_in_reg  209499 non-null  object\n",
      " 23  income_above_limit            209499 non-null  object\n",
      "dtypes: int64(10), object(14)\n",
      "memory usage: 38.4+ MB\n"
     ]
    }
   ],
   "source": [
    "df.info()"
   ]
  },
  {
   "cell_type": "code",
   "execution_count": 180,
   "id": "6c3752f5-13a3-449c-a968-c1ce3191434a",
   "metadata": {},
   "outputs": [
    {
     "data": {
      "text/plain": [
       "array(['US', '?', 'El-Salvador', 'Mexico', 'Philippines', 'Cambodia',\n",
       "       'China', 'Hungary', 'Puerto-Rico', 'England', 'Dominican-Republic',\n",
       "       'Japan', 'Canada', 'Ecuador', 'Italy', 'Cuba', 'Peru', 'Taiwan',\n",
       "       'South Korea', 'Poland', 'Nicaragua', 'Germany', 'Guatemala',\n",
       "       'India', 'Ireland', 'Honduras', 'France', 'Trinadad&Tobago',\n",
       "       'Thailand', 'Iran', 'Vietnam', 'Portugal', 'Laos', 'Panama',\n",
       "       'Scotland', 'Columbia', 'Jamaica', 'Greece', 'Haiti', 'Yugoslavia',\n",
       "       'Outlying-U S (Guam USVI etc)', 'Holand-Netherlands', 'Hong Kong'],\n",
       "      dtype=object)"
      ]
     },
     "execution_count": 180,
     "metadata": {},
     "output_type": "execute_result"
    }
   ],
   "source": [
    "df['country_of_birth_own'].unique()"
   ]
  },
  {
   "cell_type": "code",
   "execution_count": 181,
   "id": "4605cf93-6dd8-4670-96e9-68d1604fe109",
   "metadata": {},
   "outputs": [
    {
     "data": {
      "text/plain": [
       "array(['US', 'Other'], dtype=object)"
      ]
     },
     "execution_count": 181,
     "metadata": {},
     "output_type": "execute_result"
    }
   ],
   "source": [
    "# change US to US & Other\n",
    "df.loc[df['country_of_birth_own'] != 'US', 'country_of_birth_own'] = 'Other'\n",
    "df['country_of_birth_own'].unique()"
   ]
  },
  {
   "cell_type": "code",
   "execution_count": 182,
   "id": "a882d9a5-c109-4e0e-9bb3-6309b54e5203",
   "metadata": {},
   "outputs": [
    {
     "data": {
      "text/plain": [
       "array(['Female', 'Male'], dtype=object)"
      ]
     },
     "execution_count": 182,
     "metadata": {},
     "output_type": "execute_result"
    }
   ],
   "source": [
    "df['gender'].unique()"
   ]
  },
  {
   "cell_type": "code",
   "execution_count": 183,
   "id": "a8a6f4cf-10f3-4332-a078-5422049a78ef",
   "metadata": {},
   "outputs": [
    {
     "name": "stderr",
     "output_type": "stream",
     "text": [
      "C:\\Users\\rossj\\AppData\\Local\\Temp\\ipykernel_45116\\3249394226.py:1: FutureWarning: Downcasting behavior in `replace` is deprecated and will be removed in a future version. To retain the old behavior, explicitly call `result.infer_objects(copy=False)`. To opt-in to the future behavior, set `pd.set_option('future.no_silent_downcasting', True)`\n",
      "  df['gender'] = df['gender'].replace({'Male':0, 'Female':1})\n"
     ]
    },
    {
     "data": {
      "text/plain": [
       "array([1, 0], dtype=int64)"
      ]
     },
     "execution_count": 183,
     "metadata": {},
     "output_type": "execute_result"
    }
   ],
   "source": [
    "df['gender'] = df['gender'].replace({'Male':0, 'Female':1})\n",
    "df['gender'].unique()"
   ]
  },
  {
   "cell_type": "code",
   "execution_count": 184,
   "id": "4a3880a0-ca5f-4dab-a3f6-3e8b94e4160c",
   "metadata": {},
   "outputs": [
    {
     "name": "stderr",
     "output_type": "stream",
     "text": [
      "C:\\Users\\rossj\\AppData\\Local\\Temp\\ipykernel_45116\\540770781.py:1: FutureWarning: Downcasting behavior in `replace` is deprecated and will be removed in a future version. To retain the old behavior, explicitly call `result.infer_objects(copy=False)`. To opt-in to the future behavior, set `pd.set_option('future.no_silent_downcasting', True)`\n",
      "  df['income_above_limit'] = df['income_above_limit'].replace({'Above limit':1, 'Below limit':0})\n"
     ]
    },
    {
     "data": {
      "text/plain": [
       "array([0, 1], dtype=int64)"
      ]
     },
     "execution_count": 184,
     "metadata": {},
     "output_type": "execute_result"
    }
   ],
   "source": [
    "df['income_above_limit'] = df['income_above_limit'].replace({'Above limit':1, 'Below limit':0})\n",
    "df['income_above_limit'].unique()"
   ]
  },
  {
   "cell_type": "markdown",
   "id": "f3e29390-6202-468c-bf19-8d8791ae54a1",
   "metadata": {
    "jp-MarkdownHeadingCollapsed": true
   },
   "source": [
    "# limpieza de valores categoricas \n",
    "\n",
    "Reducir los valores en los datos categóricos para eliminar la repetición y facilitar la manipulación de datos."
   ]
  },
  {
   "cell_type": "code",
   "execution_count": 186,
   "id": "32bd4b85-bb4d-4150-be73-bf85b780fe6e",
   "metadata": {},
   "outputs": [
    {
     "data": {
      "text/plain": [
       "array(['Householder', 'Nonfamily householder',\n",
       "       'Child 18+ never marr Not in a subfamily',\n",
       "       'Child <18 never marr not in subfamily', 'Spouse of householder',\n",
       "       'Child 18+ spouse of subfamily RP', 'Secondary individual',\n",
       "       'Child 18+ never marr RP of subfamily',\n",
       "       'Other Rel 18+ spouse of subfamily RP',\n",
       "       'Grandchild <18 never marr not in subfamily',\n",
       "       'Other Rel <18 never marr child of subfamily RP',\n",
       "       'Other Rel 18+ ever marr RP of subfamily',\n",
       "       'Other Rel 18+ ever marr not in subfamily',\n",
       "       'Child 18+ ever marr Not in a subfamily',\n",
       "       'RP of unrelated subfamily', 'Child 18+ ever marr RP of subfamily',\n",
       "       'Other Rel 18+ never marr not in subfamily',\n",
       "       'Child under 18 of RP of unrel subfamily',\n",
       "       'Grandchild <18 never marr child of subfamily RP',\n",
       "       'Grandchild 18+ never marr not in subfamily',\n",
       "       'Other Rel <18 never marr not in subfamily', 'In group quarters',\n",
       "       'Grandchild 18+ ever marr not in subfamily',\n",
       "       'Other Rel 18+ never marr RP of subfamily',\n",
       "       'Child <18 never marr RP of subfamily',\n",
       "       'Grandchild 18+ never marr RP of subfamily',\n",
       "       'Spouse of RP of unrelated subfamily',\n",
       "       'Grandchild 18+ ever marr RP of subfamily',\n",
       "       'Child <18 ever marr not in subfamily',\n",
       "       'Child <18 ever marr RP of subfamily',\n",
       "       'Other Rel <18 ever marr RP of subfamily',\n",
       "       'Grandchild 18+ spouse of subfamily RP',\n",
       "       'Child <18 spouse of subfamily RP',\n",
       "       'Other Rel <18 ever marr not in subfamily',\n",
       "       'Other Rel <18 never married RP of subfamily',\n",
       "       'Other Rel <18 spouse of subfamily RP',\n",
       "       'Grandchild <18 ever marr not in subfamily',\n",
       "       'Grandchild <18 never marr RP of subfamily'], dtype=object)"
      ]
     },
     "execution_count": 186,
     "metadata": {},
     "output_type": "execute_result"
    }
   ],
   "source": [
    "df['household_stat'].unique()"
   ]
  },
  {
   "cell_type": "code",
   "execution_count": 187,
   "id": "7967e7d3-52b6-4694-a020-2b27d2fe659e",
   "metadata": {},
   "outputs": [
    {
     "data": {
      "text/plain": [
       "array(['High school graduate', '12th grade no diploma', 'Children',\n",
       "       'Bachelors degree(BA AB BS)', '7th and 8th grade', '11th grade',\n",
       "       '9th grade', 'Masters degree(MA MS MEng MEd MSW MBA)',\n",
       "       '10th grade', 'Associates degree-academic program',\n",
       "       '1st 2nd 3rd or 4th grade', 'Some college but no degree',\n",
       "       'Less than 1st grade', 'Associates degree-occup /vocational',\n",
       "       'Prof school degree (MD DDS DVM LLB JD)', '5th or 6th grade',\n",
       "       'Doctorate degree(PhD EdD)'], dtype=object)"
      ]
     },
     "execution_count": 187,
     "metadata": {},
     "output_type": "execute_result"
    }
   ],
   "source": [
    "df['education'].unique()"
   ]
  },
  {
   "cell_type": "code",
   "execution_count": 188,
   "id": "b86ca6b3-e98b-4fbd-adbe-897f127134d9",
   "metadata": {},
   "outputs": [],
   "source": [
    "df_copia = df.copy()\n",
    "\n",
    "mapping = {\n",
    "    'High school graduate': 'secondary_complete', \n",
    "    '12th grade no diploma': 'secondary_incomplete', \n",
    "    'Children': 'child',\n",
    "    'Bachelors degree(BA AB BS)': 'university_graduate_or_higher', \n",
    "    '7th and 8th grade': 'secondary_incomplete', \n",
    "    '11th grade': 'secondary_incomplete',\n",
    "    '9th grade':'secondary_incomplete', \n",
    "    'Masters degree(MA MS MEng MEd MSW MBA)': 'university_graduate_or_higher',\n",
    "    '10th grade': 'secondary_incomplete', \n",
    "    'Associates degree-academic program': 'technical_education/university_incomplete',\n",
    "    '1st 2nd 3rd or 4th grade': 'primary', \n",
    "    'Some college but no degree': 'technical_education/university_incomplete',\n",
    "    'Less than 1st grade': 'primary', \n",
    "    'Associates degree-occup /vocational': 'technical_education/university_incomplete',\n",
    "    'Prof school degree (MD DDS DVM LLB JD)':'university_graduate_or_higher', \n",
    "    '5th or 6th grade': 'primary',\n",
    "}\n",
    "\n",
    "df_copia['education'] = df_copia['education'].replace(mapping)"
   ]
  },
  {
   "cell_type": "code",
   "execution_count": 189,
   "id": "b06d4b6f-a8e2-49c0-bfe6-e89149f8da57",
   "metadata": {},
   "outputs": [
    {
     "data": {
      "text/plain": [
       "array(['secondary_complete', 'secondary_incomplete', 'child',\n",
       "       'university_graduate_or_higher',\n",
       "       'technical_education/university_incomplete', 'primary',\n",
       "       'Doctorate degree(PhD EdD)'], dtype=object)"
      ]
     },
     "execution_count": 189,
     "metadata": {},
     "output_type": "execute_result"
    }
   ],
   "source": [
    "df_copia['education'].unique()"
   ]
  },
  {
   "cell_type": "code",
   "execution_count": 190,
   "id": "a3731136-21a0-4f9c-9adb-6056545faa50",
   "metadata": {},
   "outputs": [],
   "source": [
    "mapping = {\n",
    "    'Householder': 'Householder',\n",
    "    'Nonfamily householder': 'Nonfamily Householder',\n",
    "    'Spouse of householder': 'Spouse',\n",
    "    'Child 18+ never marr Not in a subfamily': 'Child',\n",
    "    'Child <18 never marr not in subfamily': 'Child',\n",
    "    'Other Rel 18+ spouse of subfamily RP': 'Other Relative',\n",
    "    'In group quarters': 'In Group Quarters',\n",
    "    'Child 18+ spouse of subfamily RP': 'Child', \n",
    "    'Secondary individual': 'Other',\n",
    "    'Child 18+ never marr RP of subfamily': 'Child',\n",
    "    'Other Rel 18+ spouse of subfamily RP': 'Other',\n",
    "    'Grandchild <18 never marr not in subfamily': 'Grandchild',\n",
    "    'Other Rel <18 never marr child of subfamily RP': 'Other',\n",
    "    'Other Rel 18+ ever marr RP of subfamily': 'Other',\n",
    "    'Other Rel 18+ ever marr not in subfamily': 'Other',\n",
    "    'Child 18+ ever marr Not in a subfamily': 'Child',\n",
    "    'RP of unrelated subfamily': 'Other',\n",
    "    'Child 18+ ever marr RP of subfamily': 'Child',\n",
    "    'Other Rel 18+ never marr not in subfamily': 'Other',\n",
    "    'Child under 18 of RP of unrel subfamily': 'Child',\n",
    "    'Grandchild <18 never marr child of subfamily RP': 'Grandchild',\n",
    "    'Grandchild 18+ never marr not in subfamily': 'Grandchild',\n",
    "    'Other Rel <18 never marr not in subfamily': 'Other', \n",
    "    'In group quarters': 'Group Quarters',\n",
    "    'Grandchild 18+ ever marr not in subfamily': 'Grandchild',\n",
    "    'Other Rel 18+ never marr RP of subfamily': 'Other',\n",
    "    'Child <18 never marr RP of subfamily': 'Child',\n",
    "    'Grandchild 18+ never marr RP of subfamily': 'Grandchild',\n",
    "    'Spouse of RP of unrelated subfamily': 'Spouse',\n",
    "    'Grandchild 18+ ever marr RP of subfamily': 'Grandchild',\n",
    "    'Child <18 ever marr not in subfamily': 'Child',\n",
    "    'Child <18 ever marr RP of subfamily': 'Child',\n",
    "    'Other Rel <18 ever marr RP of subfamily': 'Other',\n",
    "    'Grandchild 18+ spouse of subfamily RP': 'Grandchild',\n",
    "    'Child <18 spouse of subfamily RP': 'Child',\n",
    "    'Other Rel <18 ever marr not in subfamily': 'Other',\n",
    "    'Other Rel <18 never married RP of subfamily': 'Other',\n",
    "    'Other Rel <18 spouse of subfamily RP': 'Other',\n",
    "    'Grandchild <18 ever marr not in subfamily': 'Grandchild',\n",
    "    'Grandchild <18 never marr RP of subfamily': 'Grandchild'\n",
    "}\n",
    "df_copia['household_stat'] = df_copia['household_stat'].map(mapping).fillna('Other')"
   ]
  },
  {
   "cell_type": "code",
   "execution_count": 191,
   "id": "20fa0ec7-7194-4e64-bd7c-0c83bea08335",
   "metadata": {},
   "outputs": [
    {
     "data": {
      "text/plain": [
       "array(['Householder', 'Nonfamily Householder', 'Child', 'Spouse', 'Other',\n",
       "       'Grandchild', 'Group Quarters'], dtype=object)"
      ]
     },
     "execution_count": 191,
     "metadata": {},
     "output_type": "execute_result"
    }
   ],
   "source": [
    "df_copia['household_stat'].unique()"
   ]
  },
  {
   "cell_type": "markdown",
   "id": "110abfcb-5b8e-41dc-b7ba-74c1b7ea307b",
   "metadata": {},
   "source": [
    "# Guardar output"
   ]
  },
  {
   "cell_type": "code",
   "execution_count": 193,
   "id": "ecb71832-bbf8-47c3-92ee-468450415615",
   "metadata": {},
   "outputs": [],
   "source": [
    "df_copia.to_parquet(\"output_04.parquet\")"
   ]
  },
  {
   "cell_type": "code",
   "execution_count": null,
   "id": "6dd9da3f-7e28-47fb-9da0-1d20c21606a6",
   "metadata": {},
   "outputs": [],
   "source": []
  }
 ],
 "metadata": {
  "kernelspec": {
   "display_name": "Python 3 (ipykernel)",
   "language": "python",
   "name": "python3"
  },
  "language_info": {
   "codemirror_mode": {
    "name": "ipython",
    "version": 3
   },
   "file_extension": ".py",
   "mimetype": "text/x-python",
   "name": "python",
   "nbconvert_exporter": "python",
   "pygments_lexer": "ipython3",
   "version": "3.12.3"
  }
 },
 "nbformat": 4,
 "nbformat_minor": 5
}
