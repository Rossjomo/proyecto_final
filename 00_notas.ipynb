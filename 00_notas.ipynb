{
 "cells": [
  {
   "cell_type": "markdown",
   "id": "9fa1a50a-2c46-4ef7-be0b-4ecb8b98ffac",
   "metadata": {},
   "source": [
    "https://github.com/Rossjomo/proyecto_final/tree/main\n",
    "\n",
    "Los datos: Estos datos son de un censo de EE. UU. Del Archivo Train.csv https://www.kaggle.com/datasets/kamaumunyori/income-prediction-dataset-us-20th-century-data/data\r\n",
    "\r\n",
    "¿Gana más de 50 000 dólares? Este número es significativo porque en 2022 \"el ingreso medio fue de 40 480 dólares y el ingreso medio fue de 59 430 dólares\" (1)\r\n",
    "\r\n",
    "Esta cifra ha cambiado en los últimos años desde el promedio hasta el límite inferior de la clase media y se considera que \"50 000 dólares pueden ser un buen salario de nivel inicial\" \n",
    "Queríamos descubrir qué impacto tendría ser un migrante en los EE. UU. al ganar más de ese umbral de 50 000 dólares.\n",
    "\n",
    "(2)\r\n",
    "\r\n",
    "(1) https://en.wikipedia.org/wiki/Personal_income_in_the_United_S\n",
    "tates (2) https://www.sofi.com/learn/content/is-50k-a-good-salary/\r\n",
    "\r\n",
    "Notas: msa - Metropolitan statistial area\r\n",
    "\r\n",
    "La edad legal para trabajar en EE. UU. es de 14 años"
   ]
  },
  {
   "cell_type": "markdown",
   "id": "95364227-2754-4c67-87bb-29e77476ea55",
   "metadata": {},
   "source": [
    "# SQL connection"
   ]
  },
  {
   "cell_type": "code",
   "execution_count": 67,
   "id": "9fcbc38d-e7f8-480d-a289-b2d2b17f6e84",
   "metadata": {},
   "outputs": [],
   "source": [
    "import sqlite3\n",
    "import pandas as pd\n",
    "\n",
    "# Read the CSV file into a pandas DataFrame\n",
    "df = pd.read_csv('Train.csv')\n",
    "\n",
    "# Connect to the SQLite database (or create it if it doesn't exist)\n",
    "conn = sqlite3.connect('local_database.db')\n",
    "\n",
    "# Create the table (optional, if the table does not already exist)\n",
    "# Make sure to define the table structure based on your CSV columns.\n",
    "df.to_sql('my_table', conn, if_exists='replace', index=False)\n",
    "\n",
    "\n",
    "query_below = \"SELECT * FROM my_table WHERE income_above_limit = 'Below limit'\"\n",
    "result_below = pd.read_sql(query_below, conn)\n",
    "\n",
    "query_above = \"SELECT * FROM my_table WHERE income_above_limit = 'Above limit'\"\n",
    "result_above = pd.read_sql(query_above, conn)\n",
    "\n",
    "# Export to CSV\n",
    "result_below.to_csv('sql_query_below.csv', index=False)\n",
    "\n",
    "result_above.to_csv('sql_query_above.csv', index=False)\n",
    "\n",
    "# Close the connection\n",
    "conn.close()"
   ]
  },
  {
   "cell_type": "code",
   "execution_count": null,
   "id": "6f33c231-30f1-4b97-9698-f457da23dd1e",
   "metadata": {},
   "outputs": [],
   "source": []
  }
 ],
 "metadata": {
  "kernelspec": {
   "display_name": "Python 3 (ipykernel)",
   "language": "python",
   "name": "python3"
  },
  "language_info": {
   "codemirror_mode": {
    "name": "ipython",
    "version": 3
   },
   "file_extension": ".py",
   "mimetype": "text/x-python",
   "name": "python",
   "nbconvert_exporter": "python",
   "pygments_lexer": "ipython3",
   "version": "3.12.3"
  }
 },
 "nbformat": 4,
 "nbformat_minor": 5
}
