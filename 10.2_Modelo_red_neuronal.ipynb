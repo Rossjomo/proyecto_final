{
 "cells": [
  {
   "cell_type": "markdown",
   "id": "eb62543b-fbb0-462a-bf95-c46e70530ee3",
   "metadata": {},
   "source": [
    "# Importar Librarias y datos"
   ]
  },
  {
   "cell_type": "code",
   "execution_count": 411,
   "id": "aac06e8b-781d-45d0-85c2-115ec1632720",
   "metadata": {},
   "outputs": [],
   "source": [
    "import pandas as pd\n",
    "import seaborn as sns\n",
    "import matplotlib.pyplot as plt\n",
    "import numpy as np   \n",
    "import itertools\n",
    "import statsmodels.formula.api as smf \n",
    "import tensorflow as tf\n",
    "from scipy.stats import chi2_contingency, ttest_ind\n",
    "from statsmodels.stats.outliers_influence import variance_inflation_factor\n",
    "from tensorflow import keras\n",
    "from tensorflow.keras import layers\n",
    "from keras.optimizers import SGD \n",
    "from sklearn.model_selection import train_test_split\n",
    "from sklearn.preprocessing import LabelEncoder\n",
    "from sklearn.metrics import confusion_matrix\n",
    "from sklearn.metrics import f1_score\n",
    "from sklearn.metrics import precision_score, recall_score\n",
    "from sklearn.metrics import roc_curve"
   ]
  },
  {
   "cell_type": "code",
   "execution_count": 236,
   "id": "5c5fabd1-370b-4d83-98f0-1ad0b94be610",
   "metadata": {},
   "outputs": [],
   "source": [
    "df_final = pd.read_parquet(\"output_08.parquet\")"
   ]
  },
  {
   "cell_type": "code",
   "execution_count": 237,
   "id": "f500946e-8f40-4de9-852b-9616cc56dd5f",
   "metadata": {},
   "outputs": [
    {
     "data": {
      "text/html": [
       "<div>\n",
       "<style scoped>\n",
       "    .dataframe tbody tr th:only-of-type {\n",
       "        vertical-align: middle;\n",
       "    }\n",
       "\n",
       "    .dataframe tbody tr th {\n",
       "        vertical-align: top;\n",
       "    }\n",
       "\n",
       "    .dataframe thead th {\n",
       "        text-align: right;\n",
       "    }\n",
       "</style>\n",
       "<table border=\"1\" class=\"dataframe\">\n",
       "  <thead>\n",
       "    <tr style=\"text-align: right;\">\n",
       "      <th></th>\n",
       "      <th>age</th>\n",
       "      <th>gender</th>\n",
       "      <th>employment_stat</th>\n",
       "      <th>wage_per_hour</th>\n",
       "      <th>working_week_per_year</th>\n",
       "      <th>occupation_code</th>\n",
       "      <th>total_employed</th>\n",
       "      <th>gains</th>\n",
       "      <th>losses</th>\n",
       "      <th>stocks_status</th>\n",
       "      <th>...</th>\n",
       "      <th>tax_status_Otro</th>\n",
       "      <th>tax_status_Single</th>\n",
       "      <th>citizenship_Native</th>\n",
       "      <th>citizenship_Otro</th>\n",
       "      <th>country_of_birth_own_US</th>\n",
       "      <th>migration_code_change_in_msa_MSA to MSA</th>\n",
       "      <th>migration_code_change_in_msa_Otro</th>\n",
       "      <th>migration_code_change_in_msa_unchanged</th>\n",
       "      <th>migration_code_change_in_reg_Otro</th>\n",
       "      <th>migration_code_change_in_reg_unchanged</th>\n",
       "    </tr>\n",
       "  </thead>\n",
       "  <tbody>\n",
       "    <tr>\n",
       "      <th>0</th>\n",
       "      <td>0.853333</td>\n",
       "      <td>1.0</td>\n",
       "      <td>0.0</td>\n",
       "      <td>0.000000</td>\n",
       "      <td>1.000000</td>\n",
       "      <td>0.000000</td>\n",
       "      <td>0.333333</td>\n",
       "      <td>0.0</td>\n",
       "      <td>0.0</td>\n",
       "      <td>0.002916</td>\n",
       "      <td>...</td>\n",
       "      <td>True</td>\n",
       "      <td>False</td>\n",
       "      <td>True</td>\n",
       "      <td>False</td>\n",
       "      <td>True</td>\n",
       "      <td>False</td>\n",
       "      <td>False</td>\n",
       "      <td>False</td>\n",
       "      <td>False</td>\n",
       "      <td>False</td>\n",
       "    </tr>\n",
       "    <tr>\n",
       "      <th>1</th>\n",
       "      <td>0.666667</td>\n",
       "      <td>1.0</td>\n",
       "      <td>0.0</td>\n",
       "      <td>0.000000</td>\n",
       "      <td>0.000000</td>\n",
       "      <td>0.000000</td>\n",
       "      <td>0.000000</td>\n",
       "      <td>0.0</td>\n",
       "      <td>0.0</td>\n",
       "      <td>0.000000</td>\n",
       "      <td>...</td>\n",
       "      <td>False</td>\n",
       "      <td>True</td>\n",
       "      <td>True</td>\n",
       "      <td>False</td>\n",
       "      <td>True</td>\n",
       "      <td>False</td>\n",
       "      <td>False</td>\n",
       "      <td>True</td>\n",
       "      <td>False</td>\n",
       "      <td>True</td>\n",
       "    </tr>\n",
       "    <tr>\n",
       "      <th>2</th>\n",
       "      <td>0.080000</td>\n",
       "      <td>0.0</td>\n",
       "      <td>0.0</td>\n",
       "      <td>0.050005</td>\n",
       "      <td>0.288462</td>\n",
       "      <td>0.565217</td>\n",
       "      <td>0.666667</td>\n",
       "      <td>0.0</td>\n",
       "      <td>0.0</td>\n",
       "      <td>0.000000</td>\n",
       "      <td>...</td>\n",
       "      <td>False</td>\n",
       "      <td>True</td>\n",
       "      <td>True</td>\n",
       "      <td>False</td>\n",
       "      <td>True</td>\n",
       "      <td>False</td>\n",
       "      <td>False</td>\n",
       "      <td>True</td>\n",
       "      <td>False</td>\n",
       "      <td>True</td>\n",
       "    </tr>\n",
       "    <tr>\n",
       "      <th>4</th>\n",
       "      <td>0.733333</td>\n",
       "      <td>0.0</td>\n",
       "      <td>0.0</td>\n",
       "      <td>0.000000</td>\n",
       "      <td>0.000000</td>\n",
       "      <td>0.000000</td>\n",
       "      <td>0.000000</td>\n",
       "      <td>0.0</td>\n",
       "      <td>0.0</td>\n",
       "      <td>0.000000</td>\n",
       "      <td>...</td>\n",
       "      <td>False</td>\n",
       "      <td>False</td>\n",
       "      <td>True</td>\n",
       "      <td>False</td>\n",
       "      <td>True</td>\n",
       "      <td>False</td>\n",
       "      <td>False</td>\n",
       "      <td>False</td>\n",
       "      <td>False</td>\n",
       "      <td>False</td>\n",
       "    </tr>\n",
       "    <tr>\n",
       "      <th>5</th>\n",
       "      <td>0.400000</td>\n",
       "      <td>0.0</td>\n",
       "      <td>0.0</td>\n",
       "      <td>0.082508</td>\n",
       "      <td>1.000000</td>\n",
       "      <td>0.673913</td>\n",
       "      <td>1.000000</td>\n",
       "      <td>0.0</td>\n",
       "      <td>0.0</td>\n",
       "      <td>0.000000</td>\n",
       "      <td>...</td>\n",
       "      <td>False</td>\n",
       "      <td>False</td>\n",
       "      <td>False</td>\n",
       "      <td>False</td>\n",
       "      <td>False</td>\n",
       "      <td>False</td>\n",
       "      <td>False</td>\n",
       "      <td>True</td>\n",
       "      <td>False</td>\n",
       "      <td>True</td>\n",
       "    </tr>\n",
       "  </tbody>\n",
       "</table>\n",
       "<p>5 rows × 46 columns</p>\n",
       "</div>"
      ],
      "text/plain": [
       "        age  gender  employment_stat  wage_per_hour  working_week_per_year  \\\n",
       "0  0.853333     1.0              0.0       0.000000               1.000000   \n",
       "1  0.666667     1.0              0.0       0.000000               0.000000   \n",
       "2  0.080000     0.0              0.0       0.050005               0.288462   \n",
       "4  0.733333     0.0              0.0       0.000000               0.000000   \n",
       "5  0.400000     0.0              0.0       0.082508               1.000000   \n",
       "\n",
       "   occupation_code  total_employed  gains  losses  stocks_status  ...  \\\n",
       "0         0.000000        0.333333    0.0     0.0       0.002916  ...   \n",
       "1         0.000000        0.000000    0.0     0.0       0.000000  ...   \n",
       "2         0.565217        0.666667    0.0     0.0       0.000000  ...   \n",
       "4         0.000000        0.000000    0.0     0.0       0.000000  ...   \n",
       "5         0.673913        1.000000    0.0     0.0       0.000000  ...   \n",
       "\n",
       "   tax_status_Otro  tax_status_Single  citizenship_Native  citizenship_Otro  \\\n",
       "0             True              False                True             False   \n",
       "1            False               True                True             False   \n",
       "2            False               True                True             False   \n",
       "4            False              False                True             False   \n",
       "5            False              False               False             False   \n",
       "\n",
       "   country_of_birth_own_US  migration_code_change_in_msa_MSA to MSA  \\\n",
       "0                     True                                    False   \n",
       "1                     True                                    False   \n",
       "2                     True                                    False   \n",
       "4                     True                                    False   \n",
       "5                    False                                    False   \n",
       "\n",
       "   migration_code_change_in_msa_Otro  migration_code_change_in_msa_unchanged  \\\n",
       "0                              False                                   False   \n",
       "1                              False                                    True   \n",
       "2                              False                                    True   \n",
       "4                              False                                   False   \n",
       "5                              False                                    True   \n",
       "\n",
       "   migration_code_change_in_reg_Otro  migration_code_change_in_reg_unchanged  \n",
       "0                              False                                   False  \n",
       "1                              False                                    True  \n",
       "2                              False                                    True  \n",
       "4                              False                                   False  \n",
       "5                              False                                    True  \n",
       "\n",
       "[5 rows x 46 columns]"
      ]
     },
     "execution_count": 237,
     "metadata": {},
     "output_type": "execute_result"
    }
   ],
   "source": [
    "df_final.head()"
   ]
  },
  {
   "cell_type": "markdown",
   "id": "0288b5c7-f559-476d-81ff-035062d9b886",
   "metadata": {},
   "source": [
    "# Dividir datos en test y train 75% y 25%"
   ]
  },
  {
   "cell_type": "code",
   "execution_count": 239,
   "id": "ef173558-18e2-46a8-ab1a-638cf1150a71",
   "metadata": {},
   "outputs": [],
   "source": [
    "from imblearn.over_sampling import SMOTE\n",
    "from imblearn.combine import SMOTEENN\n",
    "from sklearn.model_selection import train_test_split\n",
    "from tensorflow.keras.models import Sequential\n",
    "from tensorflow.keras.layers import Dense, Dropout, Input\n",
    "from tensorflow.keras.optimizers import Adam\n",
    "from tensorflow.keras.callbacks import EarlyStopping\n",
    "from sklearn.metrics import classification_report, roc_auc_score"
   ]
  },
  {
   "cell_type": "code",
   "execution_count": 240,
   "id": "2ad33205-8592-4f6b-9cf1-b4fb53e11e0c",
   "metadata": {},
   "outputs": [],
   "source": [
    "# Separar variables predictoras y objetivo\n",
    "X = df_final.drop(columns=['income_above_limit'], errors='ignore')\n",
    "y = df_final['income_above_limit']"
   ]
  },
  {
   "cell_type": "code",
   "execution_count": 241,
   "id": "55c6cfd7-4736-4b78-a166-529637fe6479",
   "metadata": {},
   "outputs": [],
   "source": [
    "# 1. Dividir los datos en conjuntos de entrenamiento y prueba\n",
    "X_train, X_test, y_train, y_test = train_test_split(\n",
    "    X, y,\n",
    "    test_size=0.25,  # 25% para prueba\n",
    "    stratify=y,      # Mantener la proporción de clases\n",
    "    random_state=42\n",
    ")"
   ]
  },
  {
   "cell_type": "code",
   "execution_count": 242,
   "id": "9f012c13-33e7-4e99-9b2b-964472e179a9",
   "metadata": {},
   "outputs": [
    {
     "data": {
      "text/plain": [
       "(119860, 45)"
      ]
     },
     "execution_count": 242,
     "metadata": {},
     "output_type": "execute_result"
    }
   ],
   "source": [
    "X_train.shape"
   ]
  },
  {
   "cell_type": "markdown",
   "id": "49c49b6a-43f3-4f0b-9d49-32315a6ab72e",
   "metadata": {},
   "source": [
    "# Corregir desbalance de los datos = SMOTE + Class Weight"
   ]
  },
  {
   "cell_type": "code",
   "execution_count": 244,
   "id": "4c2f3295-c013-4de7-a352-2ba9c6a800b6",
   "metadata": {},
   "outputs": [],
   "source": [
    "# 2. Aplicar SMOTE solo al conjunto de entrenamiento\n",
    "smote = SMOTE(random_state=42)\n",
    "X_train_resampled, y_train_resampled = smote.fit_resample(X_train, y_train)"
   ]
  },
  {
   "cell_type": "code",
   "execution_count": 245,
   "id": "b385a2b7-e07d-4fe7-89a3-c3d16d3b03f8",
   "metadata": {},
   "outputs": [
    {
     "name": "stdout",
     "output_type": "stream",
     "text": [
      "Pesos de clase: {0: 1.0, 1: 1.0}\n"
     ]
    }
   ],
   "source": [
    "# 3. Calcular los pesos de clase\n",
    "class_counts = np.bincount(y_train_resampled)  # Contar muestras por clase después de SMOTE\n",
    "total_samples = class_counts.sum()\n",
    "weight_for_class_0 = total_samples / (2 * class_counts[0])  # Peso para la clase mayoritaria\n",
    "weight_for_class_1 = total_samples / (2 * class_counts[1])  # Peso para la clase minoritaria\n",
    "class_weights = {0: weight_for_class_0, 1: weight_for_class_1}\n",
    "print(\"Pesos de clase:\", class_weights)"
   ]
  },
  {
   "cell_type": "markdown",
   "id": "0ea70b56-0633-4e66-b06c-89d3dc20d7fb",
   "metadata": {},
   "source": [
    "# Definir Modelo de Red Neuronal"
   ]
  },
  {
   "cell_type": "code",
   "execution_count": 247,
   "id": "c1095389-db72-4965-ab9b-7d97a16715e9",
   "metadata": {},
   "outputs": [],
   "source": [
    "# Definir la arquitectura del modelo\n",
    "model = Sequential()\n",
    "model.add(Input(shape=(X_train_resampled.shape[1],)))  # Capa de entrada\n",
    "model.add(Dense(units=128, activation='relu'))         # Primera capa oculta\n",
    "model.add(Dropout(0.3))                                # Regularización\n",
    "model.add(Dense(units=64, activation='relu'))          # Segunda capa oculta\n",
    "model.add(Dropout(0.3))                                # Regularización\n",
    "model.add(Dense(units=1, activation='sigmoid'))        # Capa de salida"
   ]
  },
  {
   "cell_type": "code",
   "execution_count": 249,
   "id": "e44d7cc2-2a47-4989-b4d5-f830d00de102",
   "metadata": {},
   "outputs": [],
   "source": [
    "# Compilar el modelo\n",
    "model.compile(\n",
    "    optimizer=Adam(learning_rate=0.001),  # Optimizador\n",
    "    loss='binary_crossentropy',           # Función de pérdida\n",
    "    metrics=['accuracy', tf.keras.metrics.AUC(name='auc')]# Métricas\n",
    ")"
   ]
  },
  {
   "cell_type": "code",
   "execution_count": 251,
   "id": "db347be0-a8be-4716-9f47-71fb224dde37",
   "metadata": {},
   "outputs": [],
   "source": [
    "# Entrenar el modelo con Early Stopping y class_weight\n",
    "early_stopping = EarlyStopping(\n",
    "    monitor='val_loss',  # Métrica a monitorear\n",
    "    patience=5,          # Número de épocas sin mejora antes de detener\n",
    "    restore_best_weights=True  # Restaurar los mejores pesos encontrados\n",
    ")"
   ]
  },
  {
   "cell_type": "code",
   "execution_count": 252,
   "id": "9df17cc7-fc6e-4318-8976-9ce22316916f",
   "metadata": {},
   "outputs": [
    {
     "name": "stdout",
     "output_type": "stream",
     "text": [
      "Epoch 1/50\n",
      "\u001b[1m6882/6882\u001b[0m \u001b[32m━━━━━━━━━━━━━━━━━━━━\u001b[0m\u001b[37m\u001b[0m \u001b[1m11s\u001b[0m 1ms/step - accuracy: 0.8292 - auc: 0.9068 - loss: 0.3808 - val_accuracy: 0.8454 - val_auc: 0.9165 - val_loss: 0.3216\n",
      "Epoch 2/50\n",
      "\u001b[1m6882/6882\u001b[0m \u001b[32m━━━━━━━━━━━━━━━━━━━━\u001b[0m\u001b[37m\u001b[0m \u001b[1m10s\u001b[0m 1ms/step - accuracy: 0.8626 - auc: 0.9349 - loss: 0.3189 - val_accuracy: 0.8473 - val_auc: 0.9148 - val_loss: 0.3078\n",
      "Epoch 3/50\n",
      "\u001b[1m6882/6882\u001b[0m \u001b[32m━━━━━━━━━━━━━━━━━━━━\u001b[0m\u001b[37m\u001b[0m \u001b[1m10s\u001b[0m 1ms/step - accuracy: 0.8703 - auc: 0.9403 - loss: 0.3047 - val_accuracy: 0.8337 - val_auc: 0.9149 - val_loss: 0.3431\n",
      "Epoch 4/50\n",
      "\u001b[1m6882/6882\u001b[0m \u001b[32m━━━━━━━━━━━━━━━━━━━━\u001b[0m\u001b[37m\u001b[0m \u001b[1m10s\u001b[0m 1ms/step - accuracy: 0.8733 - auc: 0.9437 - loss: 0.2964 - val_accuracy: 0.8572 - val_auc: 0.9147 - val_loss: 0.2995\n",
      "Epoch 5/50\n",
      "\u001b[1m6882/6882\u001b[0m \u001b[32m━━━━━━━━━━━━━━━━━━━━\u001b[0m\u001b[37m\u001b[0m \u001b[1m10s\u001b[0m 1ms/step - accuracy: 0.8760 - auc: 0.9452 - loss: 0.2915 - val_accuracy: 0.8524 - val_auc: 0.9169 - val_loss: 0.3116\n",
      "Epoch 6/50\n",
      "\u001b[1m6882/6882\u001b[0m \u001b[32m━━━━━━━━━━━━━━━━━━━━\u001b[0m\u001b[37m\u001b[0m \u001b[1m10s\u001b[0m 1ms/step - accuracy: 0.8776 - auc: 0.9468 - loss: 0.2875 - val_accuracy: 0.8455 - val_auc: 0.9162 - val_loss: 0.3254\n",
      "Epoch 7/50\n",
      "\u001b[1m6882/6882\u001b[0m \u001b[32m━━━━━━━━━━━━━━━━━━━━\u001b[0m\u001b[37m\u001b[0m \u001b[1m10s\u001b[0m 1ms/step - accuracy: 0.8788 - auc: 0.9476 - loss: 0.2855 - val_accuracy: 0.8482 - val_auc: 0.9162 - val_loss: 0.3076\n",
      "Epoch 8/50\n",
      "\u001b[1m6882/6882\u001b[0m \u001b[32m━━━━━━━━━━━━━━━━━━━━\u001b[0m\u001b[37m\u001b[0m \u001b[1m10s\u001b[0m 1ms/step - accuracy: 0.8803 - auc: 0.9492 - loss: 0.2809 - val_accuracy: 0.8565 - val_auc: 0.9134 - val_loss: 0.2961\n",
      "Epoch 9/50\n",
      "\u001b[1m6882/6882\u001b[0m \u001b[32m━━━━━━━━━━━━━━━━━━━━\u001b[0m\u001b[37m\u001b[0m \u001b[1m10s\u001b[0m 1ms/step - accuracy: 0.8831 - auc: 0.9502 - loss: 0.2781 - val_accuracy: 0.8511 - val_auc: 0.9156 - val_loss: 0.3113\n",
      "Epoch 10/50\n",
      "\u001b[1m6882/6882\u001b[0m \u001b[32m━━━━━━━━━━━━━━━━━━━━\u001b[0m\u001b[37m\u001b[0m \u001b[1m10s\u001b[0m 1ms/step - accuracy: 0.8828 - auc: 0.9509 - loss: 0.2761 - val_accuracy: 0.8445 - val_auc: 0.9145 - val_loss: 0.3333\n",
      "Epoch 11/50\n",
      "\u001b[1m6882/6882\u001b[0m \u001b[32m━━━━━━━━━━━━━━━━━━━━\u001b[0m\u001b[37m\u001b[0m \u001b[1m10s\u001b[0m 1ms/step - accuracy: 0.8832 - auc: 0.9508 - loss: 0.2762 - val_accuracy: 0.8258 - val_auc: 0.9127 - val_loss: 0.3760\n",
      "Epoch 12/50\n",
      "\u001b[1m6882/6882\u001b[0m \u001b[32m━━━━━━━━━━━━━━━━━━━━\u001b[0m\u001b[37m\u001b[0m \u001b[1m10s\u001b[0m 1ms/step - accuracy: 0.8841 - auc: 0.9515 - loss: 0.2743 - val_accuracy: 0.8483 - val_auc: 0.9133 - val_loss: 0.3120\n",
      "Epoch 13/50\n",
      "\u001b[1m6882/6882\u001b[0m \u001b[32m━━━━━━━━━━━━━━━━━━━━\u001b[0m\u001b[37m\u001b[0m \u001b[1m10s\u001b[0m 1ms/step - accuracy: 0.8864 - auc: 0.9526 - loss: 0.2715 - val_accuracy: 0.8726 - val_auc: 0.9146 - val_loss: 0.2770\n",
      "Epoch 14/50\n",
      "\u001b[1m6882/6882\u001b[0m \u001b[32m━━━━━━━━━━━━━━━━━━━━\u001b[0m\u001b[37m\u001b[0m \u001b[1m10s\u001b[0m 1ms/step - accuracy: 0.8847 - auc: 0.9524 - loss: 0.2719 - val_accuracy: 0.8668 - val_auc: 0.9137 - val_loss: 0.2819\n",
      "Epoch 15/50\n",
      "\u001b[1m6882/6882\u001b[0m \u001b[32m━━━━━━━━━━━━━━━━━━━━\u001b[0m\u001b[37m\u001b[0m \u001b[1m10s\u001b[0m 1ms/step - accuracy: 0.8874 - auc: 0.9534 - loss: 0.2688 - val_accuracy: 0.8451 - val_auc: 0.9128 - val_loss: 0.3174\n",
      "Epoch 16/50\n",
      "\u001b[1m6882/6882\u001b[0m \u001b[32m━━━━━━━━━━━━━━━━━━━━\u001b[0m\u001b[37m\u001b[0m \u001b[1m10s\u001b[0m 1ms/step - accuracy: 0.8869 - auc: 0.9528 - loss: 0.2703 - val_accuracy: 0.8602 - val_auc: 0.9126 - val_loss: 0.3036\n",
      "Epoch 17/50\n",
      "\u001b[1m6882/6882\u001b[0m \u001b[32m━━━━━━━━━━━━━━━━━━━━\u001b[0m\u001b[37m\u001b[0m \u001b[1m10s\u001b[0m 1ms/step - accuracy: 0.8883 - auc: 0.9542 - loss: 0.2666 - val_accuracy: 0.8490 - val_auc: 0.9130 - val_loss: 0.3147\n",
      "Epoch 18/50\n",
      "\u001b[1m6882/6882\u001b[0m \u001b[32m━━━━━━━━━━━━━━━━━━━━\u001b[0m\u001b[37m\u001b[0m \u001b[1m10s\u001b[0m 1ms/step - accuracy: 0.8881 - auc: 0.9544 - loss: 0.2660 - val_accuracy: 0.8508 - val_auc: 0.9119 - val_loss: 0.3148\n"
     ]
    }
   ],
   "source": [
    "history = model.fit(\n",
    "    X_train_resampled, y_train_resampled,\n",
    "    epochs=50,\n",
    "    batch_size=32,\n",
    "    validation_data=(X_test, y_test),  # Validación con datos no resampleados\n",
    "    callbacks=[early_stopping],\n",
    "    class_weight=class_weights  # Aplicar pesos de clase\n",
    ")"
   ]
  },
  {
   "cell_type": "code",
   "execution_count": 253,
   "id": "5586802a-183c-4d86-9b20-9311df6328d7",
   "metadata": {},
   "outputs": [
    {
     "data": {
      "image/png": "[encoded data removed]",
      "text/plain": [
       "<Figure size 640x480 with 1 Axes>"
      ]
     },
     "metadata": {},
     "output_type": "display_data"
    }
   ],
   "source": [
    "# Gráfico de pérdida\n",
    "plt.plot(history.history['loss'], label='Training Loss')\n",
    "plt.legend()\n",
    "plt.title('Pérdida durante el entrenamiento')\n",
    "plt.show()"
   ]
  },
  {
   "cell_type": "code",
   "execution_count": 254,
   "id": "2dda4027-f118-46fa-84bf-92f5194b9add",
   "metadata": {},
   "outputs": [
    {
     "data": {
      "image/png": "[encoded data removed]",
      "text/plain": [
       "<Figure size 640x480 with 1 Axes>"
      ]
     },
     "metadata": {},
     "output_type": "display_data"
    }
   ],
   "source": [
    "# Gráfico de precisión \n",
    "plt.plot(history.history['accuracy'], label='Training Accuracy')\n",
    "plt.legend()\n",
    "plt.title('Precisión durante el entrenamiento')\n",
    "plt.show()"
   ]
  },
  {
   "cell_type": "markdown",
   "id": "8ef74212-0c79-44fa-b8c1-dd38027eabef",
   "metadata": {},
   "source": [
    "# Evaluación del modelo"
   ]
  },
  {
   "cell_type": "code",
   "execution_count": 255,
   "id": "481cf7bb-abbd-414b-9df0-8e644388c4d6",
   "metadata": {},
   "outputs": [
    {
     "name": "stdout",
     "output_type": "stream",
     "text": [
      "\u001b[1m1249/1249\u001b[0m \u001b[32m━━━━━━━━━━━━━━━━━━━━\u001b[0m\u001b[37m\u001b[0m \u001b[1m1s\u001b[0m 1ms/step - accuracy: 0.8715 - auc: 0.9152 - loss: 0.2779\n",
      "Loss: 0.2770\n",
      "Accuracy: 0.8726\n",
      "AUC: 0.9146\n"
     ]
    }
   ],
   "source": [
    "results = model.evaluate(X_test, y_test)  # Devuelve [loss, accuracy, auc]\n",
    "\n",
    "# Imprimir los resultados\n",
    "print(f\"Loss: {results[0]:.4f}\")\n",
    "print(f\"Accuracy: {results[1]:.4f}\")\n",
    "print(f\"AUC: {results[2]:.4f}\")"
   ]
  },
  {
   "cell_type": "code",
   "execution_count": 257,
   "id": "72d27203-b0cc-44c1-8fb1-76762c0d7e15",
   "metadata": {},
   "outputs": [
    {
     "name": "stdout",
     "output_type": "stream",
     "text": [
      "\u001b[1m1249/1249\u001b[0m \u001b[32m━━━━━━━━━━━━━━━━━━━━\u001b[0m\u001b[37m\u001b[0m \u001b[1m1s\u001b[0m 622us/step\n"
     ]
    }
   ],
   "source": [
    "prediccion_prob = model.predict(X_test)\n",
    "prediccion = (prediccion_prob > 0.5).astype(int) # Umbral de decisión"
   ]
  },
  {
   "cell_type": "code",
   "execution_count": 258,
   "id": "2af7e1c9-a89e-40d3-81be-d5cda9cf4b32",
   "metadata": {},
   "outputs": [
    {
     "data": {
      "text/plain": [
       "array([[0],\n",
       "       [0],\n",
       "       [0],\n",
       "       ...,\n",
       "       [0],\n",
       "       [0],\n",
       "       [1]])"
      ]
     },
     "execution_count": 258,
     "metadata": {},
     "output_type": "execute_result"
    }
   ],
   "source": [
    "prediccion "
   ]
  },
  {
   "cell_type": "code",
   "execution_count": 315,
   "id": "43ff6819-5216-4968-b3a7-b984342ced45",
   "metadata": {},
   "outputs": [
    {
     "data": {
      "text/html": [
       "<div>\n",
       "<style scoped>\n",
       "    .dataframe tbody tr th:only-of-type {\n",
       "        vertical-align: middle;\n",
       "    }\n",
       "\n",
       "    .dataframe tbody tr th {\n",
       "        vertical-align: top;\n",
       "    }\n",
       "\n",
       "    .dataframe thead th {\n",
       "        text-align: right;\n",
       "    }\n",
       "</style>\n",
       "<table border=\"1\" class=\"dataframe\">\n",
       "  <thead>\n",
       "    <tr style=\"text-align: right;\">\n",
       "      <th></th>\n",
       "      <th>X1</th>\n",
       "      <th>X2</th>\n",
       "      <th>Y_real</th>\n",
       "      <th>Y_Pred</th>\n",
       "    </tr>\n",
       "  </thead>\n",
       "  <tbody>\n",
       "    <tr>\n",
       "      <th>0</th>\n",
       "      <td>0.293333</td>\n",
       "      <td>1.0</td>\n",
       "      <td>0.0</td>\n",
       "      <td>0</td>\n",
       "    </tr>\n",
       "    <tr>\n",
       "      <th>1</th>\n",
       "      <td>0.200000</td>\n",
       "      <td>0.0</td>\n",
       "      <td>0.0</td>\n",
       "      <td>0</td>\n",
       "    </tr>\n",
       "    <tr>\n",
       "      <th>2</th>\n",
       "      <td>0.786667</td>\n",
       "      <td>1.0</td>\n",
       "      <td>0.0</td>\n",
       "      <td>0</td>\n",
       "    </tr>\n",
       "    <tr>\n",
       "      <th>3</th>\n",
       "      <td>0.413333</td>\n",
       "      <td>0.0</td>\n",
       "      <td>0.0</td>\n",
       "      <td>0</td>\n",
       "    </tr>\n",
       "    <tr>\n",
       "      <th>4</th>\n",
       "      <td>0.800000</td>\n",
       "      <td>0.0</td>\n",
       "      <td>0.0</td>\n",
       "      <td>0</td>\n",
       "    </tr>\n",
       "    <tr>\n",
       "      <th>...</th>\n",
       "      <td>...</td>\n",
       "      <td>...</td>\n",
       "      <td>...</td>\n",
       "      <td>...</td>\n",
       "    </tr>\n",
       "    <tr>\n",
       "      <th>39949</th>\n",
       "      <td>0.346667</td>\n",
       "      <td>1.0</td>\n",
       "      <td>0.0</td>\n",
       "      <td>0</td>\n",
       "    </tr>\n",
       "    <tr>\n",
       "      <th>39950</th>\n",
       "      <td>0.733333</td>\n",
       "      <td>1.0</td>\n",
       "      <td>0.0</td>\n",
       "      <td>0</td>\n",
       "    </tr>\n",
       "    <tr>\n",
       "      <th>39951</th>\n",
       "      <td>0.853333</td>\n",
       "      <td>0.0</td>\n",
       "      <td>0.0</td>\n",
       "      <td>0</td>\n",
       "    </tr>\n",
       "    <tr>\n",
       "      <th>39952</th>\n",
       "      <td>0.120000</td>\n",
       "      <td>0.0</td>\n",
       "      <td>0.0</td>\n",
       "      <td>0</td>\n",
       "    </tr>\n",
       "    <tr>\n",
       "      <th>39953</th>\n",
       "      <td>0.546667</td>\n",
       "      <td>0.0</td>\n",
       "      <td>0.0</td>\n",
       "      <td>1</td>\n",
       "    </tr>\n",
       "  </tbody>\n",
       "</table>\n",
       "<p>39954 rows × 4 columns</p>\n",
       "</div>"
      ],
      "text/plain": [
       "             X1   X2  Y_real  Y_Pred\n",
       "0      0.293333  1.0     0.0       0\n",
       "1      0.200000  0.0     0.0       0\n",
       "2      0.786667  1.0     0.0       0\n",
       "3      0.413333  0.0     0.0       0\n",
       "4      0.800000  0.0     0.0       0\n",
       "...         ...  ...     ...     ...\n",
       "39949  0.346667  1.0     0.0       0\n",
       "39950  0.733333  1.0     0.0       0\n",
       "39951  0.853333  0.0     0.0       0\n",
       "39952  0.120000  0.0     0.0       0\n",
       "39953  0.546667  0.0     0.0       1\n",
       "\n",
       "[39954 rows x 4 columns]"
      ]
     },
     "execution_count": 315,
     "metadata": {},
     "output_type": "execute_result"
    }
   ],
   "source": [
    "# Asegúrate de que todas las columnas sean unidimensionales\n",
    "tabla_final = pd.DataFrame(\n",
    "    {\n",
    "        'X1': X_test.iloc[:, 0].values,  # Convertir a array unidimensional\n",
    "        'X2': X_test.iloc[:, 1].values,  # Convertir a array unidimensional\n",
    "        'Y_real': y_test.values,         # Convertir a array unidimensional\n",
    "        'Y_Pred': prediccion.flatten()   # Aplanar prediccion a 1D\n",
    "    }\n",
    ")\n",
    "tabla_final"
   ]
  },
  {
   "cell_type": "code",
   "execution_count": 261,
   "id": "dabdf13f-d5d0-47f7-808b-0cc74eb3a1aa",
   "metadata": {},
   "outputs": [
    {
     "name": "stdout",
     "output_type": "stream",
     "text": [
      "              precision    recall  f1-score   support\n",
      "\n",
      "         0.0       0.98      0.88      0.93     36704\n",
      "         1.0       0.37      0.78      0.50      3250\n",
      "\n",
      "    accuracy                           0.87     39954\n",
      "   macro avg       0.67      0.83      0.71     39954\n",
      "weighted avg       0.93      0.87      0.89     39954\n",
      "\n",
      "AUC-ROC: 0.9162\n"
     ]
    }
   ],
   "source": [
    "# Métricas de evaluación\n",
    "print(classification_report(y_test, prediccion))\n",
    "print(f\"AUC-ROC: {roc_auc_score(y_test, prediccion_prob):.4f}\")"
   ]
  },
  {
   "cell_type": "markdown",
   "id": "a5187572-404e-482b-8b6b-ae80bb1e719b",
   "metadata": {},
   "source": [
    "# Métricas"
   ]
  },
  {
   "cell_type": "code",
   "execution_count": 348,
   "id": "165b094a-1413-4a5c-a298-40743586ac9e",
   "metadata": {},
   "outputs": [],
   "source": [
    "f1 = f1_score(y_test, prediccion)\n",
    "auc = roc_auc_score(y_test, prediccion)\n",
    "precision = precision_score(y_test, prediccion)  \n",
    "recall = recall_score(y_test, prediccion) "
   ]
  },
  {
   "cell_type": "code",
   "execution_count": 350,
   "id": "cc9c615d-9a3a-46c4-97c1-0798997083d3",
   "metadata": {
    "scrolled": true
   },
   "outputs": [
    {
     "name": "stdout",
     "output_type": "stream",
     "text": [
      "\n",
      "Resultados de la evaluación:\n",
      "F1-score: 0.4982\n",
      "AUC-ROC: 0.8292\n",
      "Precision: 0.3666\n",
      "Recall: 0.7772\n"
     ]
    }
   ],
   "source": [
    "print(\"\\nResultados de la evaluación:\")\n",
    "print(f\"F1-score: {f1:.4f}\")\n",
    "print(f\"AUC-ROC: {auc:.4f}\")\n",
    "print(f\"Precision: {precision:.4f}\")\n",
    "print(f\"Recall: {recall:.4f}\")"
   ]
  },
  {
   "cell_type": "code",
   "execution_count": 352,
   "id": "5bb367c3-c215-4ace-baf1-7212a9d691ae",
   "metadata": {},
   "outputs": [
    {
     "data": {
      "text/plain": [
       "array([[32339,  4365],\n",
       "       [  724,  2526]])"
      ]
     },
     "execution_count": 352,
     "metadata": {},
     "output_type": "execute_result"
    }
   ],
   "source": [
    "confusion_matrix(y_test, prediccion)"
   ]
  },
  {
   "cell_type": "code",
   "execution_count": null,
   "id": "9c216a00-05f5-48ca-90af-a201ace39c11",
   "metadata": {},
   "outputs": [],
   "source": []
  },
  {
   "cell_type": "markdown",
   "id": "49e2726f-1086-46a0-877c-16a372cd87d6",
   "metadata": {},
   "source": [
    "# Mejorar el recall cambiando el umbral de decisión a 0,6"
   ]
  },
  {
   "cell_type": "code",
   "execution_count": 399,
   "id": "b5c5d76a-9d23-4f10-a167-ad3522879f7d",
   "metadata": {},
   "outputs": [],
   "source": [
    "prediccion_dos = (prediccion_prob > 0.6).astype(int)  # Umbral ajustado a 0.6"
   ]
  },
  {
   "cell_type": "code",
   "execution_count": 401,
   "id": "ab3a0723-c3e5-4916-9ece-b24f1e151251",
   "metadata": {},
   "outputs": [
    {
     "data": {
      "text/plain": [
       "array([[0],\n",
       "       [0],\n",
       "       [0],\n",
       "       ...,\n",
       "       [0],\n",
       "       [0],\n",
       "       [1]])"
      ]
     },
     "execution_count": 401,
     "metadata": {},
     "output_type": "execute_result"
    }
   ],
   "source": [
    "prediccion_dos"
   ]
  },
  {
   "cell_type": "code",
   "execution_count": 403,
   "id": "7b6db8eb-eca6-400d-8ad9-85d9ef201318",
   "metadata": {},
   "outputs": [
    {
     "data": {
      "text/html": [
       "<div>\n",
       "<style scoped>\n",
       "    .dataframe tbody tr th:only-of-type {\n",
       "        vertical-align: middle;\n",
       "    }\n",
       "\n",
       "    .dataframe tbody tr th {\n",
       "        vertical-align: top;\n",
       "    }\n",
       "\n",
       "    .dataframe thead th {\n",
       "        text-align: right;\n",
       "    }\n",
       "</style>\n",
       "<table border=\"1\" class=\"dataframe\">\n",
       "  <thead>\n",
       "    <tr style=\"text-align: right;\">\n",
       "      <th></th>\n",
       "      <th>X1</th>\n",
       "      <th>X2</th>\n",
       "      <th>Y_real</th>\n",
       "      <th>Y_Pred</th>\n",
       "    </tr>\n",
       "  </thead>\n",
       "  <tbody>\n",
       "    <tr>\n",
       "      <th>0</th>\n",
       "      <td>0.293333</td>\n",
       "      <td>1.0</td>\n",
       "      <td>0.0</td>\n",
       "      <td>0</td>\n",
       "    </tr>\n",
       "    <tr>\n",
       "      <th>1</th>\n",
       "      <td>0.200000</td>\n",
       "      <td>0.0</td>\n",
       "      <td>0.0</td>\n",
       "      <td>0</td>\n",
       "    </tr>\n",
       "    <tr>\n",
       "      <th>2</th>\n",
       "      <td>0.786667</td>\n",
       "      <td>1.0</td>\n",
       "      <td>0.0</td>\n",
       "      <td>0</td>\n",
       "    </tr>\n",
       "    <tr>\n",
       "      <th>3</th>\n",
       "      <td>0.413333</td>\n",
       "      <td>0.0</td>\n",
       "      <td>0.0</td>\n",
       "      <td>0</td>\n",
       "    </tr>\n",
       "    <tr>\n",
       "      <th>4</th>\n",
       "      <td>0.800000</td>\n",
       "      <td>0.0</td>\n",
       "      <td>0.0</td>\n",
       "      <td>0</td>\n",
       "    </tr>\n",
       "    <tr>\n",
       "      <th>...</th>\n",
       "      <td>...</td>\n",
       "      <td>...</td>\n",
       "      <td>...</td>\n",
       "      <td>...</td>\n",
       "    </tr>\n",
       "    <tr>\n",
       "      <th>39949</th>\n",
       "      <td>0.346667</td>\n",
       "      <td>1.0</td>\n",
       "      <td>0.0</td>\n",
       "      <td>0</td>\n",
       "    </tr>\n",
       "    <tr>\n",
       "      <th>39950</th>\n",
       "      <td>0.733333</td>\n",
       "      <td>1.0</td>\n",
       "      <td>0.0</td>\n",
       "      <td>0</td>\n",
       "    </tr>\n",
       "    <tr>\n",
       "      <th>39951</th>\n",
       "      <td>0.853333</td>\n",
       "      <td>0.0</td>\n",
       "      <td>0.0</td>\n",
       "      <td>0</td>\n",
       "    </tr>\n",
       "    <tr>\n",
       "      <th>39952</th>\n",
       "      <td>0.120000</td>\n",
       "      <td>0.0</td>\n",
       "      <td>0.0</td>\n",
       "      <td>0</td>\n",
       "    </tr>\n",
       "    <tr>\n",
       "      <th>39953</th>\n",
       "      <td>0.546667</td>\n",
       "      <td>0.0</td>\n",
       "      <td>0.0</td>\n",
       "      <td>1</td>\n",
       "    </tr>\n",
       "  </tbody>\n",
       "</table>\n",
       "<p>39954 rows × 4 columns</p>\n",
       "</div>"
      ],
      "text/plain": [
       "             X1   X2  Y_real  Y_Pred\n",
       "0      0.293333  1.0     0.0       0\n",
       "1      0.200000  0.0     0.0       0\n",
       "2      0.786667  1.0     0.0       0\n",
       "3      0.413333  0.0     0.0       0\n",
       "4      0.800000  0.0     0.0       0\n",
       "...         ...  ...     ...     ...\n",
       "39949  0.346667  1.0     0.0       0\n",
       "39950  0.733333  1.0     0.0       0\n",
       "39951  0.853333  0.0     0.0       0\n",
       "39952  0.120000  0.0     0.0       0\n",
       "39953  0.546667  0.0     0.0       1\n",
       "\n",
       "[39954 rows x 4 columns]"
      ]
     },
     "execution_count": 403,
     "metadata": {},
     "output_type": "execute_result"
    }
   ],
   "source": [
    "# Asegúrate de que todas las columnas sean unidimensionales\n",
    "tabla_final_dos = pd.DataFrame(\n",
    "    {\n",
    "        'X1': X_test.iloc[:, 0].values,  # Convertir a array unidimensional\n",
    "        'X2': X_test.iloc[:, 1].values,  # Convertir a array unidimensional\n",
    "        'Y_real': y_test.values,         # Convertir a array unidimensional\n",
    "        'Y_Pred': prediccion_dos.flatten()   # Aplanar prediccion a 1D\n",
    "    }\n",
    ")\n",
    "tabla_final_dos"
   ]
  },
  {
   "cell_type": "code",
   "execution_count": 409,
   "id": "ca807e99-df87-422a-9af3-1260f80b250d",
   "metadata": {},
   "outputs": [
    {
     "data": {
      "text/plain": [
       "array([[33316,  3388],\n",
       "       [  905,  2345]])"
      ]
     },
     "execution_count": 409,
     "metadata": {},
     "output_type": "execute_result"
    }
   ],
   "source": [
    "confusion_matrix(y_test, prediccion_dos)"
   ]
  },
  {
   "cell_type": "code",
   "execution_count": 405,
   "id": "c8008195-0fd0-43fa-99d7-28ae35a75430",
   "metadata": {},
   "outputs": [
    {
     "data": {
      "text/plain": [
       "0.409035409035409"
      ]
     },
     "execution_count": 405,
     "metadata": {},
     "output_type": "execute_result"
    }
   ],
   "source": [
    "precision_score(y_test, prediccion_dos)"
   ]
  },
  {
   "cell_type": "code",
   "execution_count": 407,
   "id": "b761a65f-6b2c-482e-b1c2-fc620dcf36b0",
   "metadata": {},
   "outputs": [
    {
     "name": "stdout",
     "output_type": "stream",
     "text": [
      "\n",
      "Resultados de la evaluación:\n",
      "F1-score: 0.5221\n",
      "AUC-ROC: 0.8146\n",
      "Precision: 0.4090\n",
      "Recall: 0.7215\n"
     ]
    }
   ],
   "source": [
    "f1 = f1_score(y_test, prediccion_dos)\n",
    "auc = roc_auc_score(y_test, prediccion_dos)\n",
    "precision = precision_score(y_test, prediccion_dos)  \n",
    "recall = recall_score(y_test, prediccion_dos) \n",
    "\n",
    "print(\"\\nResultados de la evaluación:\")\n",
    "print(f\"F1-score: {f1:.4f}\")\n",
    "print(f\"AUC-ROC: {auc:.4f}\")\n",
    "print(f\"Precision: {precision:.4f}\")\n",
    "print(f\"Recall: {recall:.4f}\")"
   ]
  },
  {
   "cell_type": "markdown",
   "id": "14e5df4d-d4a5-4724-907f-34de2d449112",
   "metadata": {},
   "source": [
    "# Curva ROC"
   ]
  },
  {
   "cell_type": "code",
   "execution_count": 413,
   "id": "3d4b2c85-02b6-4d7c-a579-7ec3760eb697",
   "metadata": {},
   "outputs": [
    {
     "name": "stdout",
     "output_type": "stream",
     "text": [
      "\u001b[1m1249/1249\u001b[0m \u001b[32m━━━━━━━━━━━━━━━━━━━━\u001b[0m\u001b[37m\u001b[0m \u001b[1m1s\u001b[0m 581us/step\n"
     ]
    },
    {
     "data": {
      "image/png": "[encoded data removed]",
      "text/plain": [
       "<Figure size 800x600 with 1 Axes>"
      ]
     },
     "metadata": {},
     "output_type": "display_data"
    }
   ],
   "source": [
    "# 1. Calcular las probabilidades predichas (clase positiva \"Above limit\")\n",
    "prediccion_prob = model.predict(X_test)  # Asegúrate de que sean probabilidades\n",
    "\n",
    "# 2. Calcular FPR, TPR y thresholds para la curva ROC\n",
    "fpr, tpr, thresholds = roc_curve(y_test, prediccion_prob)\n",
    "\n",
    "# 3. Calcular el AUC-ROC\n",
    "auc = roc_auc_score(y_test, prediccion_prob)\n",
    "\n",
    "# 4. Graficar la curva ROC\n",
    "plt.figure(figsize=(8, 6))\n",
    "plt.plot(fpr, tpr, color='blue', lw=2, label=f'Curva ROC (AUC = {auc:.4f})')\n",
    "plt.plot([0, 1], [0, 1], color='red', lw=1, linestyle='--', label='Clasificador Aleatorio')\n",
    "plt.xlabel('Tasa de Falsos Positivos (FPR)')\n",
    "plt.ylabel('Tasa de Verdaderos Positivos (TPR)')\n",
    "plt.title('Curva ROC - Modelo de Clasificación')\n",
    "plt.legend(loc='lower right')\n",
    "plt.grid(True)\n",
    "plt.show()"
   ]
  },
  {
   "cell_type": "code",
   "execution_count": 423,
   "id": "dadb3460-4c7c-4f91-996e-2ef1a90e242d",
   "metadata": {},
   "outputs": [
    {
     "name": "stdout",
     "output_type": "stream",
     "text": [
      "AUC-ROC: 0.9162\n"
     ]
    }
   ],
   "source": [
    "print(f\"AUC-ROC: {auc:.4f}\")"
   ]
  },
  {
   "cell_type": "markdown",
   "id": "bdeebb1d-c248-4841-8bc2-0b71ccc83b02",
   "metadata": {},
   "source": [
    "# Conclusiones"
   ]
  },
  {
   "cell_type": "code",
   "execution_count": null,
   "id": "87011147-a188-4c2f-a8c3-9f31f82aac87",
   "metadata": {},
   "outputs": [],
   "source": []
  },
  {
   "cell_type": "code",
   "execution_count": null,
   "id": "8025f15e-a61e-4964-a34c-8f92a7d47e73",
   "metadata": {},
   "outputs": [],
   "source": []
  },
  {
   "cell_type": "markdown",
   "id": "3f644003-1973-4149-a483-8697bdb8d8ef",
   "metadata": {},
   "source": [
    "### Qué significa para tu modelo?\n",
    "\n",
    "- Alta capacidad discriminativa: El modelo es muy bueno separando casos positivos y negativos.\n",
    "\n",
    "Trade-off TPR vs. FPR:\n",
    "- Si ajustas el umbral de decisión, puedes priorizar:\n",
    "- Recall alto (TPR alto): Detectar más casos positivos, pero con más falsos positivos.\n",
    "- Precisión alta (FPR bajo): Minimizar falsos positivos, pero detectando menos casos positivos.\n",
    "\n",
    "### Limitaciones a considerar\n",
    "\n",
    "- Desbalanceo de clases: Aunque el AUC es alto, **si tu dataset está desbalanceado (pocos casos positivos), métricas como precisión o F1-score pueden ser más relevantes**.\n",
    "- Contexto del problema: Si los falsos positivos son costosos (ej.: diagnóstico médico), prioriza umbrales altos. Si los falsos negativos son críticos (ej.: detección de fraude), prioriza umbrales bajos."
   ]
  },
  {
   "cell_type": "markdown",
   "id": "964b4f68-707f-434b-bfd8-4af6cb786574",
   "metadata": {},
   "source": [
    "### 1. Aspectos Positivos:\n",
    "\n",
    "- **Recall (Sensibilidad) Alto (0.7215)**: El modelo tiene una **buena capacidad para identificar correctamente los casos positivos** (clase minoritaria). Esto es crucial en aplicaciones donde es importante detectar la mayor cantidad posible de casos positivos, como en diagnósticos médicos o detección de fraudes.\n",
    "- **AUC-ROC Alto (0.8146)**: El área bajo la curva ROC indica que **el modelo tiene una buena capacidad para distinguir entre las clases positiva y negativa**. Un AUC de 0.8146 es considerado muy bueno y sugiere que el modelo tiene un rendimiento sólido en términos de clasificación.\n",
    "\n",
    "### 2. Aspectos Negativos:\n",
    "\n",
    "- **Precisión Baja (0.4090)**: Aunque el modelo tiene un buen recall, la precisión es relativamente baja. Esto significa que hay un número significativo de falsos positivos, lo que puede ser problemático en aplicaciones donde los falsos positivos tienen un alto costo, como en marketing dirigido o diagnósticos médicos.\n",
    "- **F1-score Moderado (0.5221)**: El F1-score, que es la media armónica de precisión y recall, es moderado. Esto indica que hay un equilibrio entre precisión y recall, pero no es óptimo. El modelo podría mejorar en términos de equilibrio entre detectar casos positivos y minimizar falsos positivos.\n",
    "\n",
    "### 3. Mejoras Potenciales:\n",
    "\n",
    "- **Optimización del Umbral de Decisión**: Ajustar el umbral de decisión podría ayudar a mejorar la precisión o el recall, dependiendo de las necesidades específicas del problema. Por ejemplo, aumentar el umbral podría reducir los falsos positivos y mejorar la precisión, aunque esto podría disminuir el recall.\n",
    "- **Manejo del Desbalanceo**: Aunque ya has utilizado técnicas como SMOTE y class_weight, podrías explorar otras técnicas de balanceo de datos o algoritmos más robustos para manejar el desbalanceo, como XGBoost o LightGBM, que suelen funcionar bien en estos casos.\n",
    "- **Feature Engineering**: Revisar y mejorar las características utilizadas en el modelo podría ayudar a mejorar tanto la precisión como el recall. Esto podría incluir la eliminación de características irrelevantes o la creación de nuevas características que capturen mejor la información relevante.\n",
    "\n",
    "En resumen, tu modelo tiene un buen rendimiento en términos de recall y AUC-ROC, pero hay margen de mejora en la precisión y el equilibrio general entre precisión y recall. Ajustar el umbral de decisión y explorar otras técnicas de manejo de desbalanceo y feature engineering podrían ayudar a mejorar aún más el rendimiento del modelo.\n",
    "\n",
    "En los casos en los que hay **mucho desbalance de datos**, el modelo de **red neuronal no es el más recomendado de utilizar**. "
   ]
  },
  {
   "cell_type": "code",
   "execution_count": null,
   "id": "9d6b4db6-7ab9-4219-9a4d-e4ab04f0ebd6",
   "metadata": {},
   "outputs": [],
   "source": []
  }
 ],
 "metadata": {
  "kernelspec": {
   "display_name": "Python 3 (ipykernel)",
   "language": "python",
   "name": "python3"
  },
  "language_info": {
   "codemirror_mode": {
    "name": "ipython",
    "version": 3
   },
   "file_extension": ".py",
   "mimetype": "text/x-python",
   "name": "python",
   "nbconvert_exporter": "python",
   "pygments_lexer": "ipython3",
   "version": "3.12.7"
  }
 },
 "nbformat": 4,
 "nbformat_minor": 5
}
