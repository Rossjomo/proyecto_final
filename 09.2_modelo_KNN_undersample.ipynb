{
 "cells": [
  {
   "cell_type": "markdown",
   "id": "93a7147e-4ac5-4908-9d85-286038bf2087",
   "metadata": {},
   "source": [
    "# Importar Librarias y datos"
   ]
  },
  {
   "cell_type": "code",
   "execution_count": 47,
   "id": "81a02f99-060f-42d8-9841-af3d0a937314",
   "metadata": {},
   "outputs": [],
   "source": [
    "import pandas as pd\n",
    "import seaborn as sns\n",
    "import matplotlib.pyplot as plt\n",
    "import numpy as np   \n",
    "\n",
    "from sklearn import neighbors\n",
    "from sklearn.model_selection import train_test_split\n",
    "from sklearn.neighbors import KNeighborsClassifier\n",
    "from sklearn.metrics import classification_report, accuracy_score, confusion_matrix"
   ]
  },
  {
   "cell_type": "code",
   "execution_count": 48,
   "id": "f477213d-8d4b-4a20-829b-4072707fbcad",
   "metadata": {},
   "outputs": [],
   "source": [
    "df = pd.read_parquet(\"output_08.parquet\")"
   ]
  },
  {
   "cell_type": "code",
   "execution_count": 49,
   "id": "6e796276-84ce-4957-963b-9524e8fae5b3",
   "metadata": {},
   "outputs": [
    {
     "data": {
      "text/html": [
       "<div>\n",
       "<style scoped>\n",
       "    .dataframe tbody tr th:only-of-type {\n",
       "        vertical-align: middle;\n",
       "    }\n",
       "\n",
       "    .dataframe tbody tr th {\n",
       "        vertical-align: top;\n",
       "    }\n",
       "\n",
       "    .dataframe thead th {\n",
       "        text-align: right;\n",
       "    }\n",
       "</style>\n",
       "<table border=\"1\" class=\"dataframe\">\n",
       "  <thead>\n",
       "    <tr style=\"text-align: right;\">\n",
       "      <th></th>\n",
       "      <th>age</th>\n",
       "      <th>gender</th>\n",
       "      <th>employment_stat</th>\n",
       "      <th>wage_per_hour</th>\n",
       "      <th>working_week_per_year</th>\n",
       "      <th>occupation_code</th>\n",
       "      <th>total_employed</th>\n",
       "      <th>gains</th>\n",
       "      <th>losses</th>\n",
       "      <th>stocks_status</th>\n",
       "      <th>...</th>\n",
       "      <th>tax_status_Otro</th>\n",
       "      <th>tax_status_Single</th>\n",
       "      <th>citizenship_Native</th>\n",
       "      <th>citizenship_Otro</th>\n",
       "      <th>country_of_birth_own_US</th>\n",
       "      <th>migration_code_change_in_msa_MSA to MSA</th>\n",
       "      <th>migration_code_change_in_msa_Otro</th>\n",
       "      <th>migration_code_change_in_msa_unchanged</th>\n",
       "      <th>migration_code_change_in_reg_Otro</th>\n",
       "      <th>migration_code_change_in_reg_unchanged</th>\n",
       "    </tr>\n",
       "  </thead>\n",
       "  <tbody>\n",
       "    <tr>\n",
       "      <th>0</th>\n",
       "      <td>0.853333</td>\n",
       "      <td>1.0</td>\n",
       "      <td>0.0</td>\n",
       "      <td>0.000000</td>\n",
       "      <td>1.000000</td>\n",
       "      <td>0.000000</td>\n",
       "      <td>0.333333</td>\n",
       "      <td>0.0</td>\n",
       "      <td>0.0</td>\n",
       "      <td>0.002916</td>\n",
       "      <td>...</td>\n",
       "      <td>True</td>\n",
       "      <td>False</td>\n",
       "      <td>True</td>\n",
       "      <td>False</td>\n",
       "      <td>True</td>\n",
       "      <td>False</td>\n",
       "      <td>False</td>\n",
       "      <td>False</td>\n",
       "      <td>False</td>\n",
       "      <td>False</td>\n",
       "    </tr>\n",
       "    <tr>\n",
       "      <th>1</th>\n",
       "      <td>0.666667</td>\n",
       "      <td>1.0</td>\n",
       "      <td>0.0</td>\n",
       "      <td>0.000000</td>\n",
       "      <td>0.000000</td>\n",
       "      <td>0.000000</td>\n",
       "      <td>0.000000</td>\n",
       "      <td>0.0</td>\n",
       "      <td>0.0</td>\n",
       "      <td>0.000000</td>\n",
       "      <td>...</td>\n",
       "      <td>False</td>\n",
       "      <td>True</td>\n",
       "      <td>True</td>\n",
       "      <td>False</td>\n",
       "      <td>True</td>\n",
       "      <td>False</td>\n",
       "      <td>False</td>\n",
       "      <td>True</td>\n",
       "      <td>False</td>\n",
       "      <td>True</td>\n",
       "    </tr>\n",
       "    <tr>\n",
       "      <th>2</th>\n",
       "      <td>0.080000</td>\n",
       "      <td>0.0</td>\n",
       "      <td>0.0</td>\n",
       "      <td>0.050005</td>\n",
       "      <td>0.288462</td>\n",
       "      <td>0.565217</td>\n",
       "      <td>0.666667</td>\n",
       "      <td>0.0</td>\n",
       "      <td>0.0</td>\n",
       "      <td>0.000000</td>\n",
       "      <td>...</td>\n",
       "      <td>False</td>\n",
       "      <td>True</td>\n",
       "      <td>True</td>\n",
       "      <td>False</td>\n",
       "      <td>True</td>\n",
       "      <td>False</td>\n",
       "      <td>False</td>\n",
       "      <td>True</td>\n",
       "      <td>False</td>\n",
       "      <td>True</td>\n",
       "    </tr>\n",
       "    <tr>\n",
       "      <th>4</th>\n",
       "      <td>0.733333</td>\n",
       "      <td>0.0</td>\n",
       "      <td>0.0</td>\n",
       "      <td>0.000000</td>\n",
       "      <td>0.000000</td>\n",
       "      <td>0.000000</td>\n",
       "      <td>0.000000</td>\n",
       "      <td>0.0</td>\n",
       "      <td>0.0</td>\n",
       "      <td>0.000000</td>\n",
       "      <td>...</td>\n",
       "      <td>False</td>\n",
       "      <td>False</td>\n",
       "      <td>True</td>\n",
       "      <td>False</td>\n",
       "      <td>True</td>\n",
       "      <td>False</td>\n",
       "      <td>False</td>\n",
       "      <td>False</td>\n",
       "      <td>False</td>\n",
       "      <td>False</td>\n",
       "    </tr>\n",
       "    <tr>\n",
       "      <th>5</th>\n",
       "      <td>0.400000</td>\n",
       "      <td>0.0</td>\n",
       "      <td>0.0</td>\n",
       "      <td>0.082508</td>\n",
       "      <td>1.000000</td>\n",
       "      <td>0.673913</td>\n",
       "      <td>1.000000</td>\n",
       "      <td>0.0</td>\n",
       "      <td>0.0</td>\n",
       "      <td>0.000000</td>\n",
       "      <td>...</td>\n",
       "      <td>False</td>\n",
       "      <td>False</td>\n",
       "      <td>False</td>\n",
       "      <td>False</td>\n",
       "      <td>False</td>\n",
       "      <td>False</td>\n",
       "      <td>False</td>\n",
       "      <td>True</td>\n",
       "      <td>False</td>\n",
       "      <td>True</td>\n",
       "    </tr>\n",
       "  </tbody>\n",
       "</table>\n",
       "<p>5 rows × 46 columns</p>\n",
       "</div>"
      ],
      "text/plain": [
       "        age  gender  employment_stat  wage_per_hour  working_week_per_year  \\\n",
       "0  0.853333     1.0              0.0       0.000000               1.000000   \n",
       "1  0.666667     1.0              0.0       0.000000               0.000000   \n",
       "2  0.080000     0.0              0.0       0.050005               0.288462   \n",
       "4  0.733333     0.0              0.0       0.000000               0.000000   \n",
       "5  0.400000     0.0              0.0       0.082508               1.000000   \n",
       "\n",
       "   occupation_code  total_employed  gains  losses  stocks_status  ...  \\\n",
       "0         0.000000        0.333333    0.0     0.0       0.002916  ...   \n",
       "1         0.000000        0.000000    0.0     0.0       0.000000  ...   \n",
       "2         0.565217        0.666667    0.0     0.0       0.000000  ...   \n",
       "4         0.000000        0.000000    0.0     0.0       0.000000  ...   \n",
       "5         0.673913        1.000000    0.0     0.0       0.000000  ...   \n",
       "\n",
       "   tax_status_Otro  tax_status_Single  citizenship_Native  citizenship_Otro  \\\n",
       "0             True              False                True             False   \n",
       "1            False               True                True             False   \n",
       "2            False               True                True             False   \n",
       "4            False              False                True             False   \n",
       "5            False              False               False             False   \n",
       "\n",
       "   country_of_birth_own_US  migration_code_change_in_msa_MSA to MSA  \\\n",
       "0                     True                                    False   \n",
       "1                     True                                    False   \n",
       "2                     True                                    False   \n",
       "4                     True                                    False   \n",
       "5                    False                                    False   \n",
       "\n",
       "   migration_code_change_in_msa_Otro  migration_code_change_in_msa_unchanged  \\\n",
       "0                              False                                   False   \n",
       "1                              False                                    True   \n",
       "2                              False                                    True   \n",
       "4                              False                                   False   \n",
       "5                              False                                    True   \n",
       "\n",
       "   migration_code_change_in_reg_Otro  migration_code_change_in_reg_unchanged  \n",
       "0                              False                                   False  \n",
       "1                              False                                    True  \n",
       "2                              False                                    True  \n",
       "4                              False                                   False  \n",
       "5                              False                                    True  \n",
       "\n",
       "[5 rows x 46 columns]"
      ]
     },
     "execution_count": 49,
     "metadata": {},
     "output_type": "execute_result"
    }
   ],
   "source": [
    "df.head()"
   ]
  },
  {
   "cell_type": "code",
   "execution_count": 50,
   "id": "201d6958-8ad3-428d-a89d-4961ffd037f7",
   "metadata": {},
   "outputs": [
    {
     "data": {
      "text/plain": [
       "Index(['age', 'gender', 'employment_stat', 'wage_per_hour',\n",
       "       'working_week_per_year', 'occupation_code', 'total_employed', 'gains',\n",
       "       'losses', 'stocks_status', 'income_above_limit',\n",
       "       'education_secondary_complete', 'education_secondary_incomplete',\n",
       "       'education_technical_education/university_incomplete',\n",
       "       'education_university_graduate_or_higher',\n",
       "       'marital_status_Married-civilian spouse present',\n",
       "       'marital_status_Never married', 'marital_status_Otro',\n",
       "       'marital_status_Widowed', 'race_Otro', 'race_White', 'is_hispanic_Otro',\n",
       "       'employment_commitment_Full-time schedules',\n",
       "       'employment_commitment_Not in labor force',\n",
       "       'employment_commitment_Otro',\n",
       "       'industry_code_main_Manufacturing-durable goods',\n",
       "       'industry_code_main_Not in universe or children',\n",
       "       'industry_code_main_Otro', 'industry_code_main_Retail trade',\n",
       "       'household_stat_Householder', 'household_stat_Nonfamily Householder',\n",
       "       'household_stat_Other', 'household_stat_Otro', 'household_stat_Spouse',\n",
       "       'tax_status_Joint both under 65', 'tax_status_Nonfiler',\n",
       "       'tax_status_Otro', 'tax_status_Single', 'citizenship_Native',\n",
       "       'citizenship_Otro', 'country_of_birth_own_US',\n",
       "       'migration_code_change_in_msa_MSA to MSA',\n",
       "       'migration_code_change_in_msa_Otro',\n",
       "       'migration_code_change_in_msa_unchanged',\n",
       "       'migration_code_change_in_reg_Otro',\n",
       "       'migration_code_change_in_reg_unchanged'],\n",
       "      dtype='object')"
      ]
     },
     "execution_count": 50,
     "metadata": {},
     "output_type": "execute_result"
    }
   ],
   "source": [
    "df.columns"
   ]
  },
  {
   "cell_type": "markdown",
   "id": "c126effe-a731-4396-8600-28b839387a2d",
   "metadata": {},
   "source": [
    "# Under Sampling"
   ]
  },
  {
   "cell_type": "code",
   "execution_count": 52,
   "id": "522e6c40-f553-4a9f-8931-4a08656494ae",
   "metadata": {},
   "outputs": [],
   "source": [
    "from imblearn.over_sampling import SMOTE\n",
    "from imblearn.under_sampling import RandomUnderSampler\n",
    "from sklearn.ensemble import RandomForestClassifier\n",
    "from sklearn.feature_selection import RFE\n",
    "from sklearn.linear_model import LogisticRegression\n",
    "from sklearn.model_selection import train_test_split\n",
    "from sklearn.metrics import classification_report"
   ]
  },
  {
   "cell_type": "code",
   "execution_count": 53,
   "id": "f802af4f-83be-46f5-9ab0-e9d084319a03",
   "metadata": {},
   "outputs": [
    {
     "name": "stdout",
     "output_type": "stream",
     "text": [
      "[('age', 0.14389265947804988), ('occupation_code', 0.1374681987857211), ('stocks_status', 0.08822195374950521), ('working_week_per_year', 0.07971577747975007), ('total_employed', 0.07290899688293412), ('education_university_graduate_or_higher', 0.0666139740618412), ('gender', 0.05628502266421269), ('gains', 0.04641634439685129), ('household_stat_Householder', 0.019626618369628368), ('industry_code_main_Not in universe or children', 0.018461913460175984), ('losses', 0.0166961628592067), ('wage_per_hour', 0.01523467143383066), ('employment_stat', 0.014738397065833906), ('tax_status_Joint both under 65', 0.014737574536677189), ('education_secondary_complete', 0.01450689012075616), ('tax_status_Nonfiler', 0.014219622363929686), ('industry_code_main_Otro', 0.013941130903933173), ('education_secondary_incomplete', 0.012621398859548534), ('education_technical_education/university_incomplete', 0.010650139671230381), ('marital_status_Never married', 0.009542626581619185), ('race_White', 0.009007654961444426), ('employment_commitment_Full-time schedules', 0.00888635555369455), ('marital_status_Married-civilian spouse present', 0.00870769516746224), ('is_hispanic_Otro', 0.008622323767462641), ('household_stat_Spouse', 0.007897319952911323), ('migration_code_change_in_msa_unchanged', 0.007765015192151242), ('migration_code_change_in_reg_unchanged', 0.007717849874037865), ('industry_code_main_Retail trade', 0.007528578895593854), ('industry_code_main_Manufacturing-durable goods', 0.006448251615425172), ('household_stat_Nonfamily Householder', 0.006391299527519114), ('tax_status_Single', 0.0057627399100776185), ('country_of_birth_own_US', 0.005065598781806572), ('citizenship_Native', 0.004926153904807601), ('employment_commitment_Otro', 0.00468277382981364), ('tax_status_Otro', 0.004597477423950643), ('citizenship_Otro', 0.003985218827129526), ('employment_commitment_Not in labor force', 0.0039299368850376284), ('migration_code_change_in_reg_Otro', 0.0039003711026526495), ('household_stat_Other', 0.003883481976924437), ('race_Otro', 0.003631680026865256), ('migration_code_change_in_msa_MSA to MSA', 0.0031927942851036097), ('marital_status_Widowed', 0.0025198390044982983), ('marital_status_Otro', 0.0024639814560169877), ('migration_code_change_in_msa_Otro', 0.0018289551828213316), ('household_stat_Otro', 0.00015657916955625877)]\n"
     ]
    }
   ],
   "source": [
    "X = df.drop(\"income_above_limit\", axis=1)\n",
    "y = df[\"income_above_limit\"]\n",
    "\n",
    "X_resampled, y_resampled = RandomUnderSampler().fit_resample(X, y)\n",
    "\n",
    "model = RandomForestClassifier()\n",
    "model.fit(X_resampled, y_resampled)\n",
    "\n",
    "importances = model.feature_importances_\n",
    "feature_names = X.columns\n",
    "\n",
    "sorted_features = sorted(zip(feature_names, importances), key=lambda x: x[1], reverse=True)\n",
    "print(sorted_features)\n"
   ]
  },
  {
   "cell_type": "code",
   "execution_count": 54,
   "id": "ec0e27f5-e7be-440e-9072-c6a6ecf49fdc",
   "metadata": {},
   "outputs": [],
   "source": [
    "from sklearn.preprocessing import StandardScaler\n",
    "\n",
    "scaler = StandardScaler()\n",
    "X_resampled_scaled = scaler.fit_transform(X_resampled)  # Apply scaling\n"
   ]
  },
  {
   "cell_type": "markdown",
   "id": "4c750b94-8c8f-410e-9eff-ba34936a5fa0",
   "metadata": {},
   "source": [
    "# Elegir las columnas"
   ]
  },
  {
   "cell_type": "code",
   "execution_count": 56,
   "id": "a958a2e9-61ac-430a-a1d6-fe22dbd59dc4",
   "metadata": {},
   "outputs": [
    {
     "name": "stdout",
     "output_type": "stream",
     "text": [
      "Index(['age', 'working_week_per_year', 'occupation_code', 'gains', 'losses',\n",
      "       'stocks_status', 'tax_status_Nonfiler'],\n",
      "      dtype='object')\n"
     ]
    }
   ],
   "source": [
    "rfe = RFE(estimator=LogisticRegression(max_iter=500), n_features_to_select=7)\n",
    "rfe.fit(X_resampled, y_resampled)\n",
    "\n",
    "selected_features = X.columns[rfe.support_]\n",
    "print(selected_features)"
   ]
  },
  {
   "cell_type": "code",
   "execution_count": 57,
   "id": "c2efd093-183b-4b8f-ab3a-1dbeedb7157a",
   "metadata": {},
   "outputs": [],
   "source": [
    "# tax status es un categorica y por eso voy a añadir los de mas y pais de nacimiento"
   ]
  },
  {
   "cell_type": "code",
   "execution_count": 58,
   "id": "67723f99-c4c8-495d-a95c-c9f608b1f687",
   "metadata": {},
   "outputs": [],
   "source": [
    "selected = ['age', 'working_week_per_year', 'occupation_code', 'gains', 'losses',\n",
    "       'stocks_status', 'tax_status_Joint both under 65', 'tax_status_Nonfiler',\n",
    "       'tax_status_Otro', 'country_of_birth_own_US']"
   ]
  },
  {
   "cell_type": "markdown",
   "id": "da7df24f-f03c-413b-905d-87d3e27d3547",
   "metadata": {},
   "source": [
    "# Separar por el modelo"
   ]
  },
  {
   "cell_type": "code",
   "execution_count": 60,
   "id": "06a81421-9caf-4775-81e5-e351f68f0366",
   "metadata": {},
   "outputs": [],
   "source": [
    "X_train, X_test, y_train, y_test = train_test_split(X_resampled[selected], y_resampled, test_size=0.2, random_state=42)"
   ]
  },
  {
   "cell_type": "markdown",
   "id": "84939ef5-edb3-48f4-a4ef-2a0f028487f3",
   "metadata": {},
   "source": [
    "# Probar con varios numeros de Clusters"
   ]
  },
  {
   "cell_type": "code",
   "execution_count": 62,
   "id": "79a380a4-a683-4a9f-a94b-fd4c38587500",
   "metadata": {},
   "outputs": [
    {
     "name": "stdout",
     "output_type": "stream",
     "text": [
      "[0.7461538461538462, 0.7875, 0.7767307692307692, 0.7925, 0.79, 0.8015384615384615, 0.796923076923077, 0.7988461538461539]\n"
     ]
    }
   ],
   "source": [
    "# La precisión sigue aumentando. Aumente el alcance y la visualización.\n",
    "\n",
    "accuracies = []\n",
    "\n",
    "for K in range(2, 10):\n",
    "    knn = KNeighborsClassifier(n_neighbors=K)\n",
    "    knn.fit(X_train, y_train)\n",
    "    \n",
    "    y_pred = knn.predict(X_test)\n",
    "    acc = accuracy_score(y_test, y_pred)\n",
    "    accuracies.append(acc)\n",
    "    #print(f\"K value: {K}\\nAccuracy: {accuracy_score(y_test, y_pred):.4f}\\n\")\n",
    "\n",
    "print(accuracies)"
   ]
  },
  {
   "cell_type": "code",
   "execution_count": 63,
   "id": "733a17bf-7bd7-4917-a703-af199c8bc116",
   "metadata": {},
   "outputs": [
    {
     "data": {
      "image/png": "[encoded data removed]",
      "text/plain": [
       "<Figure size 1000x500 with 1 Axes>"
      ]
     },
     "metadata": {},
     "output_type": "display_data"
    }
   ],
   "source": [
    "plt.figure(figsize=(10, 5))\n",
    "plt.plot(range(2, 10), accuracies, marker='o', linestyle='-')\n",
    "plt.xlabel('K Neighbors')\n",
    "plt.ylabel('Accuracy')\n",
    "plt.title('KNN Accuracy for Different K Values')\n",
    "#plt.xticks(k_values)\n",
    "plt.grid(True)\n",
    "plt.show()"
   ]
  },
  {
   "cell_type": "markdown",
   "id": "576c8b15-98b9-4a64-99eb-c52d10d8cbfc",
   "metadata": {},
   "source": [
    "# Elegir numero optimo de Clusters\n",
    "\n",
    "### Mirando ese grafico **7** es que sale con lo mejor presicion"
   ]
  },
  {
   "cell_type": "code",
   "execution_count": 65,
   "id": "ec8c34ce-57f6-4ff2-8491-569fe17a6ceb",
   "metadata": {},
   "outputs": [
    {
     "name": "stdout",
     "output_type": "stream",
     "text": [
      "K value: 7  Accuracy: 0.8015\n",
      "\n",
      "\n",
      "Classification Report:\n",
      "               precision    recall  f1-score   support\n",
      "\n",
      "         0.0       0.81      0.79      0.80      2623\n",
      "         1.0       0.79      0.81      0.80      2577\n",
      "\n",
      "    accuracy                           0.80      5200\n",
      "   macro avg       0.80      0.80      0.80      5200\n",
      "weighted avg       0.80      0.80      0.80      5200\n",
      "\n"
     ]
    }
   ],
   "source": [
    "k = 7\n",
    "knn = KNeighborsClassifier(n_neighbors=k)\n",
    "knn.fit(X_train, y_train)\n",
    "\n",
    "y_pred = knn.predict(X_test)\n",
    "print(f\"K value: {k}  Accuracy: {accuracy_score(y_test, y_pred):.4f}\\n\")\n",
    "print(\"\\nClassification Report:\\n\", classification_report(y_test, y_pred))"
   ]
  },
  {
   "cell_type": "code",
   "execution_count": 66,
   "id": "a098f1e6-6af3-4325-a6b6-d53ec38e0657",
   "metadata": {},
   "outputs": [
    {
     "data": {
      "image/png": "[encoded data removed]",
      "text/plain": [
       "<Figure size 600x500 with 2 Axes>"
      ]
     },
     "metadata": {},
     "output_type": "display_data"
    }
   ],
   "source": [
    "from sklearn.metrics import confusion_matrix\n",
    "\n",
    "# Compute confusion matrix\n",
    "cm = confusion_matrix(y_test, y_pred)\n",
    "\n",
    "\n",
    "# Plot the confusion matrix\n",
    "plt.figure(figsize=(6, 5))\n",
    "sns.heatmap(cm, annot=True,  fmt='.2f', cmap='Blues', xticklabels=['0', '1'], yticklabels=['0', '1'])\n",
    "plt.title('Confusion Matrix (KNN)')\n",
    "plt.xlabel('Predicted Label')\n",
    "plt.ylabel('True Label')\n",
    "plt.show()"
   ]
  },
  {
   "cell_type": "code",
   "execution_count": 67,
   "id": "28173b3b-757f-47c3-9179-00dfbcbd6f34",
   "metadata": {},
   "outputs": [
    {
     "name": "stdout",
     "output_type": "stream",
     "text": [
      "Accuracy: 0.8015\n",
      "Precision (Class 0): 0.8099 | Precision (Class 1): 0.7934\n",
      "Recall (Class 0): 0.7926 | Recall (Class 1): 0.8106\n",
      "F1 Score (Class 0): 0.8012 | F1 Score (Class 1): 0.8019\n",
      "Specificity: 0.7926\n",
      "Negative Predictive Value (NPV): 0.8099\n",
      "ROC score: 0.8672\n",
      "--------------------------------------------------\n"
     ]
    }
   ],
   "source": [
    "from evaluate_model import evaluate_model\n",
    "from sklearn.metrics import roc_auc_score\n",
    "\n",
    "y_probs = knn.predict_proba(X_test)[:, 1]  \n",
    "roc_score = roc_auc_score(y_test, y_probs)\n",
    "\n",
    "knn_metrics = evaluate_model(\"KNN oversample\", y_test, y_pred, roc_score)\n",
    "\n",
    "# Convert to DataFrame\n",
    "knn_df = pd.DataFrame([knn_metrics])\n",
    "\n",
    "knn_df.to_csv(\"knn_un.csv\", index=False)"
   ]
  },
  {
   "cell_type": "markdown",
   "id": "57ad9b78-2ebc-4421-a432-4172a162e7de",
   "metadata": {},
   "source": [
    "# Elegir columanas con solver=Saga"
   ]
  },
  {
   "cell_type": "code",
   "execution_count": 69,
   "id": "873dfcc7-fe4a-4a0a-b395-909802338585",
   "metadata": {},
   "outputs": [
    {
     "name": "stdout",
     "output_type": "stream",
     "text": [
      "Index(['age', 'working_week_per_year', 'occupation_code', 'gains', 'losses',\n",
      "       'stocks_status', 'tax_status_Nonfiler'],\n",
      "      dtype='object')\n"
     ]
    }
   ],
   "source": [
    "rfe = RFE(estimator=LogisticRegression(solver='saga', max_iter=500), n_features_to_select=7)\n",
    "rfe.fit(X_resampled, y_resampled)\n",
    "\n",
    "selected_features = X.columns[rfe.support_]\n",
    "print(selected_features)"
   ]
  },
  {
   "cell_type": "markdown",
   "id": "d75c37e0-6b46-4af0-9c6d-0d2389367a44",
   "metadata": {},
   "source": [
    "household stat es un categorica y por eso voy a añadir los de mas y pais de nacimiento"
   ]
  },
  {
   "cell_type": "code",
   "execution_count": 71,
   "id": "5efd97ac-baa8-4f3e-b56b-01c5add4737e",
   "metadata": {},
   "outputs": [],
   "source": [
    "selected = ['age', 'working_week_per_year', 'gains', 'losses', 'stocks_status',\n",
    "       'migration_code_change_in_msa_MSA to MSA',\n",
    "       'migration_code_change_in_reg_Otro', 'country_of_birth_own_US']"
   ]
  },
  {
   "cell_type": "markdown",
   "id": "b97f8cfd-2cec-4be9-b9be-a1f8d70b23a7",
   "metadata": {},
   "source": [
    "# Separar por el modelo"
   ]
  },
  {
   "cell_type": "code",
   "execution_count": 73,
   "id": "ca517c87-3a19-457b-bead-d44619e83368",
   "metadata": {},
   "outputs": [],
   "source": [
    "X_train, X_test, y_train, y_test = train_test_split(X_resampled[selected], y_resampled, test_size=0.2, random_state=42)"
   ]
  },
  {
   "cell_type": "markdown",
   "id": "586d81e6-ece1-4b46-93c8-1b4b574f44df",
   "metadata": {},
   "source": [
    "# Probar con varios numeros de Clusters"
   ]
  },
  {
   "cell_type": "code",
   "execution_count": 75,
   "id": "e47b2a97-0e61-4be9-9968-477e11f466bc",
   "metadata": {},
   "outputs": [
    {
     "name": "stdout",
     "output_type": "stream",
     "text": [
      "[0.6984615384615385, 0.7284615384615385, 0.7226923076923077, 0.7401923076923077, 0.7388461538461538, 0.7419230769230769, 0.7365384615384616, 0.7478846153846154, 0.7436538461538461, 0.7461538461538462, 0.7459615384615385, 0.7471153846153846, 0.745]\n"
     ]
    }
   ],
   "source": [
    "# La precisión sigue aumentando. Aumente el alcance y la visualización.\n",
    "\n",
    "accuracies = []\n",
    "\n",
    "for K in range(2, 15):\n",
    "    knn = KNeighborsClassifier(n_neighbors=K)\n",
    "    knn.fit(X_train, y_train)\n",
    "    \n",
    "    y_pred = knn.predict(X_test)\n",
    "    acc = accuracy_score(y_test, y_pred)\n",
    "    accuracies.append(acc)\n",
    "    #print(f\"K value: {K}\\nAccuracy: {accuracy_score(y_test, y_pred):.4f}\\n\")\n",
    "\n",
    "print(accuracies)"
   ]
  },
  {
   "cell_type": "code",
   "execution_count": 76,
   "id": "c109a201-b9e5-42a1-87bb-eb3587c0ea11",
   "metadata": {},
   "outputs": [
    {
     "data": {
      "image/png": "[encoded data removed]",
      "text/plain": [
       "<Figure size 1000x500 with 1 Axes>"
      ]
     },
     "metadata": {},
     "output_type": "display_data"
    }
   ],
   "source": [
    "plt.figure(figsize=(10, 5))\n",
    "plt.plot(range(2, 15), accuracies, marker='o', linestyle='-')\n",
    "plt.xlabel('K Neighbors')\n",
    "plt.ylabel('Accuracy')\n",
    "plt.title('KNN Accuracy for Different K Values')\n",
    "#plt.xticks(k_values)\n",
    "plt.grid(True)\n",
    "plt.show()"
   ]
  },
  {
   "cell_type": "markdown",
   "id": "675c43ed-d1a4-4241-b7e9-88583b8db64f",
   "metadata": {},
   "source": [
    "# Elegir numero optimo de Clusters\n",
    "\n",
    "### Mirando ese grafico **7** es que sale con lo mejor presicion"
   ]
  },
  {
   "cell_type": "code",
   "execution_count": 78,
   "id": "5fbeaf40-3acd-408f-8688-5708982f3c1c",
   "metadata": {},
   "outputs": [
    {
     "name": "stdout",
     "output_type": "stream",
     "text": [
      "K value: 7  Accuracy: 0.7419\n",
      "\n",
      "\n",
      "Classification Report:\n",
      "               precision    recall  f1-score   support\n",
      "\n",
      "         0.0       0.75      0.73      0.74      2623\n",
      "         1.0       0.73      0.75      0.74      2577\n",
      "\n",
      "    accuracy                           0.74      5200\n",
      "   macro avg       0.74      0.74      0.74      5200\n",
      "weighted avg       0.74      0.74      0.74      5200\n",
      "\n"
     ]
    }
   ],
   "source": [
    "k = 7\n",
    "knn = KNeighborsClassifier(n_neighbors=k)\n",
    "knn.fit(X_train, y_train)\n",
    "\n",
    "y_pred = knn.predict(X_test)\n",
    "print(f\"K value: {k}  Accuracy: {accuracy_score(y_test, y_pred):.4f}\\n\")\n",
    "print(\"\\nClassification Report:\\n\", classification_report(y_test, y_pred))"
   ]
  },
  {
   "cell_type": "code",
   "execution_count": 79,
   "id": "dcd1593f-d049-4641-b5f8-6dc47aeb7eb0",
   "metadata": {},
   "outputs": [
    {
     "data": {
      "image/png": "[encoded data removed]",
      "text/plain": [
       "<Figure size 600x500 with 2 Axes>"
      ]
     },
     "metadata": {},
     "output_type": "display_data"
    }
   ],
   "source": [
    "from sklearn.metrics import confusion_matrix\n",
    "\n",
    "# Compute confusion matrix\n",
    "cm = confusion_matrix(y_test, y_pred)\n",
    "\n",
    "\n",
    "# Plot the confusion matrix\n",
    "plt.figure(figsize=(6, 5))\n",
    "sns.heatmap(cm, annot=True,  fmt='.2f', cmap='Blues', xticklabels=['0', '1'], yticklabels=['0', '1'])\n",
    "plt.title('Confusion Matrix (KNN)')\n",
    "plt.xlabel('Predicted Label')\n",
    "plt.ylabel('True Label')\n",
    "plt.show()"
   ]
  },
  {
   "cell_type": "code",
   "execution_count": 80,
   "id": "00ef3a7a-ff45-4511-aca1-1ca9978291df",
   "metadata": {},
   "outputs": [
    {
     "name": "stdout",
     "output_type": "stream",
     "text": [
      "Accuracy: 0.7419\n",
      "Precision (Class 0): 0.7501 | Precision (Class 1): 0.7340\n",
      "Recall (Class 0): 0.7324 | Recall (Class 1): 0.7516\n",
      "F1 Score (Class 0): 0.7411 | F1 Score (Class 1): 0.7427\n",
      "Specificity: 0.7324\n",
      "Negative Predictive Value (NPV): 0.7501\n",
      "ROC score: 0.8344\n",
      "--------------------------------------------------\n"
     ]
    }
   ],
   "source": [
    "from evaluate_model import evaluate_model\n",
    "from sklearn.metrics import roc_auc_score\n",
    "\n",
    "y_probs = knn.predict_proba(X_test)[:, 1]  \n",
    "roc_score = roc_auc_score(y_test, y_probs)\n",
    "\n",
    "knn_metrics = evaluate_model(\"KNN oversample saga\", y_test, y_pred, roc_score)\n",
    "\n",
    "# Convert to DataFrame\n",
    "knn_df = pd.DataFrame([knn_metrics])\n",
    "\n",
    "knn_df.to_csv(\"knn_un_saga.csv\", index=False)"
   ]
  }
 ],
 "metadata": {
  "kernelspec": {
   "display_name": "Python 3 (ipykernel)",
   "language": "python",
   "name": "python3"
  },
  "language_info": {
   "codemirror_mode": {
    "name": "ipython",
    "version": 3
   },
   "file_extension": ".py",
   "mimetype": "text/x-python",
   "name": "python",
   "nbconvert_exporter": "python",
   "pygments_lexer": "ipython3",
   "version": "3.12.3"
  }
 },
 "nbformat": 4,
 "nbformat_minor": 5
}
