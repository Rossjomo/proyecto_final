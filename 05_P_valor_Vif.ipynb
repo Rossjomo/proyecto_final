{
 "cells": [
  {
   "cell_type": "markdown",
   "id": "711cef5b-bc4f-4afc-bee2-1736b1d80d14",
   "metadata": {
    "jp-MarkdownHeadingCollapsed": true
   },
   "source": [
    "# Importar Librarias y datos"
   ]
  },
  {
   "cell_type": "code",
   "execution_count": 114,
   "id": "2bad4bdd-f124-49e9-b512-a0dfa2e144f8",
   "metadata": {},
   "outputs": [],
   "source": [
    "import pandas as pd\n",
    "import seaborn as sns\n",
    "import matplotlib.pyplot as plt\n",
    "import numpy as np   \n",
    "import itertools\n",
    "\n",
    "from scipy.stats import chi2_contingency, ttest_ind\n",
    "from statsmodels.stats.outliers_influence import variance_inflation_factor\n",
    "import statsmodels.formula.api as smf "
   ]
  },
  {
   "cell_type": "code",
   "execution_count": 115,
   "id": "7f0256f7-064a-4f22-9e3c-c793a64e224a",
   "metadata": {},
   "outputs": [],
   "source": [
    "df_train = pd.read_parquet(\"output_04.parquet\")"
   ]
  },
  {
   "cell_type": "code",
   "execution_count": 116,
   "id": "cc7890d3-1501-47f8-b4c2-4a1fd1b7bf61",
   "metadata": {},
   "outputs": [
    {
     "data": {
      "text/html": [
       "<div>\n",
       "<style scoped>\n",
       "    .dataframe tbody tr th:only-of-type {\n",
       "        vertical-align: middle;\n",
       "    }\n",
       "\n",
       "    .dataframe tbody tr th {\n",
       "        vertical-align: top;\n",
       "    }\n",
       "\n",
       "    .dataframe thead th {\n",
       "        text-align: right;\n",
       "    }\n",
       "</style>\n",
       "<table border=\"1\" class=\"dataframe\">\n",
       "  <thead>\n",
       "    <tr style=\"text-align: right;\">\n",
       "      <th></th>\n",
       "      <th>age</th>\n",
       "      <th>gender</th>\n",
       "      <th>education</th>\n",
       "      <th>marital_status</th>\n",
       "      <th>race</th>\n",
       "      <th>is_hispanic</th>\n",
       "      <th>employment_commitment</th>\n",
       "      <th>employment_stat</th>\n",
       "      <th>wage_per_hour</th>\n",
       "      <th>working_week_per_year</th>\n",
       "      <th>...</th>\n",
       "      <th>tax_status</th>\n",
       "      <th>gains</th>\n",
       "      <th>losses</th>\n",
       "      <th>stocks_status</th>\n",
       "      <th>citizenship</th>\n",
       "      <th>migration_year</th>\n",
       "      <th>country_of_birth_own</th>\n",
       "      <th>migration_code_change_in_msa</th>\n",
       "      <th>migration_code_change_in_reg</th>\n",
       "      <th>income_above_limit</th>\n",
       "    </tr>\n",
       "  </thead>\n",
       "  <tbody>\n",
       "    <tr>\n",
       "      <th>0</th>\n",
       "      <td>79</td>\n",
       "      <td>1</td>\n",
       "      <td>secondary_complete</td>\n",
       "      <td>Widowed</td>\n",
       "      <td>White</td>\n",
       "      <td>All other</td>\n",
       "      <td>Not in labor force</td>\n",
       "      <td>0</td>\n",
       "      <td>0</td>\n",
       "      <td>52</td>\n",
       "      <td>...</td>\n",
       "      <td>Head of household</td>\n",
       "      <td>0</td>\n",
       "      <td>0</td>\n",
       "      <td>292</td>\n",
       "      <td>Native</td>\n",
       "      <td>95</td>\n",
       "      <td>US</td>\n",
       "      <td>?</td>\n",
       "      <td>?</td>\n",
       "      <td>0</td>\n",
       "    </tr>\n",
       "    <tr>\n",
       "      <th>1</th>\n",
       "      <td>65</td>\n",
       "      <td>1</td>\n",
       "      <td>secondary_complete</td>\n",
       "      <td>Widowed</td>\n",
       "      <td>White</td>\n",
       "      <td>All other</td>\n",
       "      <td>Children or Armed Forces</td>\n",
       "      <td>0</td>\n",
       "      <td>0</td>\n",
       "      <td>0</td>\n",
       "      <td>...</td>\n",
       "      <td>Single</td>\n",
       "      <td>0</td>\n",
       "      <td>0</td>\n",
       "      <td>0</td>\n",
       "      <td>Native</td>\n",
       "      <td>94</td>\n",
       "      <td>US</td>\n",
       "      <td>unchanged</td>\n",
       "      <td>unchanged</td>\n",
       "      <td>0</td>\n",
       "    </tr>\n",
       "    <tr>\n",
       "      <th>2</th>\n",
       "      <td>21</td>\n",
       "      <td>0</td>\n",
       "      <td>secondary_incomplete</td>\n",
       "      <td>Never married</td>\n",
       "      <td>Black</td>\n",
       "      <td>All other</td>\n",
       "      <td>Children or Armed Forces</td>\n",
       "      <td>0</td>\n",
       "      <td>500</td>\n",
       "      <td>15</td>\n",
       "      <td>...</td>\n",
       "      <td>Single</td>\n",
       "      <td>0</td>\n",
       "      <td>0</td>\n",
       "      <td>0</td>\n",
       "      <td>Native</td>\n",
       "      <td>94</td>\n",
       "      <td>US</td>\n",
       "      <td>unchanged</td>\n",
       "      <td>unchanged</td>\n",
       "      <td>0</td>\n",
       "    </tr>\n",
       "    <tr>\n",
       "      <th>3</th>\n",
       "      <td>2</td>\n",
       "      <td>1</td>\n",
       "      <td>child</td>\n",
       "      <td>Never married</td>\n",
       "      <td>Asian or Pacific Islander</td>\n",
       "      <td>All other</td>\n",
       "      <td>Children or Armed Forces</td>\n",
       "      <td>0</td>\n",
       "      <td>0</td>\n",
       "      <td>0</td>\n",
       "      <td>...</td>\n",
       "      <td>Nonfiler</td>\n",
       "      <td>0</td>\n",
       "      <td>0</td>\n",
       "      <td>0</td>\n",
       "      <td>Native</td>\n",
       "      <td>94</td>\n",
       "      <td>US</td>\n",
       "      <td>unchanged</td>\n",
       "      <td>unchanged</td>\n",
       "      <td>0</td>\n",
       "    </tr>\n",
       "    <tr>\n",
       "      <th>4</th>\n",
       "      <td>70</td>\n",
       "      <td>0</td>\n",
       "      <td>secondary_complete</td>\n",
       "      <td>Married-civilian spouse present</td>\n",
       "      <td>White</td>\n",
       "      <td>All other</td>\n",
       "      <td>Not in labor force</td>\n",
       "      <td>0</td>\n",
       "      <td>0</td>\n",
       "      <td>0</td>\n",
       "      <td>...</td>\n",
       "      <td>Joint both 65+</td>\n",
       "      <td>0</td>\n",
       "      <td>0</td>\n",
       "      <td>0</td>\n",
       "      <td>Native</td>\n",
       "      <td>95</td>\n",
       "      <td>US</td>\n",
       "      <td>?</td>\n",
       "      <td>?</td>\n",
       "      <td>0</td>\n",
       "    </tr>\n",
       "  </tbody>\n",
       "</table>\n",
       "<p>5 rows × 24 columns</p>\n",
       "</div>"
      ],
      "text/plain": [
       "   age  gender             education                   marital_status  \\\n",
       "0   79       1    secondary_complete                          Widowed   \n",
       "1   65       1    secondary_complete                          Widowed   \n",
       "2   21       0  secondary_incomplete                    Never married   \n",
       "3    2       1                 child                    Never married   \n",
       "4   70       0    secondary_complete  Married-civilian spouse present   \n",
       "\n",
       "                        race is_hispanic     employment_commitment  \\\n",
       "0                      White   All other        Not in labor force   \n",
       "1                      White   All other  Children or Armed Forces   \n",
       "2                      Black   All other  Children or Armed Forces   \n",
       "3  Asian or Pacific Islander   All other  Children or Armed Forces   \n",
       "4                      White   All other        Not in labor force   \n",
       "\n",
       "   employment_stat  wage_per_hour  working_week_per_year  ...  \\\n",
       "0                0              0                     52  ...   \n",
       "1                0              0                      0  ...   \n",
       "2                0            500                     15  ...   \n",
       "3                0              0                      0  ...   \n",
       "4                0              0                      0  ...   \n",
       "\n",
       "          tax_status  gains  losses stocks_status citizenship  migration_year  \\\n",
       "0  Head of household      0       0           292      Native              95   \n",
       "1             Single      0       0             0      Native              94   \n",
       "2             Single      0       0             0      Native              94   \n",
       "3           Nonfiler      0       0             0      Native              94   \n",
       "4     Joint both 65+      0       0             0      Native              95   \n",
       "\n",
       "   country_of_birth_own  migration_code_change_in_msa  \\\n",
       "0                    US                             ?   \n",
       "1                    US                     unchanged   \n",
       "2                    US                     unchanged   \n",
       "3                    US                     unchanged   \n",
       "4                    US                             ?   \n",
       "\n",
       "  migration_code_change_in_reg  income_above_limit  \n",
       "0                            ?                   0  \n",
       "1                    unchanged                   0  \n",
       "2                    unchanged                   0  \n",
       "3                    unchanged                   0  \n",
       "4                            ?                   0  \n",
       "\n",
       "[5 rows x 24 columns]"
      ]
     },
     "execution_count": 116,
     "metadata": {},
     "output_type": "execute_result"
    }
   ],
   "source": [
    "df_train.head()"
   ]
  },
  {
   "cell_type": "markdown",
   "id": "c90773c5-7dff-42e4-ae30-ce9d54836e13",
   "metadata": {
    "jp-MarkdownHeadingCollapsed": true
   },
   "source": [
    "# **P-Valor** "
   ]
  },
  {
   "cell_type": "code",
   "execution_count": 118,
   "id": "1dc98865-4c32-47b5-9d18-d9c34fbe0f4c",
   "metadata": {},
   "outputs": [
    {
     "name": "stdout",
     "output_type": "stream",
     "text": [
      "\n",
      "Estadísticas descriptivas:\n",
      "                 age         gender  employment_stat  wage_per_hour  \\\n",
      "count  209499.000000  209499.000000    209499.000000  209499.000000   \n",
      "mean       34.518728       0.519258         0.176760      55.433487   \n",
      "std        22.306738       0.499630         0.555562     276.757327   \n",
      "min         0.000000       0.000000         0.000000       0.000000   \n",
      "25%        15.000000       0.000000         0.000000       0.000000   \n",
      "50%        33.000000       1.000000         0.000000       0.000000   \n",
      "75%        50.000000       1.000000         0.000000       0.000000   \n",
      "max        90.000000       1.000000         2.000000    9999.000000   \n",
      "\n",
      "       working_week_per_year  occupation_code  total_employed          gains  \\\n",
      "count          209499.000000    209499.000000   209499.000000  209499.000000   \n",
      "mean               23.158850        11.321734        1.956067     435.926887   \n",
      "std                24.397963        14.460839        2.365154    4696.359500   \n",
      "min                 0.000000         0.000000        0.000000       0.000000   \n",
      "25%                 0.000000         0.000000        0.000000       0.000000   \n",
      "50%                 8.000000         0.000000        1.000000       0.000000   \n",
      "75%                52.000000        26.000000        4.000000       0.000000   \n",
      "max                52.000000        46.000000        6.000000   99999.000000   \n",
      "\n",
      "              losses  stocks_status  migration_year  income_above_limit  \n",
      "count  209499.000000  209499.000000   209499.000000       209499.000000  \n",
      "mean       36.881737     194.533420       94.499745            0.062043  \n",
      "std       270.383302    1956.375501        0.500001            0.241235  \n",
      "min         0.000000       0.000000       94.000000            0.000000  \n",
      "25%         0.000000       0.000000       94.000000            0.000000  \n",
      "50%         0.000000       0.000000       94.000000            0.000000  \n",
      "75%         0.000000       0.000000       95.000000            0.000000  \n",
      "max      4608.000000   99999.000000       95.000000            1.000000  \n"
     ]
    }
   ],
   "source": [
    "print(\"\\nEstadísticas descriptivas:\")\n",
    "print(df_train.describe())"
   ]
  },
  {
   "cell_type": "code",
   "execution_count": 119,
   "id": "0a14563c-4613-4f5d-bafe-d7c52d0cf99e",
   "metadata": {},
   "outputs": [],
   "source": [
    "###Este bloque de código genera las estadísticas descriptivas del conjunto de datos, tales como media, mediana, desviación estándar, y valores mínimos y máximos de las columnas numéricas.\n",
    "\n",
    "##Es útil para comprender la dispersión y distribución de los datos."
   ]
  },
  {
   "cell_type": "markdown",
   "id": "4b571b8b-a34f-46ae-8648-db52c8a598f5",
   "metadata": {
    "jp-MarkdownHeadingCollapsed": true
   },
   "source": [
    "# Identificación de columnas numéricas y categóricas\n",
    "\n",
    "En este paso se identifican las columnas numéricas y categóricas dentro del conjunto de datos. Esto es importante para aplicar correctamente los métodos de preprocesamiento, ya que los datos numéricos y categóricos requieren tratamientos diferentes.\n"
   ]
  },
  {
   "cell_type": "code",
   "execution_count": 121,
   "id": "bab63dbe-5f4a-419a-8b47-2f7099d12d3b",
   "metadata": {},
   "outputs": [],
   "source": [
    "# Identificamos las columnas numéricas y categóricas\n",
    "numeric_cols = ['age', 'wage_per_hour', 'working_week_per_year', 'total_employed', 'gains', 'losses', 'income_above_limit']\n",
    "categorical_cols = ['gender', 'education', 'marital_status', 'race', 'is_hispanic', \n",
    "                    'employment_commitment', 'employment_stat', 'industry_code_main', \n",
    "                    'occupation_code', 'household_stat', 'tax_status', 'stocks_status', \n",
    "                    'citizenship', 'country_of_birth_own', 'migration_code_change_in_as', \n",
    "                    'migration_code_change_in_reg']\n"
   ]
  },
  {
   "cell_type": "markdown",
   "id": "eb14469c-8d6e-4314-b150-6f0f3bc0089d",
   "metadata": {
    "jp-MarkdownHeadingCollapsed": true
   },
   "source": [
    "# Transformación de columnas numéricas y categoricas\n",
    "\n",
    "En este paso se implementan dos transformaciones diferentes para las columnas numéricas y categóricas utilizando pipelines de scikit-learn. Estas transformaciones se aplicarán a los datos antes de entrenar el modelo.\n",
    "\n",
    "Para las columnas numéricas y categoricas, se define un pipeline con los siguientes pasos:\n",
    "\n",
    "Imputer (SimpleImputer): Rellena los valores faltantes utilizando la media de cada columna numérica.\n",
    "\n",
    "Scaler (StandardScaler): Estandariza las variables numéricas transformando sus valores para que tengan una media de 0 y una desviación estándar de 1. Esto es importante para garantizar que todas las características numéricas estén en la misma escala y que no dominen aquellas con valores más altos.\n",
    "\n",
    "Imputer (SimpleImputer): Rellena los valores faltantes utilizando la moda (el valor más frecuente) en cada columna categórica.\n",
    "\n",
    "OneHotEncoder: Convierte las variables categóricas en variables dummy (0 y 1) utilizando la codificación One-Hot, eliminando la primera categoría con drop='first' para evitar la multicolinealidad"
   ]
  },
  {
   "cell_type": "code",
   "execution_count": 123,
   "id": "c1f5ed5a-fc69-4ecd-a92e-b3f355724802",
   "metadata": {},
   "outputs": [],
   "source": [
    "# Importar librerías necesarias\n",
    "from sklearn.pipeline import Pipeline\n",
    "from sklearn.preprocessing import StandardScaler, OneHotEncoder\n",
    "from sklearn.impute import SimpleImputer\n",
    "from sklearn.compose import ColumnTransformer\n",
    "import matplotlib.pyplot as plt\n",
    "import seaborn as sns  \n"
   ]
  },
  {
   "cell_type": "code",
   "execution_count": 131,
   "id": "8ca704fc-9df5-4b0c-bec2-0777d3097e9a",
   "metadata": {},
   "outputs": [
    {
     "name": "stdout",
     "output_type": "stream",
     "text": [
      "Lo Logramos :).\n"
     ]
    }
   ],
   "source": [
    "\n",
    "# Definir columnas numéricas y categóricas\n",
    "\n",
    "# Convertir income_above_limit a numérico antes del preprocesamiento\n",
    "#df_train['income_above_limit'] = df_train['income_above_limit'].map({'Yes': 1, 'No': 0})\n",
    "\n",
    "\n",
    "numeric_cols = ['age', 'wage_per_hour', 'working_week_per_year', 'total_employed', 'gains', 'losses', 'income_above_limit']\n",
    "categorical_cols = ['gender', 'education', 'marital_status', 'race', 'is_hispanic', \n",
    "                    'employment_commitment', 'employment_stat', 'industry_code_main', \n",
    "                    'occupation_code', 'household_stat', 'tax_status', 'stocks_status', \n",
    "                    'citizenship', 'country_of_birth_own', 'migration_code_change_in_as', \n",
    "                    'migration_code_change_in_reg',]\n",
    "\n",
    "# Preprocesamiento para columnas numéricas\n",
    "numeric_transformer = Pipeline(steps=[\n",
    "    ('imputer', SimpleImputer(strategy='mean')),  # Imputación con la media\n",
    "    ('scaler', StandardScaler())  # Escalado estándar\n",
    "])\n",
    "\n",
    "# Preprocesamiento para columnas categóricas\n",
    "categorical_transformer = Pipeline(steps=[\n",
    "    ('imputer', SimpleImputer(strategy='most_frequent')),  # Imputación con el valor más frecuente\n",
    "    ('onehot', OneHotEncoder(drop='first'))  # Codificación one-hot\n",
    "])\n",
    "\n",
    "# Transformador de columnas\n",
    "preprocessor = ColumnTransformer(\n",
    "    transformers=[\n",
    "        ('num', numeric_transformer, numeric_cols),\n",
    "        ('cat', categorical_transformer, categorical_cols)\n",
    "    ])\n",
    "\n",
    "# Confirmación de cambios\n",
    "print(\"Lo Logramos :).\")\n"
   ]
  },
  {
   "cell_type": "code",
   "execution_count": 137,
   "id": "72d86ac9-afe2-46cd-8605-7c362b37931a",
   "metadata": {},
   "outputs": [
    {
     "name": "stdout",
     "output_type": "stream",
     "text": [
      "[0 1]\n",
      "int64\n",
      "income_above_limit\n",
      "0    196501\n",
      "1     12998\n",
      "Name: count, dtype: int64\n"
     ]
    }
   ],
   "source": [
    "# Ver los valores únicos de la variable\n",
    "print(df_train['income_above_limit'].unique())\n",
    "\n",
    "\"\"\"\n",
    "# Mapear valores a números\n",
    "df_train['income_above_limit'] = df_train['income_above_limit'].map({\n",
    "    'Below limit': 0,\n",
    "    'Above limit': 1\n",
    "})\n",
    "\"\"\"\n",
    "# Verificar que la conversión fue exitosa\n",
    "print(df_train['income_above_limit'].dtype)\n",
    "print(df_train['income_above_limit'].value_counts())\n",
    "\n",
    "# Eliminar posibles valores NaN resultantes de la conversión\n",
    "df_train = df_train.dropna(subset=['income_above_limit'])\n"
   ]
  },
  {
   "cell_type": "code",
   "execution_count": 139,
   "id": "1fa71551-0b42-4954-a34e-bab308e3b5c3",
   "metadata": {},
   "outputs": [
    {
     "name": "stdout",
     "output_type": "stream",
     "text": [
      "Intercept                                                 0.000000e+00\n",
      "education[T.child]                                        0.000000e+00\n",
      "education[T.primary]                                      0.000000e+00\n",
      "education[T.secondary_complete]                           0.000000e+00\n",
      "education[T.secondary_incomplete]                         0.000000e+00\n",
      "education[T.technical_education/university_incomplete]    0.000000e+00\n",
      "education[T.university_graduate_or_higher]                0.000000e+00\n",
      "marital_status[T.Married-A F spouse present]              1.650806e-02\n",
      "marital_status[T.Married-civilian spouse present]         1.751532e-14\n",
      "marital_status[T.Never married]                           8.657358e-21\n",
      "is_hispanic[T.Central or South American]                  6.412889e-05\n",
      "is_hispanic[T.Mexican (Mexicano)]                         4.858703e-04\n",
      "is_hispanic[T.Mexican-American]                           1.431908e-02\n",
      "is_hispanic[T.Other Spanish]                              1.430185e-02\n",
      "race[T.White]                                             4.707917e-02\n",
      "age                                                       1.723516e-59\n",
      "employment_stat                                           1.867990e-22\n",
      "working_week_per_year                                     0.000000e+00\n",
      "occupation_code                                           0.000000e+00\n",
      "gender                                                    0.000000e+00\n",
      "dtype: float64\n"
     ]
    }
   ],
   "source": [
    "modelo = smf.ols(\n",
    "    formula=\"income_above_limit ~ age + education + marital_status + employment_stat + working_week_per_year + occupation_code + is_hispanic + gender + race\",\n",
    "    data=df_train\n",
    ").fit()\n",
    "\n",
    "# 6. Obtener p-valores\n",
    "p_values = modelo.pvalues\n",
    "significant_vars = p_values[p_values < 0.05]\n",
    "print(significant_vars)"
   ]
  },
  {
   "cell_type": "code",
   "execution_count": 140,
   "id": "043493e5-7cd4-48e9-8f58-d14d127c53c6",
   "metadata": {
    "scrolled": true
   },
   "outputs": [
    {
     "data": {
      "text/plain": [
       "Intercept                                                 0.000000e+00\n",
       "education[T.child]                                        0.000000e+00\n",
       "education[T.primary]                                      0.000000e+00\n",
       "education[T.secondary_complete]                           0.000000e+00\n",
       "education[T.secondary_incomplete]                         0.000000e+00\n",
       "education[T.technical_education/university_incomplete]    0.000000e+00\n",
       "education[T.university_graduate_or_higher]                0.000000e+00\n",
       "marital_status[T.Married-A F spouse present]              1.650806e-02\n",
       "marital_status[T.Married-civilian spouse present]         1.751532e-14\n",
       "marital_status[T.Never married]                           8.657358e-21\n",
       "is_hispanic[T.Central or South American]                  6.412889e-05\n",
       "is_hispanic[T.Mexican (Mexicano)]                         4.858703e-04\n",
       "is_hispanic[T.Mexican-American]                           1.431908e-02\n",
       "is_hispanic[T.Other Spanish]                              1.430185e-02\n",
       "race[T.White]                                             4.707917e-02\n",
       "age                                                       1.723516e-59\n",
       "employment_stat                                           1.867990e-22\n",
       "working_week_per_year                                     0.000000e+00\n",
       "occupation_code                                           0.000000e+00\n",
       "gender                                                    0.000000e+00\n",
       "dtype: float64"
      ]
     },
     "execution_count": 140,
     "metadata": {},
     "output_type": "execute_result"
    }
   ],
   "source": [
    "col_relevantes = modelo.pvalues[modelo.pvalues<0.05]\n",
    "col_relevantes"
   ]
  },
  {
   "cell_type": "markdown",
   "id": "4a1f52f1-e406-4cd0-862d-33914caf5b47",
   "metadata": {
    "jp-MarkdownHeadingCollapsed": true
   },
   "source": [
    "# **Conclusiones del análisis de los p-valores**\n",
    "\n",
    "### La educación y el estado civil tienen un impacto significativo en los ingresos  \n",
    "- Los coeficientes de varias categorías de educación, como **doctorado, maestría, licenciatura y secundaria**, tienen p-valores extremadamente bajos (próximos a 0).  \n",
    "  Esto indica que el nivel educativo tiene una fuerte relación con la probabilidad de superar el límite de ingresos.  \n",
    "- El estado civil también es relevante: estar **casado con cónyuge civil presente** o **nunca haberse casado** son factores significativos.  \n",
    "\n",
    "### El género y la raza también influyen en los ingresos  \n",
    "- **Ser hombre (`gender[T.Male]`)** tiene un p-valor de **0.000000**, lo que sugiere una diferencia significativa en ingresos entre hombres y mujeres.  \n",
    "- La variable **`race[T.White]`** es significativa, aunque con un p-valor más alto (**0.0393**), indicando que la raza puede tener una relación con el nivel de ingresos,  \n",
    "  pero es menos determinante que otras variables como educación o empleo.  \n",
    "\n",
    "###  **Conclusión Final**  \n",
    "La **educación**, el **estado civil**, el **género** y la **ocupación** son los principales factores asociados con ingresos elevados en este modelo. \n"
   ]
  },
  {
   "cell_type": "markdown",
   "id": "d1a8f4c1-1e87-4422-bddb-efc97e9a3e1a",
   "metadata": {
    "jp-MarkdownHeadingCollapsed": true
   },
   "source": [
    "# **Vif**\n"
   ]
  },
  {
   "cell_type": "code",
   "execution_count": 145,
   "id": "2d96cb21-5e89-4d80-978e-eb1f8fe2e855",
   "metadata": {},
   "outputs": [],
   "source": [
    "from sklearn.linear_model import LinearRegression\n",
    "from sklearn.model_selection import train_test_split"
   ]
  },
  {
   "cell_type": "code",
   "execution_count": 149,
   "id": "4df82157-b26c-4026-bd09-29895e775d5d",
   "metadata": {},
   "outputs": [
    {
     "data": {
      "text/plain": [
       "Index(['age', 'gender', 'employment_stat', 'wage_per_hour',\n",
       "       'working_week_per_year', 'occupation_code', 'total_employed', 'gains',\n",
       "       'losses', 'stocks_status', 'migration_year', 'income_above_limit'],\n",
       "      dtype='object')"
      ]
     },
     "execution_count": 149,
     "metadata": {},
     "output_type": "execute_result"
    }
   ],
   "source": [
    "#columnas_numericas = df_heart.select_dtypes(include=['float64', 'int64']).columns\n",
    "columnas = df_train.columns[df_train.dtypes != 'object']\n",
    "# Convertir índices a listas\n",
    "columnas = columnas.tolist()\n",
    "columnas\n",
    "\n",
    "# Analizamos variables numericas del dataset\n",
    "df_continuas = df_train[columnas]\n",
    "df_continuas.columns"
   ]
  },
  {
   "cell_type": "code",
   "execution_count": 151,
   "id": "f5cb258b-149e-4f4a-a4ff-ee73534b8e09",
   "metadata": {},
   "outputs": [
    {
     "data": {
      "text/plain": [
       "{'age': 1.0742732461465767,\n",
       " 'gender': 1.0611866623393869,\n",
       " 'employment_stat': 1.0918333026428886,\n",
       " 'wage_per_hour': 1.0523117969479616,\n",
       " 'working_week_per_year': 3.1731899737573777,\n",
       " 'occupation_code': 1.903715536775807,\n",
       " 'total_employed': 2.302575955716003,\n",
       " 'gains': 1.0750704635161745,\n",
       " 'losses': 1.034489420359212,\n",
       " 'stocks_status': 1.0524702807763373,\n",
       " 'migration_year': 1.0009750548293233,\n",
       " 'income_above_limit': 1.2731050989006856}"
      ]
     },
     "execution_count": 151,
     "metadata": {},
     "output_type": "execute_result"
    }
   ],
   "source": [
    "vif_acum = {}\n",
    "\n",
    "for i in columnas:\n",
    "   \n",
    "    x = df_continuas.loc[:,df_continuas.columns != i]\n",
    "    y = df_continuas.loc[:,i]\n",
    "\n",
    "    lm = LinearRegression()\n",
    "    lm.fit(x, y)\n",
    "    r2 = lm.score(x, y)\n",
    "\n",
    "    vif = (1/(1-r2))\n",
    "    vif_acum[i] = vif\n",
    "\n",
    "vif_acum"
   ]
  },
  {
   "cell_type": "markdown",
   "id": "5d92a5f7-60c2-4b94-a7db-f41cc015bbad",
   "metadata": {},
   "source": [
    "## Conclusiones del Análisis de VIF\n",
    "\n",
    "### No hay signos fuertes de multicolinealidad en la mayoría de las variables  \n",
    "- La mayoría de los valores de **VIF** están por debajo de **5**, lo que indica que las variables no presentan una colinealidad significativa.  \n",
    "- Variables como **age (1.06)**, **wage_per_hour (1.05)**, **gains (1.03)** y **losses (1.02)** tienen valores muy cercanos a **1**, lo que significa que prácticamente no están correlacionadas con otras variables.  \n",
    "- La variable **migration_year** tiene el VIF más bajo (**1.00**), lo que indica que no está influenciada por ninguna otra variable en el conjunto de datos.  \n",
    "\n",
    "### Posible colinealidad moderada en *working_week_per_year*, *total_employed* y *occupation_code*  \n",
    "- **working_week_per_year** tiene un **VIF de 3.03**, el más alto del conjunto, lo que sugiere que puede tener cierta correlación con otras variables, aunque sigue en un rango aceptable.  \n",
    "- **total_employed (2.28)** y **occupation_code (1.79)** también tienen valores algo elevados en comparación con otras variables, lo que podría indicar que comparten información con otras características del modelo.  \n",
    "- Aunque estos valores no son alarmantes, si en un análisis más profundo se detecta impacto en la interpretación del modelo, se podría considerar eliminar una de estas variables o combinar información redundante.  \n",
    "\n"
   ]
  },
  {
   "cell_type": "code",
   "execution_count": null,
   "id": "8f606d83-0bd2-486b-bffc-f1f214134870",
   "metadata": {},
   "outputs": [],
   "source": []
  }
 ],
 "metadata": {
  "kernelspec": {
   "display_name": "Python 3 (ipykernel)",
   "language": "python",
   "name": "python3"
  },
  "language_info": {
   "codemirror_mode": {
    "name": "ipython",
    "version": 3
   },
   "file_extension": ".py",
   "mimetype": "text/x-python",
   "name": "python",
   "nbconvert_exporter": "python",
   "pygments_lexer": "ipython3",
   "version": "3.12.3"
  }
 },
 "nbformat": 4,
 "nbformat_minor": 5
}
