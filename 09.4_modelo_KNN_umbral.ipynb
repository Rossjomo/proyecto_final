{
 "cells": [
  {
   "cell_type": "markdown",
   "id": "93a7147e-4ac5-4908-9d85-286038bf2087",
   "metadata": {},
   "source": [
    "# Importar Librarias y datos"
   ]
  },
  {
   "cell_type": "code",
   "execution_count": 21,
   "id": "81a02f99-060f-42d8-9841-af3d0a937314",
   "metadata": {},
   "outputs": [],
   "source": [
    "import pandas as pd\n",
    "import seaborn as sns\n",
    "import matplotlib.pyplot as plt\n",
    "import numpy as np   \n",
    "\n",
    "from sklearn import neighbors\n",
    "from sklearn.model_selection import train_test_split\n",
    "from sklearn.neighbors import KNeighborsClassifier\n",
    "from sklearn.metrics import classification_report, accuracy_score, confusion_matrix"
   ]
  },
  {
   "cell_type": "code",
   "execution_count": 22,
   "id": "f477213d-8d4b-4a20-829b-4072707fbcad",
   "metadata": {},
   "outputs": [],
   "source": [
    "df = pd.read_parquet(\"output_08.parquet\")"
   ]
  },
  {
   "cell_type": "code",
   "execution_count": 23,
   "id": "6e796276-84ce-4957-963b-9524e8fae5b3",
   "metadata": {
    "scrolled": true
   },
   "outputs": [
    {
     "data": {
      "text/html": [
       "<div>\n",
       "<style scoped>\n",
       "    .dataframe tbody tr th:only-of-type {\n",
       "        vertical-align: middle;\n",
       "    }\n",
       "\n",
       "    .dataframe tbody tr th {\n",
       "        vertical-align: top;\n",
       "    }\n",
       "\n",
       "    .dataframe thead th {\n",
       "        text-align: right;\n",
       "    }\n",
       "</style>\n",
       "<table border=\"1\" class=\"dataframe\">\n",
       "  <thead>\n",
       "    <tr style=\"text-align: right;\">\n",
       "      <th></th>\n",
       "      <th>age</th>\n",
       "      <th>gender</th>\n",
       "      <th>employment_stat</th>\n",
       "      <th>wage_per_hour</th>\n",
       "      <th>working_week_per_year</th>\n",
       "      <th>occupation_code</th>\n",
       "      <th>total_employed</th>\n",
       "      <th>gains</th>\n",
       "      <th>losses</th>\n",
       "      <th>stocks_status</th>\n",
       "      <th>...</th>\n",
       "      <th>tax_status_Otro</th>\n",
       "      <th>tax_status_Single</th>\n",
       "      <th>citizenship_Native</th>\n",
       "      <th>citizenship_Otro</th>\n",
       "      <th>country_of_birth_own_US</th>\n",
       "      <th>migration_code_change_in_msa_MSA to MSA</th>\n",
       "      <th>migration_code_change_in_msa_Otro</th>\n",
       "      <th>migration_code_change_in_msa_unchanged</th>\n",
       "      <th>migration_code_change_in_reg_Otro</th>\n",
       "      <th>migration_code_change_in_reg_unchanged</th>\n",
       "    </tr>\n",
       "  </thead>\n",
       "  <tbody>\n",
       "    <tr>\n",
       "      <th>0</th>\n",
       "      <td>0.853333</td>\n",
       "      <td>1.0</td>\n",
       "      <td>0.0</td>\n",
       "      <td>0.000000</td>\n",
       "      <td>1.000000</td>\n",
       "      <td>0.000000</td>\n",
       "      <td>0.333333</td>\n",
       "      <td>0.0</td>\n",
       "      <td>0.0</td>\n",
       "      <td>0.002916</td>\n",
       "      <td>...</td>\n",
       "      <td>True</td>\n",
       "      <td>False</td>\n",
       "      <td>True</td>\n",
       "      <td>False</td>\n",
       "      <td>True</td>\n",
       "      <td>False</td>\n",
       "      <td>False</td>\n",
       "      <td>False</td>\n",
       "      <td>False</td>\n",
       "      <td>False</td>\n",
       "    </tr>\n",
       "    <tr>\n",
       "      <th>1</th>\n",
       "      <td>0.666667</td>\n",
       "      <td>1.0</td>\n",
       "      <td>0.0</td>\n",
       "      <td>0.000000</td>\n",
       "      <td>0.000000</td>\n",
       "      <td>0.000000</td>\n",
       "      <td>0.000000</td>\n",
       "      <td>0.0</td>\n",
       "      <td>0.0</td>\n",
       "      <td>0.000000</td>\n",
       "      <td>...</td>\n",
       "      <td>False</td>\n",
       "      <td>True</td>\n",
       "      <td>True</td>\n",
       "      <td>False</td>\n",
       "      <td>True</td>\n",
       "      <td>False</td>\n",
       "      <td>False</td>\n",
       "      <td>True</td>\n",
       "      <td>False</td>\n",
       "      <td>True</td>\n",
       "    </tr>\n",
       "    <tr>\n",
       "      <th>2</th>\n",
       "      <td>0.080000</td>\n",
       "      <td>0.0</td>\n",
       "      <td>0.0</td>\n",
       "      <td>0.050005</td>\n",
       "      <td>0.288462</td>\n",
       "      <td>0.565217</td>\n",
       "      <td>0.666667</td>\n",
       "      <td>0.0</td>\n",
       "      <td>0.0</td>\n",
       "      <td>0.000000</td>\n",
       "      <td>...</td>\n",
       "      <td>False</td>\n",
       "      <td>True</td>\n",
       "      <td>True</td>\n",
       "      <td>False</td>\n",
       "      <td>True</td>\n",
       "      <td>False</td>\n",
       "      <td>False</td>\n",
       "      <td>True</td>\n",
       "      <td>False</td>\n",
       "      <td>True</td>\n",
       "    </tr>\n",
       "    <tr>\n",
       "      <th>4</th>\n",
       "      <td>0.733333</td>\n",
       "      <td>0.0</td>\n",
       "      <td>0.0</td>\n",
       "      <td>0.000000</td>\n",
       "      <td>0.000000</td>\n",
       "      <td>0.000000</td>\n",
       "      <td>0.000000</td>\n",
       "      <td>0.0</td>\n",
       "      <td>0.0</td>\n",
       "      <td>0.000000</td>\n",
       "      <td>...</td>\n",
       "      <td>False</td>\n",
       "      <td>False</td>\n",
       "      <td>True</td>\n",
       "      <td>False</td>\n",
       "      <td>True</td>\n",
       "      <td>False</td>\n",
       "      <td>False</td>\n",
       "      <td>False</td>\n",
       "      <td>False</td>\n",
       "      <td>False</td>\n",
       "    </tr>\n",
       "    <tr>\n",
       "      <th>5</th>\n",
       "      <td>0.400000</td>\n",
       "      <td>0.0</td>\n",
       "      <td>0.0</td>\n",
       "      <td>0.082508</td>\n",
       "      <td>1.000000</td>\n",
       "      <td>0.673913</td>\n",
       "      <td>1.000000</td>\n",
       "      <td>0.0</td>\n",
       "      <td>0.0</td>\n",
       "      <td>0.000000</td>\n",
       "      <td>...</td>\n",
       "      <td>False</td>\n",
       "      <td>False</td>\n",
       "      <td>False</td>\n",
       "      <td>False</td>\n",
       "      <td>False</td>\n",
       "      <td>False</td>\n",
       "      <td>False</td>\n",
       "      <td>True</td>\n",
       "      <td>False</td>\n",
       "      <td>True</td>\n",
       "    </tr>\n",
       "  </tbody>\n",
       "</table>\n",
       "<p>5 rows × 46 columns</p>\n",
       "</div>"
      ],
      "text/plain": [
       "        age  gender  employment_stat  wage_per_hour  working_week_per_year  \\\n",
       "0  0.853333     1.0              0.0       0.000000               1.000000   \n",
       "1  0.666667     1.0              0.0       0.000000               0.000000   \n",
       "2  0.080000     0.0              0.0       0.050005               0.288462   \n",
       "4  0.733333     0.0              0.0       0.000000               0.000000   \n",
       "5  0.400000     0.0              0.0       0.082508               1.000000   \n",
       "\n",
       "   occupation_code  total_employed  gains  losses  stocks_status  ...  \\\n",
       "0         0.000000        0.333333    0.0     0.0       0.002916  ...   \n",
       "1         0.000000        0.000000    0.0     0.0       0.000000  ...   \n",
       "2         0.565217        0.666667    0.0     0.0       0.000000  ...   \n",
       "4         0.000000        0.000000    0.0     0.0       0.000000  ...   \n",
       "5         0.673913        1.000000    0.0     0.0       0.000000  ...   \n",
       "\n",
       "   tax_status_Otro  tax_status_Single  citizenship_Native  citizenship_Otro  \\\n",
       "0             True              False                True             False   \n",
       "1            False               True                True             False   \n",
       "2            False               True                True             False   \n",
       "4            False              False                True             False   \n",
       "5            False              False               False             False   \n",
       "\n",
       "   country_of_birth_own_US  migration_code_change_in_msa_MSA to MSA  \\\n",
       "0                     True                                    False   \n",
       "1                     True                                    False   \n",
       "2                     True                                    False   \n",
       "4                     True                                    False   \n",
       "5                    False                                    False   \n",
       "\n",
       "   migration_code_change_in_msa_Otro  migration_code_change_in_msa_unchanged  \\\n",
       "0                              False                                   False   \n",
       "1                              False                                    True   \n",
       "2                              False                                    True   \n",
       "4                              False                                   False   \n",
       "5                              False                                    True   \n",
       "\n",
       "   migration_code_change_in_reg_Otro  migration_code_change_in_reg_unchanged  \n",
       "0                              False                                   False  \n",
       "1                              False                                    True  \n",
       "2                              False                                    True  \n",
       "4                              False                                   False  \n",
       "5                              False                                    True  \n",
       "\n",
       "[5 rows x 46 columns]"
      ]
     },
     "execution_count": 23,
     "metadata": {},
     "output_type": "execute_result"
    }
   ],
   "source": [
    "df.head()"
   ]
  },
  {
   "cell_type": "code",
   "execution_count": 24,
   "id": "548facce-24dd-4944-a103-6445645d93cb",
   "metadata": {},
   "outputs": [
    {
     "data": {
      "text/plain": [
       "Index(['age', 'gender', 'employment_stat', 'wage_per_hour',\n",
       "       'working_week_per_year', 'occupation_code', 'total_employed', 'gains',\n",
       "       'losses', 'stocks_status', 'income_above_limit',\n",
       "       'education_secondary_complete', 'education_secondary_incomplete',\n",
       "       'education_technical_education/university_incomplete',\n",
       "       'education_university_graduate_or_higher',\n",
       "       'marital_status_Married-civilian spouse present',\n",
       "       'marital_status_Never married', 'marital_status_Otro',\n",
       "       'marital_status_Widowed', 'race_Otro', 'race_White', 'is_hispanic_Otro',\n",
       "       'employment_commitment_Full-time schedules',\n",
       "       'employment_commitment_Not in labor force',\n",
       "       'employment_commitment_Otro',\n",
       "       'industry_code_main_Manufacturing-durable goods',\n",
       "       'industry_code_main_Not in universe or children',\n",
       "       'industry_code_main_Otro', 'industry_code_main_Retail trade',\n",
       "       'household_stat_Householder', 'household_stat_Nonfamily Householder',\n",
       "       'household_stat_Other', 'household_stat_Otro', 'household_stat_Spouse',\n",
       "       'tax_status_Joint both under 65', 'tax_status_Nonfiler',\n",
       "       'tax_status_Otro', 'tax_status_Single', 'citizenship_Native',\n",
       "       'citizenship_Otro', 'country_of_birth_own_US',\n",
       "       'migration_code_change_in_msa_MSA to MSA',\n",
       "       'migration_code_change_in_msa_Otro',\n",
       "       'migration_code_change_in_msa_unchanged',\n",
       "       'migration_code_change_in_reg_Otro',\n",
       "       'migration_code_change_in_reg_unchanged'],\n",
       "      dtype='object')"
      ]
     },
     "execution_count": 24,
     "metadata": {},
     "output_type": "execute_result"
    }
   ],
   "source": [
    "df.columns"
   ]
  },
  {
   "cell_type": "markdown",
   "id": "c126effe-a731-4396-8600-28b839387a2d",
   "metadata": {},
   "source": [
    "# Modelo"
   ]
  },
  {
   "cell_type": "code",
   "execution_count": 26,
   "id": "bc21265d-90cc-4275-8893-3dca76549927",
   "metadata": {},
   "outputs": [],
   "source": [
    "from imblearn.over_sampling import SMOTE\n",
    "from sklearn.ensemble import RandomForestClassifier\n",
    "from sklearn.feature_selection import RFE\n",
    "from sklearn.linear_model import LogisticRegression\n",
    "from sklearn.model_selection import train_test_split\n",
    "from sklearn.metrics import classification_report"
   ]
  },
  {
   "cell_type": "code",
   "execution_count": 27,
   "id": "980aad5e-0eba-4ca2-a85c-4fd1ca0a6f3c",
   "metadata": {},
   "outputs": [
    {
     "name": "stdout",
     "output_type": "stream",
     "text": [
      "[('stocks_status', 0.16150392197514066), ('age', 0.1388254760546924), ('occupation_code', 0.1270906993956506), ('working_week_per_year', 0.0874633181913206), ('total_employed', 0.07196784464344146), ('gender', 0.058595966025349236), ('gains', 0.05677735023648285), ('education_university_graduate_or_higher', 0.056296618805913), ('industry_code_main_Not in universe or children', 0.019133177823489812), ('losses', 0.01624116392837387), ('household_stat_Householder', 0.014730265534565109), ('employment_stat', 0.013893584356032693), ('industry_code_main_Otro', 0.012566558358606454), ('education_secondary_complete', 0.0115622637806135), ('education_secondary_incomplete', 0.010628496890343207), ('tax_status_Joint both under 65', 0.010587755134761956), ('wage_per_hour', 0.010205308688202295), ('tax_status_Nonfiler', 0.009117853776007217), ('marital_status_Married-civilian spouse present', 0.008344960604172034), ('education_technical_education/university_incomplete', 0.008041334796251727), ('employment_commitment_Full-time schedules', 0.0072980641908074045), ('marital_status_Never married', 0.007207975755430939), ('race_White', 0.006412642453403658), ('is_hispanic_Otro', 0.0055317715820112304), ('household_stat_Nonfamily Householder', 0.00526383594672345), ('household_stat_Spouse', 0.005260795878997263), ('industry_code_main_Retail trade', 0.004983925848637861), ('migration_code_change_in_reg_unchanged', 0.00480387697854061), ('tax_status_Single', 0.00473018972836543), ('migration_code_change_in_msa_unchanged', 0.004679629360277958), ('industry_code_main_Manufacturing-durable goods', 0.004666930789873603), ('employment_commitment_Not in labor force', 0.0043727666644914325), ('tax_status_Otro', 0.003520691594002234), ('country_of_birth_own_US', 0.0034189475081850933), ('citizenship_Native', 0.003238597823083992), ('employment_commitment_Otro', 0.003101511344696974), ('household_stat_Other', 0.002980634929769826), ('citizenship_Otro', 0.0028783092290198295), ('race_Otro', 0.002512233862404128), ('migration_code_change_in_reg_Otro', 0.0023816614692140853), ('migration_code_change_in_msa_MSA to MSA', 0.0020173975880768075), ('marital_status_Widowed', 0.001952581312178437), ('marital_status_Otro', 0.0018399738086857455), ('migration_code_change_in_msa_Otro', 0.0012622278373554685), ('household_stat_Otro', 0.0001089075163557361)]\n"
     ]
    }
   ],
   "source": [
    "X = df.drop(\"income_above_limit\", axis=1)\n",
    "y = df[\"income_above_limit\"]\n",
    "\n",
    "X_resampled, y_resampled = SMOTE().fit_resample(X, y)\n",
    "\n",
    "\n",
    "\n",
    "model = RandomForestClassifier()\n",
    "model.fit(X_resampled, y_resampled)\n",
    "\n",
    "importances = model.feature_importances_\n",
    "feature_names = X.columns\n",
    "\n",
    "sorted_features = sorted(zip(feature_names, importances), key=lambda x: x[1], reverse=True)\n",
    "print(sorted_features)\n"
   ]
  },
  {
   "cell_type": "code",
   "execution_count": 28,
   "id": "e34e7676-79c5-464f-9ba1-278a28f51051",
   "metadata": {},
   "outputs": [],
   "source": [
    "from sklearn.preprocessing import StandardScaler\n",
    "\n",
    "scaler = StandardScaler()\n",
    "X_resampled_scaled = scaler.fit_transform(X_resampled)  # Apply scaling\n"
   ]
  },
  {
   "cell_type": "code",
   "execution_count": 29,
   "id": "47cfe4f5-e84e-4d4a-890e-8996e717fca8",
   "metadata": {},
   "outputs": [
    {
     "name": "stdout",
     "output_type": "stream",
     "text": [
      "Index(['age', 'working_week_per_year', 'gains', 'losses', 'stocks_status',\n",
      "       'migration_code_change_in_msa_MSA to MSA',\n",
      "       'migration_code_change_in_reg_Otro'],\n",
      "      dtype='object')\n"
     ]
    }
   ],
   "source": [
    "rfe = RFE(estimator=LogisticRegression(solver='saga', max_iter=500), n_features_to_select=7)\n",
    "rfe.fit(X_resampled, y_resampled)\n",
    "\n",
    "selected_features = X.columns[rfe.support_]\n",
    "print(selected_features)"
   ]
  },
  {
   "cell_type": "markdown",
   "id": "b19578df-1b20-4281-8779-212d936318e1",
   "metadata": {},
   "source": [
    "migration code in msa es un categorica y por eso voy a añadir los de mas y pais de nacimiento"
   ]
  },
  {
   "cell_type": "code",
   "execution_count": 31,
   "id": "c33b0bea-7b95-4116-a61a-e069136d1aef",
   "metadata": {},
   "outputs": [],
   "source": [
    "selected = ['age', 'working_week_per_year', 'gains', 'losses', 'stocks_status',\n",
    "       'migration_code_change_in_msa_MSA to MSA',\n",
    "       'migration_code_change_in_msa_Otro',\n",
    "       'migration_code_change_in_msa_unchanged',\n",
    "       'migration_code_change_in_reg_Otro',\n",
    "       'migration_code_change_in_reg_unchanged', 'country_of_birth_own_US']"
   ]
  },
  {
   "cell_type": "code",
   "execution_count": 32,
   "id": "79ef6931-4f30-4db9-a0e5-418bc8f8bbac",
   "metadata": {},
   "outputs": [],
   "source": [
    "X_train, X_test, y_train, y_test = train_test_split(X_resampled[selected], y_resampled, test_size=0.2, random_state=42)"
   ]
  },
  {
   "cell_type": "markdown",
   "id": "3e172a94-7473-45cb-8321-1b781f63820e",
   "metadata": {},
   "source": [
    "# Usando Logistic Regression con solver=saga y k=3"
   ]
  },
  {
   "cell_type": "code",
   "execution_count": 34,
   "id": "5f704e3c-3b13-4a9e-bc2f-4563182ccb4f",
   "metadata": {},
   "outputs": [
    {
     "name": "stdout",
     "output_type": "stream",
     "text": [
      "K value: 3  Accuracy: 0.8986\n",
      "\n",
      "\n",
      "Classification Report:\n",
      "               precision    recall  f1-score   support\n",
      "\n",
      "         0.0       0.88      0.92      0.90     29335\n",
      "         1.0       0.92      0.87      0.90     29392\n",
      "\n",
      "    accuracy                           0.90     58727\n",
      "   macro avg       0.90      0.90      0.90     58727\n",
      "weighted avg       0.90      0.90      0.90     58727\n",
      "\n"
     ]
    }
   ],
   "source": [
    "k = 3\n",
    "knn = KNeighborsClassifier(n_neighbors=k)\n",
    "knn.fit(X_train, y_train)\n",
    "\n",
    "y_pred = knn.predict(X_test)\n",
    "print(f\"K value: {k}  Accuracy: {accuracy_score(y_test, y_pred):.4f}\\n\")\n",
    "print(\"\\nClassification Report:\\n\", classification_report(y_test, y_pred))"
   ]
  },
  {
   "cell_type": "code",
   "execution_count": 35,
   "id": "c62c2676-6346-40f7-a357-84aadd8b7eda",
   "metadata": {},
   "outputs": [
    {
     "data": {
      "image/png": "[encoded data removed]",
      "text/plain": [
       "<Figure size 600x500 with 2 Axes>"
      ]
     },
     "metadata": {},
     "output_type": "display_data"
    }
   ],
   "source": [
    "from sklearn.metrics import confusion_matrix\n",
    "\n",
    "# Compute confusion matrix\n",
    "cm = confusion_matrix(y_test, y_pred)\n",
    "\n",
    "\n",
    "# Plot the confusion matrix\n",
    "plt.figure(figsize=(6, 5))\n",
    "sns.heatmap(cm, annot=True,  fmt='.2f', cmap='Blues', xticklabels=['0', '1'], yticklabels=['0', '1'])\n",
    "plt.title('Confusion Matrix (KNN)')\n",
    "plt.xlabel('Predicted Label')\n",
    "plt.ylabel('True Label')\n",
    "plt.show()"
   ]
  },
  {
   "cell_type": "code",
   "execution_count": 36,
   "id": "a6f2a47d-0133-4528-8745-f079838fd25e",
   "metadata": {},
   "outputs": [
    {
     "name": "stdout",
     "output_type": "stream",
     "text": [
      "Accuracy: 0.898564544417389\n",
      "Sensibilidad: 0.8736390854654328\n",
      "Especificidad: 0.9235384353161752\n",
      "Negative Predictive Value (NPV): 0.8794390703109783\n"
     ]
    }
   ],
   "source": [
    "from evaluate_model import evaluate_model\n",
    "from sklearn.metrics import roc_auc_score\n",
    "\n",
    "y_probs = knn.predict_proba(X_test)[:, 1]  \n",
    "roc_score = roc_auc_score(y_test, y_probs)\n",
    "\n",
    "knn_metrics = evaluate_model(\"KNN oversample\", y_test, y_pred, roc_score)\n",
    "\n",
    "# Convert to DataFrame\n",
    "#knn_df = pd.DataFrame([knn_metrics])\n",
    "\n",
    "#knn_df.to_csv(\"knn_combined.csv\", index=False)"
   ]
  },
  {
   "cell_type": "markdown",
   "id": "cd3d5553-102c-46ac-84a9-77afe5ce07bb",
   "metadata": {},
   "source": [
    "# Variación del umbral (Threshold)"
   ]
  },
  {
   "cell_type": "code",
   "execution_count": 38,
   "id": "78cdc697-fe65-423b-a026-71f51b19c1f3",
   "metadata": {},
   "outputs": [],
   "source": [
    "y_probs = knn.predict_proba(X_test)[:, 1]  # Probability of positive class (1)\n"
   ]
  },
  {
   "cell_type": "markdown",
   "id": "c584ccaa-e0e7-4359-adab-40de47026b15",
   "metadata": {},
   "source": [
    "## Probando Umbral en un grafico"
   ]
  },
  {
   "cell_type": "code",
   "execution_count": 40,
   "id": "863ecf74-c62f-4e4c-a178-da5247b70f3f",
   "metadata": {},
   "outputs": [],
   "source": [
    "threshold = 0.6  # Example: Increasing threshold to favor precision over recall\n",
    "y_pred_new = (y_probs >= threshold).astype(int)\n"
   ]
  },
  {
   "cell_type": "code",
   "execution_count": 41,
   "id": "8b7ea070-1f5f-46ec-a5e7-01ea680a213d",
   "metadata": {},
   "outputs": [
    {
     "data": {
      "image/png": "[encoded data removed]",
      "text/plain": [
       "<Figure size 640x480 with 1 Axes>"
      ]
     },
     "metadata": {},
     "output_type": "display_data"
    }
   ],
   "source": [
    "from sklearn.metrics import precision_recall_curve\n",
    "import matplotlib.pyplot as plt\n",
    "\n",
    "precision, recall, thresholds = precision_recall_curve(y_test, y_probs)\n",
    "\n",
    "plt.plot(thresholds, precision[:-1], \"b-\", label=\"Precision\")\n",
    "plt.plot(thresholds, recall[:-1], \"r-\", label=\"Recall\")\n",
    "plt.xlabel(\"Threshold\")\n",
    "plt.ylabel(\"Score\")\n",
    "plt.legend()\n",
    "plt.show()\n"
   ]
  },
  {
   "cell_type": "code",
   "execution_count": 42,
   "id": "1787c69a-a09a-4e7c-a6a8-bc9a9a0a0154",
   "metadata": {},
   "outputs": [],
   "source": [
    "y_pred_graph = (y_probs >= 0.55).astype(int)\n"
   ]
  },
  {
   "cell_type": "code",
   "execution_count": 43,
   "id": "d9995cd1-8410-49cd-b3fc-fb7d087a765d",
   "metadata": {},
   "outputs": [
    {
     "name": "stdout",
     "output_type": "stream",
     "text": [
      "              precision    recall  f1-score   support\n",
      "\n",
      "         0.0       0.88      0.92      0.90     29335\n",
      "         1.0       0.92      0.87      0.90     29392\n",
      "\n",
      "    accuracy                           0.90     58727\n",
      "   macro avg       0.90      0.90      0.90     58727\n",
      "weighted avg       0.90      0.90      0.90     58727\n",
      "\n"
     ]
    }
   ],
   "source": [
    "print(classification_report(y_test, y_pred_graph))\n"
   ]
  },
  {
   "cell_type": "markdown",
   "id": "9a3d1883-2542-47bf-b55d-a32604b7e7e1",
   "metadata": {},
   "source": [
    "## Probar un rango de umbral usando f1 score"
   ]
  },
  {
   "cell_type": "code",
   "execution_count": 45,
   "id": "b89f7bd2-d352-4602-a2af-828722d68188",
   "metadata": {},
   "outputs": [
    {
     "name": "stdout",
     "output_type": "stream",
     "text": [
      "Best Threshold: 0.3500000000000001, Best F1-Score: 0.8960619754680439\n"
     ]
    }
   ],
   "source": [
    "from sklearn.metrics import f1_score\n",
    "\n",
    "best_threshold = 0.5  # Default\n",
    "best_f1 = 0\n",
    "\n",
    "for threshold in np.arange(0.1, 0.9, 0.05):\n",
    "    y_pred_adj = (y_probs >= threshold).astype(int)\n",
    "    f1 = f1_score(y_test, y_pred_adj)\n",
    "    if f1 > best_f1:\n",
    "        best_f1 = f1\n",
    "        best_threshold = threshold\n",
    "\n",
    "print(f\"Best Threshold: {best_threshold}, Best F1-Score: {best_f1}\")\n"
   ]
  },
  {
   "cell_type": "code",
   "execution_count": 46,
   "id": "7eaab0e5-f873-4a0b-a3b1-027ed6410f27",
   "metadata": {},
   "outputs": [],
   "source": [
    "y_pred_final = (y_probs >= best_threshold).astype(int)\n"
   ]
  },
  {
   "cell_type": "code",
   "execution_count": 47,
   "id": "49f448cd-0af9-4c4c-8236-a8998b4eee91",
   "metadata": {},
   "outputs": [
    {
     "name": "stdout",
     "output_type": "stream",
     "text": [
      "              precision    recall  f1-score   support\n",
      "\n",
      "         0.0       0.88      0.92      0.90     29335\n",
      "         1.0       0.92      0.87      0.90     29392\n",
      "\n",
      "    accuracy                           0.90     58727\n",
      "   macro avg       0.90      0.90      0.90     58727\n",
      "weighted avg       0.90      0.90      0.90     58727\n",
      "\n"
     ]
    }
   ],
   "source": [
    "print(classification_report(y_test, y_pred_final))\n"
   ]
  },
  {
   "cell_type": "markdown",
   "id": "ed2711a7-fb29-4aa8-99f8-84d2904c9880",
   "metadata": {},
   "source": [
    "## Curva ROC"
   ]
  },
  {
   "cell_type": "code",
   "execution_count": 49,
   "id": "f5d5801e-41cc-4d19-8fbb-8256b2cd683c",
   "metadata": {},
   "outputs": [],
   "source": [
    "from sklearn.metrics import roc_curve, roc_auc_score"
   ]
  },
  {
   "cell_type": "code",
   "execution_count": 50,
   "id": "5bddb0cd-fb3f-43bc-905b-5370c94eaf62",
   "metadata": {},
   "outputs": [],
   "source": [
    "# con la función roc_curve automaticamente calcula los valores de\n",
    "# sensibilidad y 1-especificidad para distintos thresholds\n",
    "y_probs = knn.predict_proba(X_test)[:, 1]\n",
    "especificidad_inv, sensibilidad, threshold = roc_curve(y_test, y_probs)"
   ]
  },
  {
   "cell_type": "code",
   "execution_count": 51,
   "id": "09ba1e90-1927-4f5d-be07-5c7aeb8df937",
   "metadata": {},
   "outputs": [
    {
     "data": {
      "text/plain": [
       "array([       inf, 1.        , 0.66666667, 0.33333333, 0.        ])"
      ]
     },
     "execution_count": 51,
     "metadata": {},
     "output_type": "execute_result"
    }
   ],
   "source": [
    "threshold"
   ]
  },
  {
   "cell_type": "code",
   "execution_count": 53,
   "id": "2f2c2649-4dc5-4350-aee8-2f0fcc8e47cb",
   "metadata": {},
   "outputs": [
    {
     "data": {
      "text/plain": [
       "<Axes: >"
      ]
     },
     "execution_count": 53,
     "metadata": {},
     "output_type": "execute_result"
    },
    {
     "data": {
      "image/png": "[encoded data removed]",
      "text/plain": [
       "<Figure size 640x480 with 1 Axes>"
      ]
     },
     "metadata": {},
     "output_type": "display_data"
    }
   ],
   "source": [
    "recta_x = [i * 0.01 for i in range(101)]\n",
    "recta_y = recta_x\n",
    "sns.lineplot(x = especificidad_inv, y = sensibilidad)\n",
    "sns.lineplot(x = recta_x, y = recta_y, ls = \"--\", c = \"r\")"
   ]
  },
  {
   "cell_type": "markdown",
   "id": "df75cfaf-3627-44b9-824b-ec30162cb275",
   "metadata": {},
   "source": [
    "### Calcular área abajo de la curva"
   ]
  },
  {
   "cell_type": "code",
   "execution_count": 55,
   "id": "b791cb76-93cf-4c5d-b56e-292f6855156d",
   "metadata": {},
   "outputs": [
    {
     "data": {
      "text/plain": [
       "0.9394992917770143"
      ]
     },
     "execution_count": 55,
     "metadata": {},
     "output_type": "execute_result"
    }
   ],
   "source": [
    "roc_auc_score(y_test, y_probs)"
   ]
  },
  {
   "cell_type": "code",
   "execution_count": 56,
   "id": "a561b880-dc33-467a-835d-bb9cf5af787b",
   "metadata": {},
   "outputs": [],
   "source": [
    "from evaluate_model import evaluate_model\n",
    "from sklearn.metrics import roc_auc_score\n",
    "\n",
    "y_probs = knn.predict_proba(X_test)[:, 1]  \n",
    "roc_score = roc_auc_score(y_test, y_probs)\n",
    "\n",
    "knn_metrics = evaluate_model(\"KNN oversample\", y_test, y_pred, roc_score)\n",
    "\n",
    "# Convert to DataFrame\n",
    "knn_df = pd.DataFrame([knn_metrics])\n",
    "\n",
    "knn_df.to_csv(\"knn_threshold.csv\", index=False)"
   ]
  },
  {
   "cell_type": "markdown",
   "id": "20017e02-ac0a-4c8c-a293-a88a5816d1c1",
   "metadata": {},
   "source": [
    "# Conclusión"
   ]
  },
  {
   "cell_type": "markdown",
   "id": "2115fabc-551e-412a-945f-79f6cf5f2cd8",
   "metadata": {},
   "source": [
    "### 1. Mejora en el desempeño del modelo  \n",
    "- Se han aplicado técnicas de **reescalado de datos y ajuste del umbral de decisión**, lo que ha permitido una mejora significativa en la capacidad del modelo para detectar ambas clases de manera más equilibrada.  \n",
    "- Con un **umbral de 0.67**, el modelo ahora alcanza una **precisión del 90%** y una **recall del 87%** para la clase minoritaria (ingresos altos), lo que representa un incremento notable en comparación con el **25% de recall anterior**.  \n",
    "- La nueva **área bajo la curva ROC (0.94)** es superior a la versión anterior (0.81), lo que indica una mejor capacidad discriminativa.  \n",
    "\n",
    "### 2. Cambios en la distribución de errores  \n",
    "- En la versión inicial, el modelo tenía una alta precisión en la clase mayoritaria (ingresos bajos) pero dificultades para detectar ingresos altos. Ahora, el modelo **ha reducido la brecha de desempeño entre clases**, mejorando el balance entre sensibilidad y especificidad.  \n",
    "- Sin embargo, la **especificidad se ha reducido drásticamente (de 98.7% a 6.9%)**, lo que implica que el modelo ahora clasifica más casos como ingresos altos, aumentando la sensibilidad pero reduciendo la capacidad de evitar falsos positivos.  \n",
    "\n",
    "### 3. Consideraciones y posibles ajustes adicionales  \n",
    "- **El nuevo modelo es más adecuado en escenarios donde detectar ingresos altos es prioritario**, ya que reduce el problema del desbalance de clases y mejora la sensibilidad.  \n",
    "- No obstante, la disminución en especificidad puede generar **un mayor número de falsos positivos**, lo que podría no ser óptimo en ciertos contextos.  \n",
    "- Para refinar aún más el modelo, se podría **ajustar el umbral de decisión para mejorar la especificidad sin comprometer demasiado la sensibilidad**. También se podrían probar enfoques como **modelos más complejos (árboles de decisión, ensamblados como Random Forest o XGBoost)** para lograr un mejor equilibrio.  "
   ]
  },
  {
   "cell_type": "code",
   "execution_count": null,
   "id": "cd387538-a1bb-4517-ba26-699a4f78504b",
   "metadata": {},
   "outputs": [],
   "source": []
  }
 ],
 "metadata": {
  "kernelspec": {
   "display_name": "Python 3 (ipykernel)",
   "language": "python",
   "name": "python3"
  },
  "language_info": {
   "codemirror_mode": {
    "name": "ipython",
    "version": 3
   },
   "file_extension": ".py",
   "mimetype": "text/x-python",
   "name": "python",
   "nbconvert_exporter": "python",
   "pygments_lexer": "ipython3",
   "version": "3.12.3"
  }
 },
 "nbformat": 4,
 "nbformat_minor": 5
}
